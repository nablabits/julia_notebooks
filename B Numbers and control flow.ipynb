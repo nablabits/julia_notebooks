{
 "cells": [
  {
   "cell_type": "markdown",
   "metadata": {
    "colab_type": "text",
    "id": "n1exnPNvtsvh"
   },
   "source": [
    "# Numbers"
   ]
  },
  {
   "cell_type": "code",
   "execution_count": null,
   "metadata": {
    "colab": {
     "base_uri": "https://localhost:8080/",
     "height": 34
    },
    "colab_type": "code",
    "id": "NKscy9dmtsk8",
    "outputId": "c2d56a0e-fe2b-4244-9886-8038a554561f"
   },
   "outputs": [],
   "source": [
    "i = 42 # 64-bit integer\n",
    "f = 3.14 # 64-bit float\n",
    "c = 3.4 + 4.5im # 128-bit complex number\n",
    "\n",
    "bi = BigInt(2)^1000 # arbitrarily long integer\n",
    "bf = BigFloat(1) / 7 # arbitrary precision\n",
    "\n",
    "r = 15//6 * 9//20 # rational number"
   ]
  },
  {
   "cell_type": "markdown",
   "metadata": {
    "colab_type": "text",
    "id": "PzLbmPApyPLc"
   },
   "source": [
    "And the equivalent Python code:\n",
    "\n",
    "```python\n",
    "# PYTHON\n",
    "i = 42\n",
    "f = 3.14\n",
    "c = 3.4 + 4.5j\n",
    "\n",
    "bi = 2**1000 # integers are seemlessly promoted to long integers\n",
    "from decimal import Decimal\n",
    "bf = Decimal(1) / 7\n",
    "\n",
    "from fractions import Fraction\n",
    "r = Fraction(15, 6) * Fraction(9, 20)\n",
    "```"
   ]
  },
  {
   "cell_type": "markdown",
   "metadata": {
    "colab_type": "text",
    "id": "obkfXw_LAZ2B"
   },
   "source": [
    "Dividing integers gives floats, like in Python:"
   ]
  },
  {
   "cell_type": "code",
   "execution_count": null,
   "metadata": {
    "colab": {
     "base_uri": "https://localhost:8080/",
     "height": 34
    },
    "colab_type": "code",
    "id": "MQ_YTxNgAiLA",
    "outputId": "200668cf-170e-4b94-e396-04f28b2763e3"
   },
   "outputs": [],
   "source": [
    "5 / 2"
   ]
  },
  {
   "cell_type": "markdown",
   "metadata": {
    "colab_type": "text",
    "id": "lqAUqZqNAkhb"
   },
   "source": [
    "For integer division, use `÷` or `div()`:"
   ]
  },
  {
   "cell_type": "code",
   "execution_count": null,
   "metadata": {
    "colab": {
     "base_uri": "https://localhost:8080/",
     "height": 34
    },
    "colab_type": "code",
    "id": "xPkuXvQHArxo",
    "outputId": "9b6f55ee-8156-410f-c1d9-96b23fb28257"
   },
   "outputs": [],
   "source": [
    "5 ÷ 2"
   ]
  },
  {
   "cell_type": "code",
   "execution_count": null,
   "metadata": {
    "colab": {
     "base_uri": "https://localhost:8080/",
     "height": 34
    },
    "colab_type": "code",
    "id": "Bg26ib-cAtoF",
    "outputId": "57d7c812-2c11-4321-b07d-e0bb13db42eb"
   },
   "outputs": [],
   "source": [
    "div(5, 2)"
   ]
  },
  {
   "cell_type": "markdown",
   "metadata": {
    "colab_type": "text",
    "id": "GwsmLJ4kAvLQ"
   },
   "source": [
    "The `%` operator is the remainder, not the modulo like in Python. These differ only for negative numbers:"
   ]
  },
  {
   "cell_type": "code",
   "execution_count": null,
   "metadata": {
    "colab": {
     "base_uri": "https://localhost:8080/",
     "height": 34
    },
    "colab_type": "code",
    "id": "BqYAfPWBA5UZ",
    "outputId": "e31c0b26-8a63-429a-dd76-2f858dcc8aa8"
   },
   "outputs": [],
   "source": [
    "57 % 10"
   ]
  },
  {
   "cell_type": "code",
   "execution_count": null,
   "metadata": {
    "colab": {
     "base_uri": "https://localhost:8080/",
     "height": 34
    },
    "colab_type": "code",
    "id": "i_0nKGW0A8TZ",
    "outputId": "b0304f83-ea7d-4c4b-ff8b-724fd44fbb25"
   },
   "outputs": [],
   "source": [
    "(-57) % 10"
   ]
  },
  {
   "cell_type": "markdown",
   "metadata": {
    "colab_type": "text",
    "id": "5euGtSBl95e_"
   },
   "source": [
    "|Julia|Python\n",
    "|-----|------\n",
    "|`3.4 + 4.5im` | `3.4 + 4.5j`\n",
    "|`BigInt(2)^1000` | `2**1000`\n",
    "|`BigFloat(3.14)` | `from decimal import Decimal`<br />`Decimal(3.14)`\n",
    "|`9//8` | `from fractions import Fraction`<br />`Fraction(9, 8)`\n",
    "|`5/2 == 2.5` | `5/2 == 2.5`\n",
    "|`5÷2 == 2`<br />or<br />`div(5, 2)` | `5//2 == 2`\n",
    "|`57%10 == 7` | `57%10 == 7`\n",
    "|`(-57)%10 == -7` | `(-57)%10 == 3`\n"
   ]
  },
  {
   "cell_type": "markdown",
   "metadata": {
    "colab_type": "text",
    "id": "koGxWy1D1nd2"
   },
   "source": [
    "# Strings\n",
    "Julia strings use double quotes `\"` or triple quotes `\"\"\"`, but not single quotes `'`:"
   ]
  },
  {
   "cell_type": "code",
   "execution_count": null,
   "metadata": {
    "colab": {
     "base_uri": "https://localhost:8080/",
     "height": 34
    },
    "colab_type": "code",
    "id": "cAJ5W9PstsbQ",
    "outputId": "5ab7b606-a752-4056-a569-4f8d6c47d527"
   },
   "outputs": [],
   "source": [
    "s = \"ångström\" # Julia strings are UTF-8 encoded by default\n",
    "println(s)"
   ]
  },
  {
   "cell_type": "code",
   "execution_count": null,
   "metadata": {
    "colab": {
     "base_uri": "https://localhost:8080/",
     "height": 136
    },
    "colab_type": "code",
    "id": "_7bPa-W7c3dZ",
    "outputId": "e8d63396-c27f-4371-cb2f-c97630ea37d9"
   },
   "outputs": [],
   "source": [
    "s = \"Julia strings\n",
    "     can span\n",
    "     several lines\\n\\n\n",
    "     and they support the \\\"usual\\\" escapes like\n",
    "     \\x41, \\u5bb6, and \\U0001f60a!\"\n",
    "println(s)"
   ]
  },
  {
   "cell_type": "markdown",
   "metadata": {
    "colab_type": "text",
    "id": "Sr6f6JBzfsc_"
   },
   "source": [
    "Use `repeat()` instead of `*` to repeat a string, and use `*` instead of `+` for concatenation:"
   ]
  },
  {
   "cell_type": "code",
   "execution_count": null,
   "metadata": {
    "colab": {
     "base_uri": "https://localhost:8080/",
     "height": 34
    },
    "colab_type": "code",
    "id": "R52WXKlMc5h9",
    "outputId": "a0e54fd7-6a51-4a8f-bade-0f0ed05453e6"
   },
   "outputs": [],
   "source": [
    "s = repeat(\"tick, \", 10) * \"BOOM!\"\n",
    "println(s)"
   ]
  },
  {
   "cell_type": "markdown",
   "metadata": {
    "colab_type": "text",
    "id": "1QvDoWolgC1v"
   },
   "source": [
    "The equivalent Python code is:\n",
    "\n",
    "```python\n",
    "# PYTHON\n",
    "s = \"tick, \" * 10 + \"BOOM!\"\n",
    "print(s)\n",
    "```"
   ]
  },
  {
   "cell_type": "markdown",
   "metadata": {
    "colab_type": "text",
    "id": "UULsUFcTgPXN"
   },
   "source": [
    "Use `join(a, s)` instead of `s.join(a)`:"
   ]
  },
  {
   "cell_type": "code",
   "execution_count": null,
   "metadata": {
    "colab": {
     "base_uri": "https://localhost:8080/",
     "height": 34
    },
    "colab_type": "code",
    "id": "pMZNYWTxd3N2",
    "outputId": "5f2f92ea-ffa8-4921-8cc0-3dbd30e32df6"
   },
   "outputs": [],
   "source": [
    "s = join([i for i in 1:4], \", \")\n",
    "println(s)"
   ]
  },
  {
   "cell_type": "markdown",
   "metadata": {
    "colab_type": "text",
    "id": "ejbvMUySgaTn"
   },
   "source": [
    "You can also specify a string for the last join:"
   ]
  },
  {
   "cell_type": "code",
   "execution_count": null,
   "metadata": {
    "colab": {
     "base_uri": "https://localhost:8080/",
     "height": 34
    },
    "colab_type": "code",
    "id": "wRx3SN5fdWFf",
    "outputId": "b315457d-8396-4a64-bac0-5a3d9cd62e6d"
   },
   "outputs": [],
   "source": [
    "s = join([i for i in 1:4], \", \", \" and \")"
   ]
  },
  {
   "cell_type": "markdown",
   "metadata": {
    "colab_type": "text",
    "id": "GJAbtqLg6T5s"
   },
   "source": [
    "`split()` works as you might expect:"
   ]
  },
  {
   "cell_type": "code",
   "execution_count": null,
   "metadata": {
    "colab": {
     "base_uri": "https://localhost:8080/",
     "height": 85
    },
    "colab_type": "code",
    "id": "Kqkgq7IA6FWl",
    "outputId": "b643e473-567f-4fef-af07-8adb43988c5e"
   },
   "outputs": [],
   "source": [
    "split(\"   one    three     four   \")"
   ]
  },
  {
   "cell_type": "code",
   "execution_count": null,
   "metadata": {
    "colab": {
     "base_uri": "https://localhost:8080/",
     "height": 102
    },
    "colab_type": "code",
    "id": "3cy_kYpZ6A7U",
    "outputId": "65b74313-1a2e-4b36-fe58-024d763f9177"
   },
   "outputs": [],
   "source": [
    "split(\"one,,three,four!\", \",\")"
   ]
  },
  {
   "cell_type": "code",
   "execution_count": null,
   "metadata": {
    "colab": {
     "base_uri": "https://localhost:8080/",
     "height": 34
    },
    "colab_type": "code",
    "id": "gdI7lnQ6n7RD",
    "outputId": "6298636f-a23d-4562-fc89-bcc63a5290f2"
   },
   "outputs": [],
   "source": [
    "occursin(\"sip\", \"Mississippi\")"
   ]
  },
  {
   "cell_type": "code",
   "execution_count": null,
   "metadata": {
    "colab": {
     "base_uri": "https://localhost:8080/",
     "height": 34
    },
    "colab_type": "code",
    "id": "gnLjg6UpvKrL",
    "outputId": "27ddb703-0ebb-42f4-ee83-6bb791a91642"
   },
   "outputs": [],
   "source": [
    "replace(\"I like coffee\", \"coffee\" => \"tea\")"
   ]
  },
  {
   "cell_type": "markdown",
   "metadata": {
    "colab_type": "text",
    "id": "_dMkcaL4gm_n"
   },
   "source": [
    "Triple quotes work a bit like in Python, but they also remove indentation and ignore the first line feed:"
   ]
  },
  {
   "cell_type": "code",
   "execution_count": null,
   "metadata": {
    "colab": {
     "base_uri": "https://localhost:8080/",
     "height": 170
    },
    "colab_type": "code",
    "id": "7Qc3Nn81ed3j",
    "outputId": "862384c3-eab6-45e7-9ac4-1232e44ca1da"
   },
   "outputs": [],
   "source": [
    "s = \"\"\"\n",
    "       1. the first line feed is ignored if it immediately follows \\\"\"\"\n",
    "       2. triple quotes let you use \"quotes\" easily\n",
    "       3. indentation is ignored\n",
    "           - up to left-most character\n",
    "           - ignoring the first line (the one with \\\"\"\")\n",
    "       4. the final line feed it n̲o̲t̲ ignored\n",
    "       \"\"\"\n",
    "println(\"<start>\")\n",
    "println(s)\n",
    "println(\"<end>\")"
   ]
  },
  {
   "cell_type": "markdown",
   "metadata": {
    "colab_type": "text",
    "id": "T0cx6rWpjIzc"
   },
   "source": [
    "## String Interpolation\n",
    "String interpolation uses `$variable` and `$(expression)`:"
   ]
  },
  {
   "cell_type": "code",
   "execution_count": null,
   "metadata": {
    "colab": {
     "base_uri": "https://localhost:8080/",
     "height": 34
    },
    "colab_type": "code",
    "id": "-Nl2AlRvg2c_",
    "outputId": "87f3441e-8c54-476d-fc8a-42e5f7d12ee7"
   },
   "outputs": [],
   "source": [
    "total = 1 + 2 + 3\n",
    "s = \"1 + 2 + 3 = $total = $(1 + 2 + 3)\"\n",
    "println(s)"
   ]
  },
  {
   "cell_type": "markdown",
   "metadata": {
    "colab_type": "text",
    "id": "NToitF2YjRP1"
   },
   "source": [
    "This means you must escape the `$` sign:"
   ]
  },
  {
   "cell_type": "code",
   "execution_count": null,
   "metadata": {
    "colab": {
     "base_uri": "https://localhost:8080/",
     "height": 34
    },
    "colab_type": "code",
    "id": "AUeXBJIdjUmB",
    "outputId": "f5314342-fc33-4e88-d7ab-47dbf0da0f44"
   },
   "outputs": [],
   "source": [
    "s = \"The car costs \\$10,000\"\n",
    "println(s)"
   ]
  },
  {
   "cell_type": "markdown",
   "metadata": {
    "colab_type": "text",
    "id": "fk8BuKKtjhmo"
   },
   "source": [
    "## Raw Strings\n",
    "Raw strings use `raw\"...\"` instead of `r\"...\"`:"
   ]
  },
  {
   "cell_type": "code",
   "execution_count": null,
   "metadata": {
    "colab": {
     "base_uri": "https://localhost:8080/",
     "height": 68
    },
    "colab_type": "code",
    "id": "KQ9U5Ivai86F",
    "outputId": "affa9e72-fe9f-4d9a-a1c9-e40a8e56f071"
   },
   "outputs": [],
   "source": [
    "s = raw\"In a raw string, you only need to escape quotes \\\", but not\n",
    "        $ or \\. There is one exception, however: the backslash \\\n",
    "        must be escaped if it's just before quotes like \\\\\\\".\"\n",
    "println(s)"
   ]
  },
  {
   "cell_type": "code",
   "execution_count": null,
   "metadata": {
    "colab": {
     "base_uri": "https://localhost:8080/",
     "height": 119
    },
    "colab_type": "code",
    "id": "0cqdV9lJkclw",
    "outputId": "5362df3e-1b58-4768-abfc-5ad63c3b1b5d"
   },
   "outputs": [],
   "source": [
    "s = raw\"\"\"\n",
    "   Triple quoted raw strings are possible too: $, \\, \\t, \"\n",
    "     - They handle indentation and the first line feed like regular\n",
    "       triple quoted strings.\n",
    "     - You only need to escape triple quotes like \\\"\"\", and the\n",
    "       backslash before quotes like \\\\\".\n",
    "   \"\"\"\n",
    "println(s)"
   ]
  },
  {
   "cell_type": "markdown",
   "metadata": {
    "colab_type": "text",
    "id": "U5eOtwDalgw-"
   },
   "source": [
    "## Characters\n",
    "Single quotes are used for individual Unicode characters:"
   ]
  },
  {
   "cell_type": "code",
   "execution_count": null,
   "metadata": {
    "colab": {
     "base_uri": "https://localhost:8080/",
     "height": 34
    },
    "colab_type": "code",
    "id": "PnNfVRZx2CsU",
    "outputId": "83715a7f-c100-45ad-a13f-9ce60458655c"
   },
   "outputs": [],
   "source": [
    "a = 'å' # Unicode code point (single quotes)"
   ]
  },
  {
   "cell_type": "markdown",
   "metadata": {
    "colab_type": "text",
    "id": "WA5RXfz4mBcE"
   },
   "source": [
    "To be more precise:\n",
    "* A Julia \"character\" represents a single Unicode code point (sometimes called a Unicode scalar).\n",
    "* Multiple code points may be required to produce a single _grapheme_, i.e., something that readers would recognize as a single character. Such a sequence of code points is called a \"Grapheme cluster\".\n",
    "\n",
    "For example, the character `é` can be represented either using the single code point `\\u00E9`, or the grapheme cluster `e` + `\\u0301`:"
   ]
  },
  {
   "cell_type": "code",
   "execution_count": null,
   "metadata": {
    "colab": {
     "base_uri": "https://localhost:8080/",
     "height": 34
    },
    "colab_type": "code",
    "id": "liN9OQVClokc",
    "outputId": "97452ff5-1bdf-43f9-f34a-984795f7770b"
   },
   "outputs": [],
   "source": [
    "s = \"café\"\n",
    "println(s, \" has \", length(s), \" code points\")"
   ]
  },
  {
   "cell_type": "code",
   "execution_count": null,
   "metadata": {
    "colab": {
     "base_uri": "https://localhost:8080/",
     "height": 34
    },
    "colab_type": "code",
    "id": "CTtCiqN1oCJa",
    "outputId": "d8827591-2d29-4557-a28b-4547429d03de"
   },
   "outputs": [],
   "source": [
    "s = \"cafe\\u0301\"\n",
    "println(s, \" has \", length(s), \" code points\")"
   ]
  },
  {
   "cell_type": "code",
   "execution_count": null,
   "metadata": {
    "colab": {
     "base_uri": "https://localhost:8080/",
     "height": 102
    },
    "colab_type": "code",
    "id": "MIBI7ULN2CYI",
    "outputId": "26117e0f-f2e3-4750-eb81-bcc4f2403404"
   },
   "outputs": [],
   "source": [
    "for c in \"cafe\\u0301\"\n",
    "    display(c)\n",
    "end"
   ]
  },
  {
   "cell_type": "markdown",
   "metadata": {
    "colab_type": "text",
    "id": "Oz-6luAbobDe"
   },
   "source": [
    "Julia represents any individual character like `'é'` using 32-bits (4 bytes):"
   ]
  },
  {
   "cell_type": "code",
   "execution_count": null,
   "metadata": {
    "colab": {
     "base_uri": "https://localhost:8080/",
     "height": 34
    },
    "colab_type": "code",
    "id": "Iu1otE7omZIy",
    "outputId": "cd1d7f54-87cf-439d-ec41-b9c0b0ddf8c5"
   },
   "outputs": [],
   "source": [
    "sizeof('é')"
   ]
  },
  {
   "cell_type": "markdown",
   "metadata": {
    "colab_type": "text",
    "id": "81XkzaaNmW_4"
   },
   "source": [
    "But strings are represented using the UTF-8 encoding. In this encoding, code points 0 to 127 are represented using one byte, but any code point above 127 is represented using 2 to 6 bytes:"
   ]
  },
  {
   "cell_type": "code",
   "execution_count": null,
   "metadata": {
    "colab": {
     "base_uri": "https://localhost:8080/",
     "height": 34
    },
    "colab_type": "code",
    "id": "ZgLS0PdImraY",
    "outputId": "1f5b9f79-3a3b-4868-906a-6cd5133bb17a"
   },
   "outputs": [],
   "source": [
    "sizeof(\"a\")"
   ]
  },
  {
   "cell_type": "code",
   "execution_count": null,
   "metadata": {
    "colab": {
     "base_uri": "https://localhost:8080/",
     "height": 34
    },
    "colab_type": "code",
    "id": "PSOu8j--mmzO",
    "outputId": "2b511e96-02af-432c-b41c-18266a79d9fc"
   },
   "outputs": [],
   "source": [
    "sizeof(\"é\")"
   ]
  },
  {
   "cell_type": "code",
   "execution_count": null,
   "metadata": {
    "colab": {
     "base_uri": "https://localhost:8080/",
     "height": 34
    },
    "colab_type": "code",
    "id": "5UVyrhoKmw1j",
    "outputId": "d08f56ba-ce4e-43af-dc06-2cadaf208c62"
   },
   "outputs": [],
   "source": [
    "sizeof(\"家\")"
   ]
  },
  {
   "cell_type": "code",
   "execution_count": null,
   "metadata": {
    "colab": {
     "base_uri": "https://localhost:8080/",
     "height": 34
    },
    "colab_type": "code",
    "id": "0HUpcANGnJYA",
    "outputId": "7fe8e19f-d99d-4013-b6c3-8c7ba4578afe"
   },
   "outputs": [],
   "source": [
    "sizeof(\"🏳️‍🌈\") # this is a grapheme with 4 code points of 4 + 3 + 3 + 4 bytes"
   ]
  },
  {
   "cell_type": "code",
   "execution_count": null,
   "metadata": {
    "colab": {
     "base_uri": "https://localhost:8080/",
     "height": 102
    },
    "colab_type": "code",
    "id": "EfBbY0vHpNkG",
    "outputId": "a927770c-96fc-4428-f085-c42aad64a09c"
   },
   "outputs": [],
   "source": [
    "[sizeof(string(c)) for c in \"🏳️‍🌈\"]"
   ]
  },
  {
   "cell_type": "markdown",
   "metadata": {
    "colab_type": "text",
    "id": "71mBRSnKo_gU"
   },
   "source": [
    "You can iterate through graphemes instead of code points:"
   ]
  },
  {
   "cell_type": "code",
   "execution_count": null,
   "metadata": {
    "colab": {
     "base_uri": "https://localhost:8080/",
     "height": 51
    },
    "colab_type": "code",
    "id": "hvHwnu4dnYNx",
    "outputId": "b12a48a3-0bbc-4d72-ac96-991b78a26099"
   },
   "outputs": [],
   "source": [
    "using Unicode\n",
    "\n",
    "for g in graphemes(\"e\\u0301🏳️‍🌈\")\n",
    "  println(g)\n",
    "end"
   ]
  },
  {
   "cell_type": "markdown",
   "metadata": {
    "colab_type": "text",
    "id": "D52gwsw7mkls"
   },
   "source": [
    "## String Indexing\n",
    "Characters in a string are indexed based on the position of their starting byte in the UTF-8 representation. For example, the character `ê` in the string `\"être\"` is located at index 1, but the character `'t'` is located at index 3, since the UTF-8 encoding of `ê` is 2 bytes long:"
   ]
  },
  {
   "cell_type": "code",
   "execution_count": null,
   "metadata": {
    "colab": {
     "base_uri": "https://localhost:8080/",
     "height": 85
    },
    "colab_type": "code",
    "id": "wF-sqnBhobOr",
    "outputId": "feed1eb3-66e4-4a42-f749-98d426559c93"
   },
   "outputs": [],
   "source": [
    "s = \"être\"\n",
    "println(s[1])\n",
    "println(s[3])\n",
    "println(s[4])\n",
    "println(s[5])"
   ]
  },
  {
   "cell_type": "markdown",
   "metadata": {
    "colab_type": "text",
    "id": "PTwNWMfywghC"
   },
   "source": [
    "If you try to get the character at index 2, you get an exception:\n",
    "\n"
   ]
  },
  {
   "cell_type": "code",
   "execution_count": null,
   "metadata": {
    "colab": {
     "base_uri": "https://localhost:8080/",
     "height": 34
    },
    "colab_type": "code",
    "id": "nVTYypUmobae",
    "outputId": "36f4dd1a-3e6a-407e-ff98-f78f0b3d66d5"
   },
   "outputs": [],
   "source": [
    "try\n",
    "    s[2]\n",
    "catch ex\n",
    "    ex\n",
    "end"
   ]
  },
  {
   "cell_type": "markdown",
   "metadata": {
    "colab_type": "text",
    "id": "h27VGo9oB2HD"
   },
   "source": [
    "By the way, notice the exception-handling syntax (we'll discuss exceptions later):\n",
    "\n",
    "|Julia|Python\n",
    "|-----|------\n",
    "|`try`<br />&nbsp;&nbsp;&nbsp;&nbsp;`...`<br />`catch ex`<br />&nbsp;&nbsp;&nbsp;&nbsp;`...`<br />`end`|`try`<br />&nbsp;&nbsp;&nbsp;&nbsp;`...`<br />`except Exception as ex`<br />&nbsp;&nbsp;&nbsp;&nbsp;`...`<br />`end`\n",
    "\n"
   ]
  },
  {
   "cell_type": "markdown",
   "metadata": {
    "colab_type": "text",
    "id": "v519pXuAxhnO"
   },
   "source": [
    "You can get a substring easily, using valid character indices:"
   ]
  },
  {
   "cell_type": "code",
   "execution_count": null,
   "metadata": {
    "colab": {
     "base_uri": "https://localhost:8080/",
     "height": 34
    },
    "colab_type": "code",
    "id": "fSYrcLRPxdBv",
    "outputId": "5b4bce01-d5b9-4597-82c4-ca2fc91f4d41"
   },
   "outputs": [],
   "source": [
    "s[1:3]"
   ]
  },
  {
   "cell_type": "markdown",
   "metadata": {
    "colab_type": "text",
    "id": "1aSg-yZExJaj"
   },
   "source": [
    "You can iterate through a string, and it will return all the code points:"
   ]
  },
  {
   "cell_type": "code",
   "execution_count": null,
   "metadata": {
    "colab": {
     "base_uri": "https://localhost:8080/",
     "height": 85
    },
    "colab_type": "code",
    "id": "nWzSSfi3obnG",
    "outputId": "43411674-dc1a-458b-a8c1-773dcf09cf96"
   },
   "outputs": [],
   "source": [
    "for c in s\n",
    "    println(c)\n",
    "end"
   ]
  },
  {
   "cell_type": "markdown",
   "metadata": {
    "colab_type": "text",
    "id": "P4y_oW-tx1FM"
   },
   "source": [
    "Or you can iterate through the valid character indices:"
   ]
  },
  {
   "cell_type": "code",
   "execution_count": null,
   "metadata": {
    "colab": {
     "base_uri": "https://localhost:8080/",
     "height": 85
    },
    "colab_type": "code",
    "id": "Stdn7xZRx5HP",
    "outputId": "ce722fd5-e8ea-4600-ebf5-0e52d5d9b64b"
   },
   "outputs": [],
   "source": [
    "for i in eachindex(s)\n",
    "    println(i, \": \", s[i])\n",
    "end"
   ]
  },
  {
   "cell_type": "markdown",
   "metadata": {
    "colab_type": "text",
    "id": "6vAcDvvgyI2O"
   },
   "source": [
    "Benefits of representing strings as UTF-8:\n",
    "* All Unicode characters are supported.\n",
    "* UTF-8 is fairly compact (at least for Latin scripts).\n",
    "* It plays nicely with C libraries which expect ASCII characters only, since ASCII characters correspond to the Unicode code points 0 to 127, which UTF-8 encodes exactly like ASCII.\n",
    "\n",
    "Drawbacks:\n",
    "* UTF-8 uses a variable number of bytes per character, which makes indexing harder.\n",
    "  * However, If the language tried to hide this by making `s[5]` search for the 5th character from the start of the string, then code like `for i in 1:length(s); s[i]; end` would be unexpectedly inefficient, since at each iteration there would be a search from the beginning of the string, leading to O(_n_<sup>2</sup>) performance instead of O(_n_)."
   ]
  },
  {
   "cell_type": "code",
   "execution_count": null,
   "metadata": {
    "colab": {
     "base_uri": "https://localhost:8080/",
     "height": 34
    },
    "colab_type": "code",
    "id": "JhOHqjktdrBV",
    "outputId": "a88d1c63-5960-4d78-c996-2b5ef7694079"
   },
   "outputs": [],
   "source": [
    "findfirst(isequal('t'), \"être\")"
   ]
  },
  {
   "cell_type": "code",
   "execution_count": null,
   "metadata": {
    "colab": {
     "base_uri": "https://localhost:8080/",
     "height": 34
    },
    "colab_type": "code",
    "id": "PUyEI4dHm-nl",
    "outputId": "238e756a-e627-4ff5-f63d-f9407b1772bd"
   },
   "outputs": [],
   "source": [
    "findlast(isequal('p'), \"Mississippi\")"
   ]
  },
  {
   "cell_type": "code",
   "execution_count": null,
   "metadata": {
    "colab": {
     "base_uri": "https://localhost:8080/",
     "height": 34
    },
    "colab_type": "code",
    "id": "VA-KDam0nT9z",
    "outputId": "fd09b0b2-16fb-46a6-f345-43f1a8a5e54c"
   },
   "outputs": [],
   "source": [
    "findnext(isequal('i'), \"Mississippi\", 2)"
   ]
  },
  {
   "cell_type": "code",
   "execution_count": null,
   "metadata": {
    "colab": {
     "base_uri": "https://localhost:8080/",
     "height": 34
    },
    "colab_type": "code",
    "id": "V-18_V29ny--",
    "outputId": "d5e2d249-66b8-479e-b239-43f29f0965bb"
   },
   "outputs": [],
   "source": [
    "findnext(isequal('i'), \"Mississippi\", 2 + 1)"
   ]
  },
  {
   "cell_type": "code",
   "execution_count": null,
   "metadata": {
    "colab": {
     "base_uri": "https://localhost:8080/",
     "height": 34
    },
    "colab_type": "code",
    "id": "rF-0AVyCnoRa",
    "outputId": "cb857416-886b-4866-a8c8-b0135693c7ec"
   },
   "outputs": [],
   "source": [
    "findprev(isequal('i'), \"Mississippi\", 5 - 1)"
   ]
  },
  {
   "cell_type": "markdown",
   "metadata": {
    "colab_type": "text",
    "id": "29n4QUfloQXQ"
   },
   "source": [
    "Other useful string functions: `ncodeunits(str)`, `codeunit(str, i)`, `thisind(str, i)`, `nextind(str, i, n=1)`, `prevind(str, i, n=1)`."
   ]
  },
  {
   "cell_type": "markdown",
   "metadata": {
    "colab_type": "text",
    "id": "v93Xg1E5omZB"
   },
   "source": [
    "## Regular Expressions\n",
    "To create a regular expression in Julia, use the `r\"...\"` syntax:"
   ]
  },
  {
   "cell_type": "code",
   "execution_count": null,
   "metadata": {
    "colab": {
     "base_uri": "https://localhost:8080/",
     "height": 34
    },
    "colab_type": "code",
    "id": "LDgR-AwboyDw",
    "outputId": "16eeaa29-5a0c-49cb-ccf8-140921fff05e"
   },
   "outputs": [],
   "source": [
    "regex = r\"c[ao]ff?(?:é|ee)\""
   ]
  },
  {
   "cell_type": "markdown",
   "metadata": {
    "colab_type": "text",
    "id": "bKT4fMKMiKWo"
   },
   "source": [
    "The expression `r\"...\"` is equivalent to `Regex(\"...\")` except the former is evaluated at parse time, while the latter is evaluated at runtime, so unless you need to construct a Regex dynamically, you should prefer `r\"...\"`."
   ]
  },
  {
   "cell_type": "code",
   "execution_count": null,
   "metadata": {
    "colab": {
     "base_uri": "https://localhost:8080/",
     "height": 34
    },
    "colab_type": "code",
    "id": "222akOU9ox3m",
    "outputId": "7fbf49f7-1c5e-429f-eff9-9365381b226c"
   },
   "outputs": [],
   "source": [
    "occursin(regex, \"A bit more coffee?\")"
   ]
  },
  {
   "cell_type": "code",
   "execution_count": null,
   "metadata": {
    "colab": {
     "base_uri": "https://localhost:8080/",
     "height": 34
    },
    "colab_type": "code",
    "id": "QCXRSdFuoxqd",
    "outputId": "30e25aea-53db-47b2-b1f0-ae7657298311"
   },
   "outputs": [],
   "source": [
    "m = match(regex, \"A bit more coffee?\")\n",
    "m.match"
   ]
  },
  {
   "cell_type": "code",
   "execution_count": null,
   "metadata": {
    "colab": {
     "base_uri": "https://localhost:8080/",
     "height": 34
    },
    "colab_type": "code",
    "id": "lWk0C1iwtegu",
    "outputId": "686a5904-0c6a-428f-adaa-6b725b07e8c6"
   },
   "outputs": [],
   "source": [
    "m.offset"
   ]
  },
  {
   "cell_type": "code",
   "execution_count": null,
   "metadata": {
    "colab": {
     "base_uri": "https://localhost:8080/",
     "height": 34
    },
    "colab_type": "code",
    "id": "Uh1uc34etiN_",
    "outputId": "c35b3cb6-193c-4910-cc14-2f9d8992f20c"
   },
   "outputs": [],
   "source": [
    "m = match(regex, \"A bit more tea?\")\n",
    "isnothing(m) && println(\"I suggest coffee instead\")"
   ]
  },
  {
   "cell_type": "code",
   "execution_count": null,
   "metadata": {
    "colab": {
     "base_uri": "https://localhost:8080/",
     "height": 51
    },
    "colab_type": "code",
    "id": "3iOYSQMy0yB3",
    "outputId": "423f65b0-a7cf-4ccc-a4b7-ef5119e99240"
   },
   "outputs": [],
   "source": [
    "regex = r\"(.*)#(.+)\"\n",
    "line = \"f(1) # nice comment\"\n",
    "m = match(regex, line)\n",
    "code, comment = m.captures\n",
    "println(\"code: \", repr(code))\n",
    "println(\"comment: \", repr(comment))"
   ]
  },
  {
   "cell_type": "code",
   "execution_count": null,
   "metadata": {
    "colab": {
     "base_uri": "https://localhost:8080/",
     "height": 34
    },
    "colab_type": "code",
    "id": "xeq9CVzoueaf",
    "outputId": "3906ac65-1ec8-4a1e-8b4b-ab6e14edf884"
   },
   "outputs": [],
   "source": [
    "m[2]"
   ]
  },
  {
   "cell_type": "code",
   "execution_count": null,
   "metadata": {
    "colab": {
     "base_uri": "https://localhost:8080/",
     "height": 68
    },
    "colab_type": "code",
    "id": "iwUDm5uqtc73",
    "outputId": "be3e0e8c-6d98-4de7-f361-f7cfab8784d2"
   },
   "outputs": [],
   "source": [
    "m.offsets"
   ]
  },
  {
   "cell_type": "code",
   "execution_count": null,
   "metadata": {
    "colab": {
     "base_uri": "https://localhost:8080/",
     "height": 34
    },
    "colab_type": "code",
    "id": "VnefZenKuMVM",
    "outputId": "f023adbd-1309-47f2-f7a9-6cb14ba7c8c8"
   },
   "outputs": [],
   "source": [
    "m = match(r\"(?<code>.+)#(?<comment>.+)\", line)\n",
    "m[:comment]"
   ]
  },
  {
   "cell_type": "code",
   "execution_count": null,
   "metadata": {
    "colab": {
     "base_uri": "https://localhost:8080/",
     "height": 34
    },
    "colab_type": "code",
    "id": "HI8hBnXZwLIO",
    "outputId": "77ddcedd-60b8-41d2-e5ed-32ff5de68c9b"
   },
   "outputs": [],
   "source": [
    "replace(\"Want more bread?\", r\"(?<verb>more|some)\" => s\"a little\")"
   ]
  },
  {
   "cell_type": "code",
   "execution_count": null,
   "metadata": {
    "colab": {
     "base_uri": "https://localhost:8080/",
     "height": 34
    },
    "colab_type": "code",
    "id": "7V9msvsWuzSM",
    "outputId": "bde2fafe-9be4-4bc1-8356-4e1ff0e6f40f"
   },
   "outputs": [],
   "source": [
    "replace(\"Want more bread?\", r\"(?<verb>more|less)\" => s\"\\g<verb> and \\g<verb>\")"
   ]
  },
  {
   "cell_type": "markdown",
   "metadata": {
    "colab_type": "text",
    "id": "56GuNuTqaKaX"
   },
   "source": [
    "# Control Flow"
   ]
  },
  {
   "cell_type": "markdown",
   "metadata": {
    "colab_type": "text",
    "id": "AhlyD6rgHM-A"
   },
   "source": [
    "## `if` statement\n",
    "\n",
    "Julia's `if` statement works just like in Python, with a few differences:\n",
    "\n",
    "* Julia uses `elseif` instead of Python's `elif`.\n",
    "* Julia's logic operators are just like in C-like languages: `&&` means `and`, `||` means `or`, `!` means `not`, and so on."
   ]
  },
  {
   "cell_type": "code",
   "execution_count": null,
   "metadata": {
    "colab": {
     "base_uri": "https://localhost:8080/",
     "height": 34
    },
    "colab_type": "code",
    "id": "R4CT1_AYLUqo",
    "outputId": "c299019a-ebd5-4ef7-b010-54c53dbb8388"
   },
   "outputs": [],
   "source": [
    "a = 1\n",
    "if a == 1\n",
    "    println(\"One\")\n",
    "elseif a == 2\n",
    "    println(\"Two\")\n",
    "else\n",
    "    println(\"Other\")\n",
    "end"
   ]
  },
  {
   "cell_type": "markdown",
   "metadata": {
    "colab_type": "text",
    "id": "xjjegYr9Koo0"
   },
   "source": [
    "Julia also has `⊻` for exclusive or (you can type `\\xor<tab>` to get the ⊻ character):"
   ]
  },
  {
   "cell_type": "code",
   "execution_count": null,
   "metadata": {
    "colab": {},
    "colab_type": "code",
    "id": "ac0uFmmXLk3n"
   },
   "outputs": [],
   "source": [
    "@assert false ⊻ false == false\n",
    "@assert false ⊻ true == true\n",
    "@assert true ⊻ false == true\n",
    "@assert true ⊻ true == false"
   ]
  },
  {
   "cell_type": "markdown",
   "metadata": {
    "colab_type": "text",
    "id": "6k6sjnOWLuFM"
   },
   "source": [
    "Oh, and notice that `true` and `false` are all lowercase, unlike Python's `True` and `False`."
   ]
  },
  {
   "cell_type": "markdown",
   "metadata": {
    "colab_type": "text",
    "id": "57j5Uo_jKq98"
   },
   "source": [
    "Since `&&` is lazy (like `and` in Python), `cond && f()` is a common shorthand for `if cond; f(); end`. Think of it as \"_cond then f()_\":"
   ]
  },
  {
   "cell_type": "code",
   "execution_count": null,
   "metadata": {
    "colab": {
     "base_uri": "https://localhost:8080/",
     "height": 34
    },
    "colab_type": "code",
    "id": "TjRz2LF2MC17",
    "outputId": "127e2991-8b8b-4f11-872a-b902f5170b04"
   },
   "outputs": [],
   "source": [
    "a = 2\n",
    "a == 1 && println(\"One\")\n",
    "a == 2 && println(\"Two\")"
   ]
  },
  {
   "cell_type": "markdown",
   "metadata": {
    "colab_type": "text",
    "id": "PoOc99vdMB3r"
   },
   "source": [
    "Similarly, `cond || f()` is a common shorthand for `if !cond; f(); end`. Think of it as \"_cond else f()_\":"
   ]
  },
  {
   "cell_type": "code",
   "execution_count": null,
   "metadata": {
    "colab": {
     "base_uri": "https://localhost:8080/",
     "height": 34
    },
    "colab_type": "code",
    "id": "I0vTrqXFMQAp",
    "outputId": "efe13f48-b12b-4182-c67e-321879492eb6"
   },
   "outputs": [],
   "source": [
    "a = 1\n",
    "a == 1 || println(\"Not one\")\n",
    "a == 2 || println(\"Not two\")"
   ]
  },
  {
   "cell_type": "markdown",
   "metadata": {
    "colab_type": "text",
    "id": "KDHXuzB2tprt"
   },
   "source": [
    "All expressions return a value in Julia, including `if` statements. For example:"
   ]
  },
  {
   "cell_type": "code",
   "execution_count": null,
   "metadata": {
    "colab": {
     "base_uri": "https://localhost:8080/",
     "height": 34
    },
    "colab_type": "code",
    "id": "XdbyrVzWtyYS",
    "outputId": "7912ea2d-b47d-44dd-bb9c-61e80f4ece12"
   },
   "outputs": [],
   "source": [
    "a = 1\n",
    "result = if a == 1\n",
    "             \"one\"\n",
    "         else\n",
    "             \"two\"\n",
    "         end\n",
    "result"
   ]
  },
  {
   "cell_type": "markdown",
   "metadata": {
    "colab_type": "text",
    "id": "ouJGQWRluC8r"
   },
   "source": [
    "When an expression cannot return anything, it returns `nothing`:"
   ]
  },
  {
   "cell_type": "code",
   "execution_count": null,
   "metadata": {
    "colab": {
     "base_uri": "https://localhost:8080/",
     "height": 34
    },
    "colab_type": "code",
    "id": "FXxf9pNouMUZ",
    "outputId": "e5afc641-f815-4d10-9cf9-de4d7f0d4284"
   },
   "outputs": [],
   "source": [
    "a = 1\n",
    "result = if a == 2\n",
    "            \"two\"\n",
    "          end\n",
    "\n",
    "isnothing(result)"
   ]
  },
  {
   "cell_type": "markdown",
   "metadata": {
    "colab_type": "text",
    "id": "82e9jcH4ukdN"
   },
   "source": [
    "`nothing` is the single instance of the type `Nothing`:"
   ]
  },
  {
   "cell_type": "code",
   "execution_count": null,
   "metadata": {
    "colab": {
     "base_uri": "https://localhost:8080/",
     "height": 34
    },
    "colab_type": "code",
    "id": "IU57ogdWuhCi",
    "outputId": "e443167b-e17a-4da9-c06f-5c5cb4e37ade"
   },
   "outputs": [],
   "source": [
    "typeof(nothing)"
   ]
  },
  {
   "cell_type": "markdown",
   "metadata": {
    "colab_type": "text",
    "id": "m8ghzU9PMifO"
   },
   "source": [
    "## `for` loops\n",
    "You can use `for` loops just like in Python, as we saw earlier. However, it's also possible to create nested loops on a single line:"
   ]
  },
  {
   "cell_type": "code",
   "execution_count": null,
   "metadata": {
    "colab": {
     "base_uri": "https://localhost:8080/",
     "height": 221
    },
    "colab_type": "code",
    "id": "LZ-3HDmZM45a",
    "outputId": "42b27d57-e5c2-4f83-cc08-4c6765cb4d59"
   },
   "outputs": [],
   "source": [
    "for a in 1:2, b in 1:3, c in 1:2\n",
    "    println((a, b, c))\n",
    "end"
   ]
  },
  {
   "cell_type": "markdown",
   "metadata": {
    "colab_type": "text",
    "id": "uQRBca7fObQq"
   },
   "source": [
    "The corresponding Python code would look like this:\n",
    "\n",
    "```python\n",
    "# PYTHON\n",
    "from itertools import product\n",
    "\n",
    "for a, b, c in product(range(1, 3), range(1, 4), range(1, 3)):\n",
    "    print((a, b, c))\n",
    "```"
   ]
  },
  {
   "cell_type": "markdown",
   "metadata": {
    "colab_type": "text",
    "id": "JAeag3dfNRB3"
   },
   "source": [
    "The `continue` and `break` keywords work just like in Python. Note that in single-line nested loops, `break` will exit all loops, not just the inner loop:"
   ]
  },
  {
   "cell_type": "code",
   "execution_count": null,
   "metadata": {
    "colab": {
     "base_uri": "https://localhost:8080/",
     "height": 136
    },
    "colab_type": "code",
    "id": "MbKmgN-jN2ZQ",
    "outputId": "696099ec-291c-4841-e7ca-4c93d37c1d03"
   },
   "outputs": [],
   "source": [
    "for a in 1:2, b in 1:3, c in 1:2\n",
    "    println((a, b, c))\n",
    "    (a, b, c) == (2, 1, 1) && break\n",
    "end"
   ]
  },
  {
   "cell_type": "markdown",
   "metadata": {
    "colab_type": "text",
    "id": "Lf7F9I-6Ue46"
   },
   "source": [
    "Julia does not support the equivalent of Python's `for`/`else` construct. You need to write something like this:"
   ]
  },
  {
   "cell_type": "code",
   "execution_count": null,
   "metadata": {
    "colab": {
     "base_uri": "https://localhost:8080/",
     "height": 85
    },
    "colab_type": "code",
    "id": "XltdIGVOUoVS",
    "outputId": "0930a3ba-0ab0-43ff-879b-5f1f78cd42e0"
   },
   "outputs": [],
   "source": [
    "found = false\n",
    "for person in [\"Joe\", \"Jane\", \"Wally\", \"Jack\", \"Julia\"] # try removing \"Wally\"\n",
    "    println(\"Looking at $person\")\n",
    "    person == \"Wally\" && (found = true; break)\n",
    "end\n",
    "found || println(\"I did not find Wally.\")"
   ]
  },
  {
   "cell_type": "markdown",
   "metadata": {
    "colab_type": "text",
    "id": "ySqtkxpxWH57"
   },
   "source": [
    "The equivalent Python code looks like this:\n",
    "\n",
    "```python\n",
    "# PYTHON\n",
    "for person in [\"Joe\", \"Jane\", \"Wally\", \"Jack\", \"Julia\"]: # try removing \"Wally\"\n",
    "    print(f\"Looking at {person}\")\n",
    "    if person == \"Wally\":\n",
    "        break\n",
    "else:\n",
    "    print(\"I did not find Wally.\")\n",
    "```"
   ]
  },
  {
   "cell_type": "markdown",
   "metadata": {
    "colab_type": "text",
    "id": "gz4fZGxOHLmI"
   },
   "source": [
    "\n",
    "\n",
    "|Julia|Python\n",
    "|-----|------\n",
    "|`if cond1`<br />&nbsp;&nbsp;&nbsp;&nbsp;`...`<br/>`elseif cond2`<br />&nbsp;&nbsp;&nbsp;&nbsp;`...`<br/>`else`<br />&nbsp;&nbsp;&nbsp;&nbsp;`...`<br/>`end` |`if cond1:`<br />&nbsp;&nbsp;&nbsp;&nbsp;`...`<br/>`elif cond2:`<br />&nbsp;&nbsp;&nbsp;&nbsp;`...`<br/>`else:`<br />&nbsp;&nbsp;&nbsp;&nbsp;`...`\n",
    "|`&&` | `and`\n",
    "|`\\|\\|` | `or`\n",
    "|`!` | `not`\n",
    "|`⊻` (type `\\xor<tab>`) | `^`\n",
    "|`true` | `True`\n",
    "|`false` | `False`\n",
    "|`cond && f()` | `if cond: f()`\n",
    "|`cond \\|\\| f()` | `if not cond: f()`\n",
    "|`for i in 1:5 ... end` | `for i in range(1, 6): ...`\n",
    "|`for i in 1:5, j in 1:6 ... end` | `from itertools import product`<br />`for i, j in product(range(1, 6), range(1, 7)):`<br />&nbsp;&nbsp;&nbsp;&nbsp;`...`\n",
    "|`while cond ... end` | `while cond: ...`\n",
    "|`continue` | `continue`\n",
    "|`break` | `break`\n"
   ]
  },
  {
   "cell_type": "markdown",
   "metadata": {
    "colab_type": "text",
    "id": "KZnBWeHcvcDE"
   },
   "source": [
    "Now lets looks at data structures, starting with tuples."
   ]
  }
 ],
 "metadata": {
  "kernelspec": {
   "display_name": "Julia 1.4.1",
   "language": "julia",
   "name": "julia-1.4"
  },
  "language_info": {
   "file_extension": ".jl",
   "mimetype": "application/julia",
   "name": "julia",
   "version": "1.4.1"
  }
 },
 "nbformat": 4,
 "nbformat_minor": 4
}
