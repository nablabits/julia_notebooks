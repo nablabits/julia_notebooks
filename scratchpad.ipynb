{
 "cells": [
  {
   "cell_type": "markdown",
   "metadata": {},
   "source": [
    "# About\n",
    "These are my personal notes on the *julia_for_pythonistas_source*"
   ]
  },
  {
   "cell_type": "markdown",
   "metadata": {},
   "source": [
    "## Estimating π\n",
    "Also tried this function in a python kernel and is sensibly faster (without timing it)"
   ]
  },
  {
   "cell_type": "code",
   "execution_count": 2,
   "metadata": {},
   "outputs": [
    {
     "data": {
      "text/plain": [
       "3.141592663589326"
      ]
     },
     "execution_count": 2,
     "metadata": {},
     "output_type": "execute_result"
    }
   ],
   "source": [
    "function estimate_pi(n)\n",
    "    s = 1.0\n",
    "    for i in 1:n\n",
    "        s += (isodd(i) ? -1 : 1) / (2i + 1)\n",
    "    end\n",
    "    4s\n",
    "end\n",
    "\n",
    "estimate_pi(100_000_000)"
   ]
  },
  {
   "cell_type": "markdown",
   "metadata": {
    "colab_type": "text",
    "id": "C81648ZjKljL"
   },
   "source": [
    "## Typing Unicode Characters\n",
    "This is simply great 😎"
   ]
  },
  {
   "cell_type": "markdown",
   "metadata": {},
   "source": [
    "## Using Plots\n",
    "Inside *Runing python code in Julia,* the julia library `Plots` is mentioned. Have checked out its [page](http://docs.juliaplots.org/latest/) and appears a beautiful animation of Lorenz attractor that is pasted here:"
   ]
  },
  {
   "cell_type": "code",
   "execution_count": null,
   "metadata": {},
   "outputs": [],
   "source": [
    "using Plots\n",
    "# define the Lorenz attractor\n",
    "Base.@kwdef mutable struct Lorenz\n",
    "    dt::Float64 = 0.02\n",
    "    σ::Float64 = 10\n",
    "    ρ::Float64 = 28\n",
    "    β::Float64 = 8/3\n",
    "    x::Float64 = 1\n",
    "    y::Float64 = 1\n",
    "    z::Float64 = 1\n",
    "end\n",
    "\n",
    "function step!(l::Lorenz)\n",
    "    dx = l.σ * (l.y - l.x);         l.x += l.dt * dx\n",
    "    dy = l.x * (l.ρ - l.z) - l.y;   l.y += l.dt * dy\n",
    "    dz = l.x * l.y - l.β * l.z;     l.z += l.dt * dz\n",
    "end\n",
    "\n",
    "attractor = Lorenz()\n",
    "\n",
    "\n",
    "# initialize a 3D plot with 1 empty series\n",
    "plt = plot3d(\n",
    "    1,\n",
    "    xlim = (-30, 30),\n",
    "    ylim = (-30, 30),\n",
    "    zlim = (0, 60),\n",
    "    title = \"Lorenz Attractor\",\n",
    "    marker = 2,\n",
    ")\n",
    "\n",
    "# build an animated gif by pushing new points to the plot, saving every 10th frame\n",
    "@gif for i=1:1500\n",
    "    step!(attractor)\n",
    "    push!(plt, attractor.x, attractor.y, attractor.z)\n",
    "end every 10"
   ]
  },
  {
   "cell_type": "markdown",
   "metadata": {},
   "source": [
    "## Multidimensional arrays\n",
    "What a nice visualization of the matrix not like with numpy with all those brackets everywhere"
   ]
  },
  {
   "cell_type": "code",
   "execution_count": 7,
   "metadata": {},
   "outputs": [
    {
     "data": {
      "text/plain": [
       "3×3 Array{Int64,2}:\n",
       " 1  2  3\n",
       " 4  5  6\n",
       " 7  8  9"
      ]
     },
     "execution_count": 7,
     "metadata": {},
     "output_type": "execute_result"
    }
   ],
   "source": [
    "M = [1 2 3\n",
    "     4 5 6\n",
    "     7 8 9]"
   ]
  },
  {
   "cell_type": "code",
   "execution_count": 10,
   "metadata": {},
   "outputs": [
    {
     "data": {
      "text/plain": [
       "2×3 Array{Int64,2}:\n",
       " 1  2  3\n",
       " 4  5  6"
      ]
     },
     "execution_count": 10,
     "metadata": {},
     "output_type": "execute_result"
    }
   ],
   "source": [
    "# The colon adds a new row\n",
    "[1 2 3; 4 5 6]"
   ]
  },
  {
   "cell_type": "markdown",
   "metadata": {},
   "source": [
    "This math notation is so cool\n",
    "* `a ∉ b` is equivalent to `!(a in b)` (or `a not in b` in Python). You can type `∉` with `\\notin<tab>`\n",
    "* `a ∈ b` is equivalent to `a in b`. You can type it with `\\in<tab>`\n",
    "* ∪ is the union symbol, not a U. To type this character, type `\\cup<tab>` (it has the shape of a cup)\n",
    "* Now let's get the intersection using the ∩ symbol (type `\\cap<tab>`):"
   ]
  },
  {
   "cell_type": "code",
   "execution_count": 1,
   "metadata": {},
   "outputs": [
    {
     "data": {
      "text/plain": [
       "3×5 Array{Int64,2}:\n",
       " 1  1  1  1  1\n",
       " 1  1  1  1  1\n",
       " 1  1  1  1  1"
      ]
     },
     "execution_count": 1,
     "metadata": {},
     "output_type": "execute_result"
    }
   ],
   "source": [
    "[1 for _ in 1:3, _ in 1:5]"
   ]
  },
  {
   "cell_type": "markdown",
   "metadata": {},
   "source": [
    "## Annonymous functions "
   ]
  },
  {
   "cell_type": "code",
   "execution_count": 6,
   "metadata": {},
   "outputs": [],
   "source": [
    "function my_for(func, collection)\n",
    "    for i in collection\n",
    "        func(i)\n",
    "    end\n",
    "end\n",
    "\n",
    "# In this case `do`, that points to `println`, represents the function arg in \n",
    "# `my_for`, whereas `1:4` is the collection.\n",
    "my_for(1:4) do i\n",
    "    println(\"The square of $i is $(i^2)\")\n",
    "end"
   ]
  },
  {
   "cell_type": "markdown",
   "metadata": {
    "colab": {
     "base_uri": "https://localhost:8080/",
     "height": 85
    },
    "colab_type": "code",
    "id": "lU-neWob2_As",
    "outputId": "fc63bf04-c752-48f0-c836-4bcebc4df21a"
   },
   "source": [
    "## Event-driven code\n",
    "This is a bit tricky, actually I had to ask in [Stack overflow](https://stackoverflow.com/questions/63010061/annonymous-functions-and-foreach-usage-on-event-driven-code-in-julia) to make sense of it. I swapped a bit the order of statements to get them in a more natural way."
   ]
  },
  {
   "cell_type": "code",
   "execution_count": 1,
   "metadata": {
    "colab": {
     "base_uri": "https://localhost:8080/",
     "height": 85
    },
    "colab_type": "code",
    "id": "lU-neWob2_As",
    "outputId": "fc63bf04-c752-48f0-c836-4bcebc4df21a"
   },
   "outputs": [
    {
     "name": "stdout",
     "output_type": "stream",
     "text": [
      "Mouse clicked at (x = 50, y = 20)\n",
      "Beep.\n",
      "Mouse clicked at (x = 120, y = 10)\n",
      "Beep.\n"
     ]
    }
   ],
   "source": [
    "# Intialize the array\n",
    "handlers = []\n",
    "\n",
    "# Define on_click() that will store handler argument in handlers.\n",
    "on_click(handler) = push!(handlers, handler)\n",
    "\n",
    "# Store a couple of annonymous functions in the array based on on_click() \n",
    "# so later can be called by click()\n",
    "on_click() do event\n",
    "    println(\"Mouse clicked at $event\")\n",
    "end\n",
    "\n",
    "on_click() do event\n",
    "    println(\"Beep.\")\n",
    "end\n",
    "\n",
    "# Define click function, that will run each of the annonymous functions stored\n",
    "# in the array and run them with the event argument\n",
    "click(event) = foreach(handler->handler(event), handlers)\n",
    "\n",
    "# Finally, trigger the action. Call click, that opens the array and runs the\n",
    "# functions within it with the arguments provided.\n",
    "click((x=50, y=20))\n",
    "click((x=120, y=10))"
   ]
  },
  {
   "cell_type": "markdown",
   "metadata": {},
   "source": [
    "## Context Managers\n",
    "Basically, it seems, that you if the first argument of a function is yet another function you can pass it by using `do` statement as an annonymous function."
   ]
  },
  {
   "cell_type": "code",
   "execution_count": 5,
   "metadata": {},
   "outputs": [
    {
     "name": "stdout",
     "output_type": "stream",
     "text": [
      "Opening connection to database jobs\n",
      "I'm working with a db object for database jobs\n",
      "Closing connection to database jobs\n"
     ]
    }
   ],
   "source": [
    "function with_database(func, name)\n",
    "    println(\"Opening connection to database $name\")\n",
    "    db = \"a db object for database $name\"\n",
    "    try\n",
    "        func(db)\n",
    "    finally\n",
    "        println(\"Closing connection to database $name\")\n",
    "    end\n",
    "end\n",
    "\n",
    "with_database(\"jobs\") do db\n",
    "    println(\"I'm working with $db\")\n",
    "    # error(\"Oops\") # try uncommenting this line\n",
    "end"
   ]
  },
  {
   "cell_type": "code",
   "execution_count": 14,
   "metadata": {},
   "outputs": [
    {
     "name": "stdout",
     "output_type": "stream",
     "text": [
      "Starting foo with Foo's-fancy-arg\n",
      "And this is the annonymous function using Annonymous-function's-fancy-arg.\n"
     ]
    }
   ],
   "source": [
    "function foo(f, fancy_arg_of_foo)\n",
    "    println(\"Starting foo with $fancy_arg_of_foo\")\n",
    "    f(\"Annonymous-function's-fancy-arg.\")\n",
    "end\n",
    "\n",
    "foo(\"Foo's-fancy-arg\") do fancy_arg_of_annonymous\n",
    "    println(\n",
    "        \"And this is the annonymous function using $fancy_arg_of_annonymous\")\n",
    "end\n"
   ]
  },
  {
   "cell_type": "code",
   "execution_count": null,
   "metadata": {},
   "outputs": [],
   "source": []
  }
 ],
 "metadata": {
  "kernelspec": {
   "display_name": "Julia 1.4.1",
   "language": "julia",
   "name": "julia-1.4"
  },
  "language_info": {
   "file_extension": ".jl",
   "mimetype": "application/julia",
   "name": "julia",
   "version": "1.4.1"
  },
  "toc-autonumbering": true
 },
 "nbformat": 4,
 "nbformat_minor": 4
}
