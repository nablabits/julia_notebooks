{
 "cells": [
  {
   "cell_type": "markdown",
   "metadata": {
    "colab_type": "text",
    "id": "KmT7ZJEMJ2Vv"
   },
   "source": [
    "# Writing/Reading Files\n",
    "The `do` syntax we saw earlier is helpful when using the `open()` function:\n"
   ]
  },
  {
   "cell_type": "code",
   "execution_count": null,
   "metadata": {
    "colab": {
     "base_uri": "https://localhost:8080/",
     "height": 51
    },
    "colab_type": "code",
    "id": "oGW3LMvkJ6JM",
    "outputId": "214a9b64-f3d7-4e6a-ee09-24842bf981d7"
   },
   "outputs": [],
   "source": [
    "open(\"test.txt\", \"w\") do f\n",
    "    write(f, \"This is a test.\\n\")\n",
    "    write(f, \"I repeat, this is a test.\\n\")\n",
    "end\n",
    "\n",
    "open(\"test.txt\") do f\n",
    "    for line in eachline(f)\n",
    "        println(\"[$line]\")\n",
    "    end\n",
    "end"
   ]
  },
  {
   "cell_type": "markdown",
   "metadata": {
    "colab_type": "text",
    "id": "f6XIenvgKdzR"
   },
   "source": [
    "The `open()` function automatically closes the file at the end of the block. Notice that the line feeds `\\n` at the end of each line are not returned by the `eachline()` function. So the equivalent Python code is:\n",
    "\n",
    "```python\n",
    "# PYTHON\n",
    "with open(\"test.txt\", \"w\") as f:\n",
    "    f.write(\"This is a test.\\n\")\n",
    "    f.write(\"I repeat, this is a test.\\n\")\n",
    "\n",
    "with open(\"test.txt\") as f:\n",
    "    for line in f.readlines():\n",
    "        line = line.rstrip(\"\\n\")\n",
    "        print(f\"[{line}]\")\n",
    "```"
   ]
  },
  {
   "cell_type": "markdown",
   "metadata": {
    "colab_type": "text",
    "id": "SQg2lDpRW_2R"
   },
   "source": [
    "Alternatively, you can read the whole file into a string:"
   ]
  },
  {
   "cell_type": "code",
   "execution_count": null,
   "metadata": {
    "colab": {
     "base_uri": "https://localhost:8080/",
     "height": 34
    },
    "colab_type": "code",
    "id": "FKRtde6dXDpe",
    "outputId": "942eca55-240e-408c-a6f7-042237376d14"
   },
   "outputs": [],
   "source": [
    "open(\"test.txt\") do f\n",
    "    s = read(f, String)\n",
    "end"
   ]
  },
  {
   "cell_type": "markdown",
   "metadata": {
    "colab_type": "text",
    "id": "5vxOQnwucbIW"
   },
   "source": [
    "Or more concisely:"
   ]
  },
  {
   "cell_type": "code",
   "execution_count": null,
   "metadata": {
    "colab": {
     "base_uri": "https://localhost:8080/",
     "height": 34
    },
    "colab_type": "code",
    "id": "2s-SRVw7cc5G",
    "outputId": "61cf6d91-2bb3-4a02-b254-b578f36a4bb7"
   },
   "outputs": [],
   "source": [
    "s = read(\"test.txt\", String)"
   ]
  },
  {
   "cell_type": "markdown",
   "metadata": {
    "colab_type": "text",
    "id": "dHb_f2lWXM0Z"
   },
   "source": [
    "The Python equivalent is:\n",
    "\n",
    "```python\n",
    "# PYTHON\n",
    "with open(\"test.txt\") as f:\n",
    "    s = f.read()\n",
    "```"
   ]
  },
  {
   "cell_type": "markdown",
   "metadata": {
    "colab_type": "text",
    "id": "EmBI1zY8DAvT"
   },
   "source": [
    "# Exceptions\n",
    "\n",
    "Julia's exceptions behave very much like in Python:"
   ]
  },
  {
   "cell_type": "code",
   "execution_count": null,
   "metadata": {
    "colab": {
     "base_uri": "https://localhost:8080/",
     "height": 34
    },
    "colab_type": "code",
    "id": "z-dXwra9cvYD",
    "outputId": "8d2f4d10-c214-4e4d-8aae-695c1c0f800a"
   },
   "outputs": [],
   "source": [
    "a = [1]\n",
    "try\n",
    "    push!(a, 2)\n",
    "    #throw(\"Oops\") # try uncommenting this line\n",
    "    push!(a, 3)\n",
    "catch ex\n",
    "    println(ex)\n",
    "    push!(a, 4)\n",
    "finally\n",
    "    push!(a, 5)\n",
    "end\n",
    "println(a)"
   ]
  },
  {
   "cell_type": "markdown",
   "metadata": {
    "colab_type": "text",
    "id": "kt2mWkKFfd8I"
   },
   "source": [
    "The equivalent Python code is:\n",
    "\n",
    "```python\n",
    "# PYTHON\n",
    "a = [1]\n",
    "try:\n",
    "    a.append(2)\n",
    "    #raise Exception(\"Oops\") # try uncommenting this line\n",
    "    a.append(3)\n",
    "except Exception as ex:\n",
    "    print(ex)\n",
    "    a.append(4)\n",
    "finally:\n",
    "    a.append(5)\n",
    "\n",
    "print(a)\n",
    "```"
   ]
  },
  {
   "cell_type": "markdown",
   "metadata": {
    "colab_type": "text",
    "id": "19zE5t7nhtCJ"
   },
   "source": [
    "There is a whole hierarchy of standard exceptions which can be thrown, just like in Python. For example:"
   ]
  },
  {
   "cell_type": "code",
   "execution_count": null,
   "metadata": {
    "colab": {
     "base_uri": "https://localhost:8080/",
     "height": 34
    },
    "colab_type": "code",
    "id": "71J-OuM5h9cr",
    "outputId": "cdbd922d-fdac-442f-ab06-696e47865559"
   },
   "outputs": [],
   "source": [
    "choice = 1 # try changing this value (from 1 to 4)\n",
    "try\n",
    "    choice == 1 && open(\"/foo/bar/i_dont_exist.txt\")\n",
    "    choice == 2 && sqrt(-1)\n",
    "    choice == 3 && push!(a, \"Oops\")\n",
    "    println(\"Everything worked like a charm\")\n",
    "catch ex\n",
    "    if ex isa SystemError\n",
    "        println(\"Oops. System error #$(ex.errnum) ($(ex.prefix))\")\n",
    "    elseif ex isa DomainError\n",
    "        println(\"Oh no, I could not compute sqrt(-1)\")\n",
    "    else\n",
    "        println(\"I got an unexpected error: $ex\")\n",
    "    end\n",
    "end"
   ]
  },
  {
   "cell_type": "markdown",
   "metadata": {
    "colab_type": "text",
    "id": "0IegY5XckWET"
   },
   "source": [
    "Compare this with Python's equivalent code:\n",
    "\n",
    "```python\n",
    "# PYTHON\n",
    "choice = 3 # try changing this value (from 1 to 4)\n",
    "try:\n",
    "  if choice == 1:\n",
    "      open(\"/foo/bar/i_dont_exist.txt\")\n",
    "  if choice == 2:\n",
    "      math.sqrt(-1)\n",
    "  if choice == 3:\n",
    "      #a.append(\"Ok\") # this would actually work\n",
    "      raise TypeError(\"Oops\") # so let's fail manually\n",
    "  print(\"Everything worked like a charm\")\n",
    "except OSError as ex:\n",
    "    print(f\"Oops. OS error (#{ex.errno} ({ex.strerror})\")\n",
    "except ValueError:\n",
    "    print(\"Oh no, I could not compute sqrt(-1)\")\n",
    "except Exception as ex:\n",
    "    print(f\"I got an unexpected error: {ex}\")\n",
    "```\n"
   ]
  },
  {
   "cell_type": "markdown",
   "metadata": {
    "colab_type": "text",
    "id": "jD6j5HsCHXzo"
   },
   "source": [
    "A few things to note here:\n",
    "\n",
    "* Julia only allows a single `catch` block which handles all possible exceptions.\n",
    "* `obj isa SomeClass` is a shorthand for `isa(obj, SomeClass)` which is equivalent to Python's `isinstance(obj, SomeClass)`.\n",
    "\n",
    "|Julia|Python\n",
    "|-----|------\n",
    "|`try`<br />&nbsp;&nbsp;&nbsp;&nbsp;`...`<br />`catch ex`<br />&nbsp;&nbsp;&nbsp;&nbsp;`if ex isa SomeError`<br />&nbsp;&nbsp;&nbsp;&nbsp;&nbsp;&nbsp;&nbsp;&nbsp;`...`<br />&nbsp;&nbsp;&nbsp;&nbsp;`else`<br />&nbsp;&nbsp;&nbsp;&nbsp;&nbsp;&nbsp;&nbsp;&nbsp;`...`<br />&nbsp;&nbsp;&nbsp;&nbsp;`end`<br />`finally`<br />&nbsp;&nbsp;&nbsp;&nbsp;`...`<br />`end` | `try:`<br />&nbsp;&nbsp;&nbsp;&nbsp;`...`<br />`except SomeException as ex:`<br />&nbsp;&nbsp;&nbsp;&nbsp;`...`<br />`except Exception as ex:`<br />&nbsp;&nbsp;&nbsp;&nbsp;`...`<br />`finally:`<br />&nbsp;&nbsp;&nbsp;&nbsp;`...`\n",
    "|`throw any_value` | `raise SomeException(...)`\n",
    "| `obj isa SomeType`<br />or<br /> `isa(obj, SomeType`) | `isinstance(obj, SomeType)`"
   ]
  },
  {
   "cell_type": "markdown",
   "metadata": {
    "colab_type": "text",
    "id": "lFGQZmkfQg6K"
   },
   "source": [
    "Note that Julia does not support the equivalent of Python's `try / catch / else` construct. You need to write something like this:"
   ]
  },
  {
   "cell_type": "code",
   "execution_count": null,
   "metadata": {
    "colab": {
     "base_uri": "https://localhost:8080/",
     "height": 85
    },
    "colab_type": "code",
    "id": "P2qPhf-EQ4WW",
    "outputId": "52bf12b1-e0eb-4d62-9218-14dfc0242af2"
   },
   "outputs": [],
   "source": [
    "catch_exception = true\n",
    "try\n",
    "    println(\"Try something\")\n",
    "    #error(\"ERROR: Catch me!\") # try uncommenting this line\n",
    "    catch_exception = false\n",
    "    #error(\"ERROR: Don't catch me!\") # try uncommenting this line\n",
    "    println(\"No error occurred\")\n",
    "catch ex\n",
    "    if catch_exception\n",
    "        println(\"I caught this exception: $ex\")\n",
    "    else\n",
    "        throw(ex)\n",
    "    end\n",
    "finally\n",
    "    println(\"The end\")\n",
    "end\n",
    "println(\"After the end\")"
   ]
  },
  {
   "cell_type": "markdown",
   "metadata": {
    "colab_type": "text",
    "id": "XNyuFEVER7-p"
   },
   "source": [
    "The equivalent Python code is shorter, but it's fairly uncommon:\n",
    "\n",
    "```python\n",
    "# PYTHON\n",
    "try:\n",
    "    print(\"Try something\")\n",
    "    raise Exception(\"Catch me!\") # try uncommenting this line\n",
    "except Exception as ex:\n",
    "    print(f\"I caught this exception: {ex}\")\n",
    "else:\n",
    "    raise Exception(\"Don't catch me!\") # try uncommenting this line\n",
    "    print(\"No error occured\")\n",
    "finally:\n",
    "    print(\"The end\")\n",
    "\n",
    "print(\"After the end\")\n",
    "```"
   ]
  },
  {
   "cell_type": "markdown",
   "metadata": {
    "colab_type": "text",
    "id": "Ieqz4vrxEAQb"
   },
   "source": [
    "# Docstrings\n",
    "It's good practice to add docstrings to every function you export. The docstring is placed just _before_ the definition of the function:"
   ]
  },
  {
   "cell_type": "code",
   "execution_count": null,
   "metadata": {
    "colab": {
     "base_uri": "https://localhost:8080/",
     "height": 34
    },
    "colab_type": "code",
    "id": "OgwehsQjNj8Y",
    "outputId": "5349c1fc-aacd-4686-a1de-88e601b6de0d"
   },
   "outputs": [],
   "source": [
    "\"Compute the square of number x\"\n",
    "square(x::Number) = x^2"
   ]
  },
  {
   "cell_type": "markdown",
   "metadata": {
    "colab_type": "text",
    "id": "B9vmLpLpO6ix"
   },
   "source": [
    "You can retrieve a function's docstring using the `@doc` macro:"
   ]
  },
  {
   "cell_type": "code",
   "execution_count": null,
   "metadata": {
    "colab": {
     "base_uri": "https://localhost:8080/",
     "height": 46
    },
    "colab_type": "code",
    "id": "rYR63pL1NsWU",
    "outputId": "ace0c6ee-c670-4d87-8bb3-8246975e265d"
   },
   "outputs": [],
   "source": [
    "@doc square"
   ]
  },
  {
   "cell_type": "markdown",
   "metadata": {
    "colab_type": "text",
    "id": "HcKzENGnO-8z"
   },
   "source": [
    "The docstring is displayed when asking for help:"
   ]
  },
  {
   "cell_type": "code",
   "execution_count": null,
   "metadata": {
    "colab": {
     "base_uri": "https://localhost:8080/",
     "height": 80
    },
    "colab_type": "code",
    "id": "O9xkw7uvNw9A",
    "outputId": "210e08e5-6f9b-4836-8eab-94f32a9ba133"
   },
   "outputs": [],
   "source": [
    "?square"
   ]
  },
  {
   "cell_type": "markdown",
   "metadata": {
    "colab_type": "text",
    "id": "wte1Y76jPKpd"
   },
   "source": [
    "Docstrings follow the [Markdown format](https://en.wikipedia.org/wiki/Markdown#:~:text=Markdown%20is%20a%20lightweight%20markup,using%20a%20plain%20text%20editor.).\n",
    "A typical docstring starts with the signature of the function, indented by 4 spaces, so it will get syntax highlighted as Julia code.\n",
    "It also includes an `Examples` section with Julia REPL outputs:"
   ]
  },
  {
   "cell_type": "code",
   "execution_count": null,
   "metadata": {
    "colab": {
     "base_uri": "https://localhost:8080/",
     "height": 34
    },
    "colab_type": "code",
    "id": "xucdR5ywNzTf",
    "outputId": "67f1a5e1-9d41-459e-ee2e-31ca5f90993f"
   },
   "outputs": [],
   "source": [
    "\"\"\"\n",
    "    cube(x::Number)\n",
    "\n",
    "Compute the cube of `x`.\n",
    "\n",
    "# Examples\n",
    "```julia-repl\n",
    "julia> cube(5)\n",
    "125\n",
    "julia> cube(im)\n",
    "0 - 1im\n",
    "```\n",
    "\"\"\"\n",
    "cube(x) = x^3"
   ]
  },
  {
   "cell_type": "markdown",
   "metadata": {
    "colab_type": "text",
    "id": "b2aSKGYkaN7D"
   },
   "source": [
    "Instead of using `julia-repl` code blocks for the examples, you can use `jldoctest` to mark these examples as doctests (similar to Python's doctests)."
   ]
  },
  {
   "cell_type": "markdown",
   "metadata": {
    "colab_type": "text",
    "id": "gJt_pU7oQFzT"
   },
   "source": [
    "The help gets nicely formatted:"
   ]
  },
  {
   "cell_type": "code",
   "execution_count": null,
   "metadata": {
    "colab": {
     "base_uri": "https://localhost:8080/",
     "height": 216
    },
    "colab_type": "code",
    "id": "FolAC9NdOYlH",
    "outputId": "3795d4f9-532a-40a3-d3ef-4fd9f002b182"
   },
   "outputs": [],
   "source": [
    "?cube"
   ]
  },
  {
   "cell_type": "markdown",
   "metadata": {
    "colab_type": "text",
    "id": "bT28xCa9QMcq"
   },
   "source": [
    "When there are several methods for a given function, it is common to give general information about the function in the first method (usually the most generic), and only add docstrings to other methods if they add useful information (without repeating the general info).\n",
    "\n",
    "Alternatively, you may attach the general information to the function itself:"
   ]
  },
  {
   "cell_type": "code",
   "execution_count": null,
   "metadata": {
    "colab": {
     "base_uri": "https://localhost:8080/",
     "height": 34
    },
    "colab_type": "code",
    "id": "mi3rw1dYQmkT",
    "outputId": "76e38aee-a63a-4f21-bcec-d1fee9d4b5b1"
   },
   "outputs": [],
   "source": [
    "\"\"\"\n",
    "    foo(x)\n",
    "\n",
    "Compute the foo of the bar\n",
    "\"\"\"\n",
    "function foo end  # declares the foo function\n",
    "\n",
    "# foo(x::Number) behaves normally, no need for a docstring\n",
    "foo(x::Number) = \"baz\"\n",
    "\n",
    "\"\"\"\n",
    "    foo(x::String)\n",
    "\n",
    "For strings, compute the qux of the bar instead.\n",
    "\"\"\"\n",
    "foo(x::String) = \"qux\""
   ]
  },
  {
   "cell_type": "code",
   "execution_count": null,
   "metadata": {
    "colab": {
     "base_uri": "https://localhost:8080/",
     "height": 153
    },
    "colab_type": "code",
    "id": "ffQK0fnPTXsH",
    "outputId": "d965f686-f6fd-4b7a-8be1-328b79095d71"
   },
   "outputs": [],
   "source": [
    "?foo"
   ]
  },
  {
   "cell_type": "markdown",
   "metadata": {
    "colab_type": "text",
    "id": "K80HBr5oGzo7"
   },
   "source": [
    "# Macros"
   ]
  },
  {
   "cell_type": "markdown",
   "metadata": {
    "colab_type": "text",
    "id": "QObp7sGRu6UJ"
   },
   "source": [
    "We have seen a few macros already: `@which`, `@assert`, `@time`, `@benchmark`, `@btime` and `@doc`. You guessed it: all macros start with an `@` sign.\n",
    "\n",
    "What is a macro? It is a function which can fully inspect the expression that follows it, and apply any transformation to that code at parse time, before compilation.\n",
    "\n",
    "This makes it possible for anyone to effectively extend the language in any way they please. Whereas C/C++ macros just do simple text replacement, **Julia macros are powerful meta-programming tools**.\n",
    "\n",
    "On the flip side, this also means that **each macro has its own syntax and behavior**.\n",
    "\n",
    "**A personal opinion**: in my experience, languages that provide great flexibility typically attract a community of programmers with a tinkering mindset, who will _love_ to experiment with all the fun features the language has to offer. This is great for creativity, but it can also be a nuisance if the community ends up producing too much experimental code, without much care for code reliability, API stability, or even for simplicity. By all means, let's be creative, let's experiment, but _with great power comes great responsibility_: let's also value reliability, stability and simplicity.\n",
    "\n",
    "That said, to give you an idea of what macro definitions look like in Julia, here's a simple toy macro that replaces `a + b` expressions with `a - b`, and leaves other expressions alone."
   ]
  },
  {
   "cell_type": "code",
   "execution_count": null,
   "metadata": {
    "colab": {
     "base_uri": "https://localhost:8080/",
     "height": 34
    },
    "colab_type": "code",
    "id": "piHUqhKBZGqu",
    "outputId": "09931592-399f-42d2-ec4d-6441e5e0efe8"
   },
   "outputs": [],
   "source": [
    "macro addtosub(x)\n",
    "  if x.head == :call && x.args[1] == :+ && length(x.args) == 3\n",
    "    Expr(:call, :-, x.args[2], x.args[3])\n",
    "  else\n",
    "    x\n",
    "  end\n",
    "end\n",
    "\n",
    "@addtosub 10 + 2"
   ]
  },
  {
   "cell_type": "markdown",
   "metadata": {
    "colab_type": "text",
    "id": "7rJOpjunbOFk"
   },
   "source": [
    "In this macro definition, `:call`, `:+` and `:-` are **symbols**. These are similar to strings, only more efficient and less flexible. They are typically used as identifiers, such as keys in dictionaries."
   ]
  },
  {
   "cell_type": "markdown",
   "metadata": {
    "colab_type": "text",
    "id": "MaXNB30jZ0o9"
   },
   "source": [
    "If you're curious, the macro works because the parser converts `10 + 2` to `Expr(:call, :+, 10, 2)` and passes this expression to the macro (before compilation). The `if` statement checks that the expression is a function call, where the called function is the `+` function, with two arguments. If so, then the macro returns a new expression, corresponding to a call to the `-` function, with the same arguments. So `a + b` becomes `a - b`."
   ]
  },
  {
   "cell_type": "markdown",
   "metadata": {
    "colab_type": "text",
    "id": "tDEx5z5thmJG"
   },
   "source": [
    "For more info, check out [this page](https://docs.julialang.org/en/v1/manual/metaprogramming/)."
   ]
  },
  {
   "cell_type": "markdown",
   "metadata": {
    "colab_type": "text",
    "id": "MKMAu-SPGaEp"
   },
   "source": [
    "## Special Prefixed Strings"
   ]
  },
  {
   "cell_type": "markdown",
   "metadata": {
    "colab_type": "text",
    "id": "RiczKNd3Evgz"
   },
   "source": [
    "`py\"...\"` strings are defined by the `PyCall` module. Writing `py\"something\"` is equivalent to writing `@py_str \"something\"`. In other words, anyone can write a macro that defines a new kind of prefixed string. For example, if you write the `@ok_str` macro, it will be called when you write `ok\"something\"`.\n",
    "\n",
    "Another example is the `Pkg` module which defines the `@pkg_str` macro: this is why you can use `pkg\"...\"` to interact with the `Pkg` module. This is how `pkg\"add PyCall; precompile;\"` worked (at the end of the very first cell). This downloaded, installed and precompiled the `PyCall` module."
   ]
  },
  {
   "cell_type": "markdown",
   "metadata": {
    "colab_type": "text",
    "id": "V2DqnxfIS47B"
   },
   "source": [
    "# Modules\n",
    "In Python, a module must be defined in a dedicated file. In Julia, modules are independent from the file system. You can define several modules per file, or define one module across multiple files, it's up to you. Let's create a simple module containing two submodules, each containing a variable and a function:"
   ]
  },
  {
   "cell_type": "code",
   "execution_count": null,
   "metadata": {
    "colab": {
     "base_uri": "https://localhost:8080/",
     "height": 34
    },
    "colab_type": "code",
    "id": "u9tQpD0JS_gm",
    "outputId": "e1106b20-10c7-455a-b566-82d42c361166"
   },
   "outputs": [],
   "source": [
    "module ModA\n",
    "    pi = 3.14\n",
    "    square(x) = x^2\n",
    "\n",
    "    module ModB\n",
    "        e = 2.718\n",
    "        cube(x) = x^3\n",
    "    end\n",
    "\n",
    "    module ModC\n",
    "        root2 = √2\n",
    "        relu(x) = max(0, x)\n",
    "    end\n",
    "end"
   ]
  },
  {
   "cell_type": "markdown",
   "metadata": {
    "colab_type": "text",
    "id": "olgUIIbvYBQq"
   },
   "source": [
    "The default module is `Main`, so whatever we define is put in this module (except when defining a package, as we will see). This is why the `ModA`'s full name is `Main.ModA`."
   ]
  },
  {
   "cell_type": "markdown",
   "metadata": {
    "colab_type": "text",
    "id": "bnP_rALhVlw3"
   },
   "source": [
    "We can now access the contents of these modules by providing the full paths:"
   ]
  },
  {
   "cell_type": "code",
   "execution_count": null,
   "metadata": {
    "colab": {
     "base_uri": "https://localhost:8080/",
     "height": 34
    },
    "colab_type": "code",
    "id": "IFOTvRKXXVNr",
    "outputId": "0194dada-f2f6-46a4-b087-4901019e99cd"
   },
   "outputs": [],
   "source": [
    "Main.ModA.ModC.root2"
   ]
  },
  {
   "cell_type": "markdown",
   "metadata": {
    "colab_type": "text",
    "id": "Z-ooQk9zYY1N"
   },
   "source": [
    "Since our code runs in the `Main` module, we can leave out the `Main.` part:"
   ]
  },
  {
   "cell_type": "code",
   "execution_count": null,
   "metadata": {
    "colab": {
     "base_uri": "https://localhost:8080/",
     "height": 34
    },
    "colab_type": "code",
    "id": "JnnhVg1eYhLz",
    "outputId": "f1cbd512-b738-4956-dde6-6bfbd8a36c66"
   },
   "outputs": [],
   "source": [
    "ModA.ModC.root2"
   ]
  },
  {
   "cell_type": "markdown",
   "metadata": {
    "colab_type": "text",
    "id": "7liRTwI2Xd5e"
   },
   "source": [
    "Alternatively, you can use `import`:"
   ]
  },
  {
   "cell_type": "code",
   "execution_count": null,
   "metadata": {
    "colab": {
     "base_uri": "https://localhost:8080/",
     "height": 34
    },
    "colab_type": "code",
    "id": "DxT44ZvnXoGN",
    "outputId": "54a982de-807e-42c6-abaa-e40a9e6e91e7"
   },
   "outputs": [],
   "source": [
    "import Main.ModA.ModC.root2\n",
    "\n",
    "root2"
   ]
  },
  {
   "cell_type": "markdown",
   "metadata": {
    "colab_type": "text",
    "id": "TpOjKGi8Ymmu"
   },
   "source": [
    "Or we can use `import` with a relative path. In this case, we need to prefix `ModA` with a dot `.` to indicate that we want the module `ModA` located in the current module:"
   ]
  },
  {
   "cell_type": "code",
   "execution_count": null,
   "metadata": {
    "colab": {
     "base_uri": "https://localhost:8080/",
     "height": 34
    },
    "colab_type": "code",
    "id": "9kqmiNNTYpQY",
    "outputId": "688dcfaa-213e-44bc-db30-f57aa1297b2a"
   },
   "outputs": [],
   "source": [
    "import .ModA.ModC.root2\n",
    "\n",
    "root2"
   ]
  },
  {
   "cell_type": "markdown",
   "metadata": {
    "colab_type": "text",
    "id": "U1jBsBSyYshg"
   },
   "source": [
    "Alternatively, we can `import` the submodule:"
   ]
  },
  {
   "cell_type": "code",
   "execution_count": null,
   "metadata": {
    "colab": {
     "base_uri": "https://localhost:8080/",
     "height": 34
    },
    "colab_type": "code",
    "id": "5Xui2RQEZROC",
    "outputId": "26799e98-bd8d-4918-d51c-b79a86cd9ed2"
   },
   "outputs": [],
   "source": [
    "import .ModA.ModC\n",
    "\n",
    "ModC.root2"
   ]
  },
  {
   "cell_type": "markdown",
   "metadata": {
    "colab_type": "text",
    "id": "8mz_KKlAZXPH"
   },
   "source": [
    "When you want to import more than one name from a module, you can use this syntax:"
   ]
  },
  {
   "cell_type": "code",
   "execution_count": null,
   "metadata": {
    "colab": {},
    "colab_type": "code",
    "id": "qtmDevYgZh5I"
   },
   "outputs": [],
   "source": [
    "import .ModA.ModC: root2, relu"
   ]
  },
  {
   "cell_type": "markdown",
   "metadata": {
    "colab_type": "text",
    "id": "T1nyVSefZotn"
   },
   "source": [
    "This is equivalent to this more verbose syntax:"
   ]
  },
  {
   "cell_type": "code",
   "execution_count": null,
   "metadata": {
    "colab": {},
    "colab_type": "code",
    "id": "s-i-7QIGZrQn"
   },
   "outputs": [],
   "source": [
    "import .ModA.ModC.root2, .ModA.ModC.relu"
   ]
  },
  {
   "cell_type": "markdown",
   "metadata": {
    "colab_type": "text",
    "id": "rJSA9aljZ3BN"
   },
   "source": [
    "Nested modules do <u>not</u> automatically have access to names in enclosing modules. To import names from a parent module, use `..x`. From a grand-parent module, use `...x`, and so on."
   ]
  },
  {
   "cell_type": "code",
   "execution_count": null,
   "metadata": {
    "colab": {
     "base_uri": "https://localhost:8080/",
     "height": 85
    },
    "colab_type": "code",
    "id": "NvRtf5SWZ_Wk",
    "outputId": "16ae8e50-882e-4e5e-e891-32be64d2aed5"
   },
   "outputs": [],
   "source": [
    "module ModD\n",
    "    d = 1\n",
    "    module ModE\n",
    "        try\n",
    "            println(d)\n",
    "        catch ex\n",
    "            println(ex)\n",
    "        end\n",
    "    end\n",
    "    module ModF\n",
    "        f = 2\n",
    "        module ModG\n",
    "            import ..f\n",
    "            import ...d\n",
    "            println(f)\n",
    "            println(d)\n",
    "        end\n",
    "    end\n",
    "end"
   ]
  },
  {
   "cell_type": "markdown",
   "metadata": {
    "colab_type": "text",
    "id": "y_YxkO1ebZEb"
   },
   "source": [
    "Instead of `import`, you can use `using`. It is analog to Python's `from foo import *`. It only gives access to names which were explicitly exported using `export` (similar to the way `from foo import *` in Python only imports names listed in the module's `__all__` list):"
   ]
  },
  {
   "cell_type": "code",
   "execution_count": null,
   "metadata": {
    "colab": {
     "base_uri": "https://localhost:8080/",
     "height": 34
    },
    "colab_type": "code",
    "id": "CNDHFWv2blSk",
    "outputId": "b7194f79-c367-4da5-dff3-7a34634738bf"
   },
   "outputs": [],
   "source": [
    "module ModH\n",
    "    h1 = 1\n",
    "    h2 = 2\n",
    "    export h1\n",
    "end"
   ]
  },
  {
   "cell_type": "code",
   "execution_count": null,
   "metadata": {
    "colab": {
     "base_uri": "https://localhost:8080/",
     "height": 51
    },
    "colab_type": "code",
    "id": "TrlkNAZjcDpv",
    "outputId": "5ead6b73-e64e-4ab9-e540-4fa9d4936781"
   },
   "outputs": [],
   "source": [
    "using .ModH\n",
    "\n",
    "println(h1)\n",
    "\n",
    "try\n",
    "    println(h2)\n",
    "catch ex\n",
    "    ex\n",
    "end"
   ]
  },
  {
   "cell_type": "markdown",
   "metadata": {
    "colab_type": "text",
    "id": "XA-8xz9XBkFr"
   },
   "source": [
    "Note that `using Foo` not only imports all exported names (like Python's `from foo import *`), it also imports `Foo` itself (similarly, `using Foo.Bar` imports `Bar` itself):\n"
   ]
  },
  {
   "cell_type": "code",
   "execution_count": null,
   "metadata": {
    "colab": {
     "base_uri": "https://localhost:8080/",
     "height": 34
    },
    "colab_type": "code",
    "id": "b2j0lGheB4DK",
    "outputId": "4a679c87-c9fe-4c4c-ef15-d770baae456e"
   },
   "outputs": [],
   "source": [
    "ModH"
   ]
  },
  {
   "cell_type": "markdown",
   "metadata": {
    "colab_type": "text",
    "id": "ZJr74QBRzuEo"
   },
   "source": [
    "Even if a name is not exported, you can always access it using its full path, or using `import`:"
   ]
  },
  {
   "cell_type": "code",
   "execution_count": null,
   "metadata": {
    "colab": {
     "base_uri": "https://localhost:8080/",
     "height": 34
    },
    "colab_type": "code",
    "id": "yjCkh4voz44p",
    "outputId": "03910d94-bbb5-4736-b796-fd305d5dcd08"
   },
   "outputs": [],
   "source": [
    "ModH.h2"
   ]
  },
  {
   "cell_type": "code",
   "execution_count": null,
   "metadata": {
    "colab": {
     "base_uri": "https://localhost:8080/",
     "height": 34
    },
    "colab_type": "code",
    "id": "SAL1D1dRz7oy",
    "outputId": "e1273670-5827-4035-e7dd-fc78c52fbca0"
   },
   "outputs": [],
   "source": [
    "import .ModH.h2\n",
    "\n",
    "h2"
   ]
  },
  {
   "cell_type": "markdown",
   "metadata": {
    "colab_type": "text",
    "id": "1UfcZp6fcNdT"
   },
   "source": [
    "You can also import individual names like this:"
   ]
  },
  {
   "cell_type": "code",
   "execution_count": null,
   "metadata": {
    "colab": {
     "base_uri": "https://localhost:8080/",
     "height": 51
    },
    "colab_type": "code",
    "id": "fQPAWJMRzOmj",
    "outputId": "a9c9c21a-89af-45ee-a63c-11dfbface9d7"
   },
   "outputs": [],
   "source": [
    "module ModG\n",
    "    g1 = 1\n",
    "    g2 = 2\n",
    "    export g2\n",
    "end\n",
    "\n",
    "using .ModG: g1, g2\n",
    "\n",
    "println(g1)\n",
    "println(g2)"
   ]
  },
  {
   "cell_type": "markdown",
   "metadata": {
    "colab_type": "text",
    "id": "Y5ToJpN_0RMa"
   },
   "source": [
    "Notice that this syntax gives you access to any name you want, whether or not it was exported. In other words, whether a name is exported or not only affects the `using Foo` syntax."
   ]
  },
  {
   "cell_type": "markdown",
   "metadata": {
    "colab_type": "text",
    "id": "yzXfmlAg0diH"
   },
   "source": [
    "Importantly, when you want to expand a function which is defined in a module, you must import the function using `import`, or you must specify the function's path:"
   ]
  },
  {
   "cell_type": "code",
   "execution_count": null,
   "metadata": {
    "colab": {
     "base_uri": "https://localhost:8080/",
     "height": 102
    },
    "colab_type": "code",
    "id": "BfOgteoF0m4X",
    "outputId": "63381892-8b35-4b50-f2fa-2f029ebad3f7"
   },
   "outputs": [],
   "source": [
    "module ModH\n",
    "    double(x) = x * 2\n",
    "    triple(x) = x * 3\n",
    "end\n",
    "\n",
    "import .ModH: double\n",
    "double(x::AbstractString) = repeat(x, 2)\n",
    "\n",
    "ModH.triple(x::AbstractString) = repeat(x, 3)\n",
    "\n",
    "println(double(2))\n",
    "println(double(\"Two\"))\n",
    "\n",
    "println(ModH.triple(3))\n",
    "println(ModH.triple(\"Three\"))"
   ]
  },
  {
   "cell_type": "markdown",
   "metadata": {
    "colab_type": "text",
    "id": "c4c2yTaS7fvj"
   },
   "source": [
    "You must never extend a function imported with `using`, unless you provide the function's path:"
   ]
  },
  {
   "cell_type": "code",
   "execution_count": null,
   "metadata": {
    "colab": {
     "base_uri": "https://localhost:8080/",
     "height": 51
    },
    "colab_type": "code",
    "id": "18mmhRsP18o_",
    "outputId": "6530b3f2-ecbd-4406-d2ca-36f704d9f253"
   },
   "outputs": [],
   "source": [
    "module ModI\n",
    "    quadruple(x) = x * 4\n",
    "    export quadruple\n",
    "end\n",
    "\n",
    "using .ModI\n",
    "ModI.quadruple(x::AbstractString) = repeat(x, 4) # OK\n",
    "println(quadruple(4))\n",
    "println(quadruple(\"Four\"))\n",
    "\n",
    "#quadruple(x::AbstractString) = repeat(x, 4) # uncomment to see the error"
   ]
  },
  {
   "cell_type": "markdown",
   "metadata": {
    "colab_type": "text",
    "id": "0gwWiNqfD-Pp"
   },
   "source": [
    "There is no equivalent of Python's `import foo as x` ([yet](https://github.com/JuliaLang/julia/issues/1255)), but you can do something like this:"
   ]
  },
  {
   "cell_type": "code",
   "execution_count": null,
   "metadata": {
    "colab": {
     "base_uri": "https://localhost:8080/",
     "height": 34
    },
    "colab_type": "code",
    "id": "2eGsfHqkEViW",
    "outputId": "1a1bcc2d-4e56-4fc2-c7dd-5ceebd57742f"
   },
   "outputs": [],
   "source": [
    "import .ModI: quadruple\n",
    "x = quadruple"
   ]
  },
  {
   "cell_type": "markdown",
   "metadata": {
    "colab_type": "text",
    "id": "pB4HxazHyNiF"
   },
   "source": [
    "In general, a module named `Foo` will be defined in a file named `Foo.jl` (along with its submodules). However, if the module becomes too big for a single file, you can split it into multiple files and include these files in `Foo.jl` using the `include()` function.\n",
    "\n",
    "For example, let's create three files: `Awesome.jl`, `great.jl` and `amazing/Fantastic.jl`, where:\n",
    "* `Awesome.jl` defines the `Awesome` module and includes the other two files\n",
    "* `great.jl` just defines a function\n",
    "* `amazing/Fantastic.jl` defines the `Fantastic` submodule"
   ]
  },
  {
   "cell_type": "code",
   "execution_count": null,
   "metadata": {
    "colab": {
     "base_uri": "https://localhost:8080/",
     "height": 34
    },
    "colab_type": "code",
    "id": "A9iOU4XWundK",
    "outputId": "30f28135-d90d-44ea-b3bd-937c9aa59f96"
   },
   "outputs": [],
   "source": [
    "code_awesome = \"\"\"\n",
    "module Awesome\n",
    "include(\"great.jl\")\n",
    "include(\"amazing/Fantastic.jl\")\n",
    "end\n",
    "\"\"\"\n",
    "\n",
    "code_great = \"\"\"\n",
    "great() = \"This is great!\"\n",
    "\"\"\"\n",
    "\n",
    "code_fantastic = \"\"\"\n",
    "module Fantastic\n",
    "fantastic = true\n",
    "end\n",
    "\"\"\"\n",
    "\n",
    "open(f->write(f, code_awesome), \"Awesome.jl\", \"w\")\n",
    "open(f->write(f, code_great), \"great.jl\", \"w\")\n",
    "mkdir(\"amazing\")\n",
    "open(f->write(f, code_fantastic), \"amazing/Fantastic.jl\", \"w\")"
   ]
  },
  {
   "cell_type": "markdown",
   "metadata": {
    "colab_type": "text",
    "id": "3OYEv-P-xGHg"
   },
   "source": [
    "If we try to execute `import Awesome` now, it won't work since Julia does not search in the current directory by default. Let's change this:"
   ]
  },
  {
   "cell_type": "code",
   "execution_count": null,
   "metadata": {
    "colab": {
     "base_uri": "https://localhost:8080/",
     "height": 102
    },
    "colab_type": "code",
    "id": "Zz-JHOzXxZj5",
    "outputId": "4220de9f-7bcc-4f30-8fed-5a4755b5408e"
   },
   "outputs": [],
   "source": [
    "pushfirst!(LOAD_PATH, \".\")"
   ]
  },
  {
   "cell_type": "markdown",
   "metadata": {
    "colab_type": "text",
    "id": "L8H2XLMAww7g"
   },
   "source": [
    "Now when we import the `Awesome` module, Julia will look for a file named `Awesome.jl` in the current directory, or for `Awesome/src/Awesome.jl`, or for `Awesome.jl/src/Awesome.jl`. If it does not find any of these, it will look in the other places listed in the `LOAD_PATH` array (we will discuss this in more details in the \"Package Management\" section)."
   ]
  },
  {
   "cell_type": "code",
   "execution_count": null,
   "metadata": {
    "colab": {
     "base_uri": "https://localhost:8080/",
     "height": 85
    },
    "colab_type": "code",
    "id": "V4crjErQvuYf",
    "outputId": "62e8cfbe-5445-43b1-8c7a-8ea5853892bd"
   },
   "outputs": [],
   "source": [
    "import Awesome\n",
    "println(Awesome.great())\n",
    "println(\"Is fantastic? \", Awesome.Fantastic.fantastic)"
   ]
  },
  {
   "cell_type": "markdown",
   "metadata": {
    "colab_type": "text",
    "id": "zpLsSNQbttj1"
   },
   "source": [
    "Let's restore the original `LOAD_PATH`:"
   ]
  },
  {
   "cell_type": "code",
   "execution_count": null,
   "metadata": {
    "colab": {
     "base_uri": "https://localhost:8080/",
     "height": 34
    },
    "colab_type": "code",
    "id": "zV4wd4Natxw7",
    "outputId": "3a8a67c3-a839-4bc2-9101-84cbac482d27"
   },
   "outputs": [],
   "source": [
    "popfirst!(LOAD_PATH)"
   ]
  },
  {
   "cell_type": "markdown",
   "metadata": {
    "colab_type": "text",
    "id": "Jz7_FaJcaZn-"
   },
   "source": [
    "In short:\n",
    "\n",
    "|Julia | Python\n",
    "|------|-------\n",
    "|`import Foo` | `import foo`\n",
    "|`import Foo.Bar` | `from foo import bar`\n",
    "|`import Foo.Bar: a, b` | `from foo.bar import a, b`\n",
    "|`import Foo.Bar.a, Foo.Bar.b` | `from foo.bar import a, b`\n",
    "|`import .Foo` | `import .foo`\n",
    "|`import ..Foo.Bar` | `from ..foo import bar`\n",
    "|`import ...Foo.Bar` | `from ...foo import bar`\n",
    "|`import .Foo: a, b` | `from .foo import a, b`\n",
    "||\n",
    "|`using Foo` | `from foo import *; import foo`\n",
    "|`using Foo.Bar` | `from foo.bar import *; from foo import bar `\n",
    "|`using Foo.Bar: a, b` | `from foo.bar import a, b`\n",
    "\n",
    "|Extending function `Foo.f()` | Result\n",
    "|-----------------------------|--------\n",
    "|`import Foo.f  # or Foo: f` <br />`f(x::Int64) = ...`  | OK\n",
    "|`import Foo`<br />`Foo.f(x::Int64) = ...` | OK\n",
    "|`using Foo`<br />`Foo.f(x::Int64) = ...` | OK\n",
    "|`import Foo.f # or Foo: f`<br />`Foo.f(x::Int64) = ...` | `ERROR: Foo not defined`\n",
    "|`using Foo`<br />`f(x::Int64) = ...` | `ERROR: Foo.f must be explicitly imported`\n",
    "|`using Foo: f`<br />`f(x::Int64) = ...` | `ERROR: Foo.f must be explicitly imported`"
   ]
  },
  {
   "cell_type": "markdown",
   "metadata": {
    "colab_type": "text",
    "id": "Inpk8qS3HL_u"
   },
   "source": [
    "# Scopes\n",
    "Julia has two types of scopes: global and local.\n",
    "\n",
    "Every module has its own global scope, independent from all other global scopes. There is no overarching global scope.\n",
    "\n",
    "Modules, macros and types (including structs) can only be defined in a global scope.\n",
    "\n",
    "Most code blocks, including `function`, `struct`, `for`, `while`, etc., have their own local scope. For example:"
   ]
  },
  {
   "cell_type": "code",
   "execution_count": null,
   "metadata": {
    "colab": {
     "base_uri": "https://localhost:8080/",
     "height": 85
    },
    "colab_type": "code",
    "id": "q3Lm3T1DG6St",
    "outputId": "a3b4f4c0-05e5-4106-ac55-61febecae8d8"
   },
   "outputs": [],
   "source": [
    "for q in 1:3\n",
    "    println(q)\n",
    "end\n",
    "\n",
    "try\n",
    "    println(q) # q is not available here\n",
    "catch ex\n",
    "    ex\n",
    "end"
   ]
  },
  {
   "cell_type": "markdown",
   "metadata": {
    "colab_type": "text",
    "id": "Wh6xa4fyJLYY"
   },
   "source": [
    "A local scope inherits from its parent scope:"
   ]
  },
  {
   "cell_type": "code",
   "execution_count": null,
   "metadata": {
    "colab": {
     "base_uri": "https://localhost:8080/",
     "height": 68
    },
    "colab_type": "code",
    "id": "IeLfjf4ZJQ41",
    "outputId": "42f67475-7b56-41c0-b8b0-e571744f3761"
   },
   "outputs": [],
   "source": [
    "z = 5\n",
    "for i in 1:3\n",
    "    w = 10\n",
    "    println(i * w * z) # i and w are local, z is from the parent scope\n",
    "end"
   ]
  },
  {
   "cell_type": "markdown",
   "metadata": {
    "colab_type": "text",
    "id": "OQLfwoD3NoC_"
   },
   "source": [
    "An inner scope can assign to a variable in the parent scope, if the parent scope is not global:"
   ]
  },
  {
   "cell_type": "code",
   "execution_count": null,
   "metadata": {
    "colab": {
     "base_uri": "https://localhost:8080/",
     "height": 68
    },
    "colab_type": "code",
    "id": "fwN1C2BhNxyZ",
    "outputId": "ac857f21-52f6-438b-f1cc-913f14656200"
   },
   "outputs": [],
   "source": [
    "for i in 1:3\n",
    "    s = 0\n",
    "    for j in 1:5\n",
    "        s = j # variable s is from the parent scope\n",
    "    end\n",
    "    println(s)\n",
    "end"
   ]
  },
  {
   "cell_type": "markdown",
   "metadata": {
    "colab_type": "text",
    "id": "0m3aoj8UKxS4"
   },
   "source": [
    "You can force a variable to be local by using the `local` keyword:"
   ]
  },
  {
   "cell_type": "code",
   "execution_count": null,
   "metadata": {
    "colab": {
     "base_uri": "https://localhost:8080/",
     "height": 68
    },
    "colab_type": "code",
    "id": "hlireAo6K3eS",
    "outputId": "ce809c18-28c7-41c4-aa8c-7caf19fd37c6"
   },
   "outputs": [],
   "source": [
    "for i in 1:3\n",
    "    s = 0\n",
    "    for j in 1:5\n",
    "        local s = j # variable s is local now\n",
    "    end\n",
    "    println(s)\n",
    "end"
   ]
  },
  {
   "cell_type": "markdown",
   "metadata": {
    "colab_type": "text",
    "id": "qwo2DWNIN8oR"
   },
   "source": [
    "To assign to a global variable, you must declare the variable as `global` in the local scope:"
   ]
  },
  {
   "cell_type": "code",
   "execution_count": null,
   "metadata": {
    "colab": {
     "base_uri": "https://localhost:8080/",
     "height": 34
    },
    "colab_type": "code",
    "id": "rPnibZjLOFHv",
    "outputId": "3eef23d4-e01a-4478-dd25-74337c690ee4"
   },
   "outputs": [],
   "source": [
    "for i in 1:3\n",
    "    global p\n",
    "    p = i\n",
    "end\n",
    "p"
   ]
  },
  {
   "cell_type": "markdown",
   "metadata": {
    "colab_type": "text",
    "id": "tL5AgzVjOKuo"
   },
   "source": [
    "There is one exception to this rule: when executing code directly in the REPL (since Julia 1.5) or in IJulia, you do not need to declare a variable as `global` if the global variable already exists:"
   ]
  },
  {
   "cell_type": "code",
   "execution_count": null,
   "metadata": {
    "colab": {
     "base_uri": "https://localhost:8080/",
     "height": 34
    },
    "colab_type": "code",
    "id": "PKZPY8XOOlT9",
    "outputId": "94fd1821-1915-4a3b-a95c-bf7d512f4ebf"
   },
   "outputs": [],
   "source": [
    "s = 0\n",
    "for i in 1:3\n",
    "    s = i # implicitly global s: only in REPL Julia 1.5+ or IJulia\n",
    "end\n",
    "s"
   ]
  },
  {
   "cell_type": "markdown",
   "metadata": {
    "colab_type": "text",
    "id": "Ne7zn3qgPo6M"
   },
   "source": [
    "In functions, assigning to a variable which is not explicitly declared as global always makes it local (even in the REPL and IJulia):"
   ]
  },
  {
   "cell_type": "code",
   "execution_count": null,
   "metadata": {
    "colab": {
     "base_uri": "https://localhost:8080/",
     "height": 51
    },
    "colab_type": "code",
    "id": "RJgKv_6oPhH2",
    "outputId": "45ce3760-16b6-490f-87bb-45b0d8c4cbac"
   },
   "outputs": [],
   "source": [
    "s, t = 1, 2 # globals\n",
    "\n",
    "function foo()\n",
    "   s = 10 * t # s is local, t is global\n",
    "end\n",
    "\n",
    "println(foo())\n",
    "println(s)"
   ]
  },
  {
   "cell_type": "markdown",
   "metadata": {
    "colab_type": "text",
    "id": "DhnbEml6SiTG"
   },
   "source": [
    "Just like in Python, functions can capture variables from the enclosing scope (not from the scope the function is called from):"
   ]
  },
  {
   "cell_type": "code",
   "execution_count": null,
   "metadata": {
    "colab": {
     "base_uri": "https://localhost:8080/",
     "height": 34
    },
    "colab_type": "code",
    "id": "B1lAq94XS6yX",
    "outputId": "1575ff87-d051-429a-dfe8-7e577d2b681e"
   },
   "outputs": [],
   "source": [
    "t = 1\n",
    "\n",
    "foo() = t # foo() captures t from the global scope\n",
    "\n",
    "function bar()\n",
    "    t = 5 # this is a new local variable\n",
    "    println(foo()) # foo() still uses t from the global scope\n",
    "end\n",
    "\n",
    "bar()"
   ]
  },
  {
   "cell_type": "code",
   "execution_count": null,
   "metadata": {
    "colab": {
     "base_uri": "https://localhost:8080/",
     "height": 34
    },
    "colab_type": "code",
    "id": "a460UCKFTXt7",
    "outputId": "cc99ed02-d064-4436-deaf-cac4cc16d7ca"
   },
   "outputs": [],
   "source": [
    "function quz()\n",
    "    global t\n",
    "    t = 5 # we change the global t\n",
    "    println(foo()) # and this affects foo()\n",
    "end\n",
    "\n",
    "quz()"
   ]
  },
  {
   "cell_type": "markdown",
   "metadata": {
    "colab_type": "text",
    "id": "MKsqCB48UxiU"
   },
   "source": [
    "Closures work much like in Python:"
   ]
  },
  {
   "cell_type": "code",
   "execution_count": null,
   "metadata": {
    "colab": {
     "base_uri": "https://localhost:8080/",
     "height": 34
    },
    "colab_type": "code",
    "id": "CvyNc-ksT22C",
    "outputId": "0f6c7325-32e8-43a9-e5c6-00b001e553a7"
   },
   "outputs": [],
   "source": [
    "function create_multiplier(n)\n",
    "    function mul(x)\n",
    "        x * n # variable n is captured from the parent scope\n",
    "    end\n",
    "end\n",
    "\n",
    "mul2 = create_multiplier(2)\n",
    "mul2(5)"
   ]
  },
  {
   "cell_type": "markdown",
   "metadata": {
    "colab_type": "text",
    "id": "5qAMInDsUtJN"
   },
   "source": [
    "An inner function can modify variables from its parent scope:"
   ]
  },
  {
   "cell_type": "code",
   "execution_count": null,
   "metadata": {
    "colab": {
     "base_uri": "https://localhost:8080/",
     "height": 51
    },
    "colab_type": "code",
    "id": "s0JpWoqcU9-P",
    "outputId": "791fef4f-5b9e-45db-8246-fc585f55dbcc"
   },
   "outputs": [],
   "source": [
    "function create_counter()\n",
    "    c = 0\n",
    "    inc() = c += 1 # this inner function modifies the c from the outer function\n",
    "end\n",
    "\n",
    "cnt = create_counter()\n",
    "println(cnt())\n",
    "println(cnt())"
   ]
  },
  {
   "cell_type": "markdown",
   "metadata": {
    "colab_type": "text",
    "id": "4ai7b0ZAlrjT"
   },
   "source": [
    "Consider the following code, and see if you can figure out why it prints the same result multiple times:"
   ]
  },
  {
   "cell_type": "code",
   "execution_count": null,
   "metadata": {
    "colab": {
     "base_uri": "https://localhost:8080/",
     "height": 102
    },
    "colab_type": "code",
    "id": "eEe2LtvSl0Ea",
    "outputId": "7b0b09c6-46ed-49cb-cf23-0f2e28d54f76"
   },
   "outputs": [],
   "source": [
    "funcs = []\n",
    "i = 1\n",
    "while i ≤ 5\n",
    "    push!(funcs, ()->i^2)\n",
    "    global i += 1\n",
    "end\n",
    "for fn in funcs\n",
    "    println(fn())\n",
    "end"
   ]
  },
  {
   "cell_type": "markdown",
   "metadata": {
    "colab_type": "text",
    "id": "ryvtm8pImQlB"
   },
   "source": [
    "The answer is that there is a single variable `i`, which is captured by all 5 closures. By the time these closures are executed, the value of `i` is 6, so the square is 36, for every closure."
   ]
  },
  {
   "cell_type": "markdown",
   "metadata": {
    "colab_type": "text",
    "id": "PWkRl2Yfm4A8"
   },
   "source": [
    "If we use a `for` loop, we don't have this problem, since a new local variable is created at every iteration:"
   ]
  },
  {
   "cell_type": "code",
   "execution_count": null,
   "metadata": {
    "colab": {
     "base_uri": "https://localhost:8080/",
     "height": 102
    },
    "colab_type": "code",
    "id": "zRrKzMHjnBD_",
    "outputId": "89ef2aee-5968-45f0-9b74-f1e36609ce55"
   },
   "outputs": [],
   "source": [
    "funcs = []\n",
    "for i in 1:5\n",
    "    push!(funcs, ()->i^2)\n",
    "end\n",
    "for fn in funcs\n",
    "    println(fn())\n",
    "end"
   ]
  },
  {
   "cell_type": "markdown",
   "metadata": {
    "colab_type": "text",
    "id": "URV8meLypzMG"
   },
   "source": [
    "Any local variable created within a `for` loop, a `while` loop or a comprehension also get a new copy at each iteration. So we could code the above example like this:"
   ]
  },
  {
   "cell_type": "code",
   "execution_count": null,
   "metadata": {
    "colab": {
     "base_uri": "https://localhost:8080/",
     "height": 102
    },
    "colab_type": "code",
    "id": "xjXXASVEqBim",
    "outputId": "c9600ed5-fdfc-4aaa-b783-e5fe4f700e69"
   },
   "outputs": [],
   "source": [
    "funcs = []\n",
    "i = 1\n",
    "while i ≤ 5  # since we are in a while loop...\n",
    "    global i\n",
    "    local j = i # ...and j is created here, it's a new `j` at each iteration\n",
    "    push!(funcs, ()->j^2)\n",
    "    i += 1\n",
    "end\n",
    "for fn in funcs\n",
    "    println(fn())\n",
    "end"
   ]
  },
  {
   "cell_type": "markdown",
   "metadata": {
    "colab_type": "text",
    "id": "Vazl0dRDnLpk"
   },
   "source": [
    "Another way to get the same result is to use a `let` block, which also creates a new local variable every time it is executed:"
   ]
  },
  {
   "cell_type": "code",
   "execution_count": null,
   "metadata": {
    "colab": {
     "base_uri": "https://localhost:8080/",
     "height": 102
    },
    "colab_type": "code",
    "id": "X-HuxLIdnSgB",
    "outputId": "79ebe39c-80e4-4c9a-9366-1ca3609eb83b"
   },
   "outputs": [],
   "source": [
    "funcs = []\n",
    "i = 0\n",
    "while i < 5\n",
    "    let i=i\n",
    "        push!(funcs, ()->i^2)\n",
    "    end\n",
    "    global i += 1\n",
    "end\n",
    "for fn in funcs\n",
    "    println(fn())\n",
    "end"
   ]
  },
  {
   "cell_type": "markdown",
   "metadata": {
    "colab_type": "text",
    "id": "fXEf0zs0no--"
   },
   "source": [
    "This `let i=i` block defines a new local variable `i` at every iteration, and initializes it with the value of `i` from the parent scope. Therefore each closure captures a different local variable `i`."
   ]
  },
  {
   "cell_type": "markdown",
   "metadata": {
    "colab_type": "text",
    "id": "TKWWfJacoDU0"
   },
   "source": [
    "Variables in a `let` block are initialized from left to right, so they can access variables on their left:"
   ]
  },
  {
   "cell_type": "code",
   "execution_count": null,
   "metadata": {
    "colab": {
     "base_uri": "https://localhost:8080/",
     "height": 34
    },
    "colab_type": "code",
    "id": "HPXugdyUoH6R",
    "outputId": "504dde14-cfdb-4a51-c470-4d69111ad700"
   },
   "outputs": [],
   "source": [
    "a = 1\n",
    "let a=a+1, b=a\n",
    "    println(\"a=$a, b=$b\")\n",
    "end"
   ]
  },
  {
   "cell_type": "markdown",
   "metadata": {
    "colab_type": "text",
    "id": "S9-frzGloRln"
   },
   "source": [
    "In this example, the local variable `a` is initialized with the value of `a + 1`, where `a` comes from the parent scope (i.e., it's the global `a` in this case). However, `b` is initialized with the value of the local `a`, since it now hides the variable `a` from the parent scope."
   ]
  },
  {
   "cell_type": "markdown",
   "metadata": {
    "colab_type": "text",
    "id": "SEI5E2xbgYHl"
   },
   "source": [
    "Default values in function arguments also have this left-to-right scoping logic:"
   ]
  },
  {
   "cell_type": "code",
   "execution_count": null,
   "metadata": {
    "colab": {
     "base_uri": "https://localhost:8080/",
     "height": 34
    },
    "colab_type": "code",
    "id": "S-E8aGtPgBCx",
    "outputId": "b63d16dc-bd39-451d-ba15-e6789018e6fa"
   },
   "outputs": [],
   "source": [
    "a = 1\n",
    "foo(a=a+1, b=a) = println(\"a=$a, b=$b\")\n",
    "foo()\n",
    "foo(5)"
   ]
  },
  {
   "cell_type": "markdown",
   "metadata": {
    "colab_type": "text",
    "id": "PzqwY5FngkML"
   },
   "source": [
    "In this example, the first argument's default value is `a + 1`, where `a` comes from the parent scope (i.e., the global `a` in this case). However, the second argument's default value is `a`, where `a` in this case is the value of the first argument (<u>not</u> the parent scope's `a`)."
   ]
  },
  {
   "cell_type": "markdown",
   "metadata": {
    "colab_type": "text",
    "id": "Au3RUzMsHWw8"
   },
   "source": [
    "Note that `if` blocks and `begin` blocks do <u>not</u> have their own local scope, they just use the parent scope:"
   ]
  },
  {
   "cell_type": "code",
   "execution_count": null,
   "metadata": {
    "colab": {
     "base_uri": "https://localhost:8080/",
     "height": 34
    },
    "colab_type": "code",
    "id": "iARzIFgtpOfB",
    "outputId": "6bac95a0-afba-4718-d571-a8655b3256ed"
   },
   "outputs": [],
   "source": [
    "a = 1\n",
    "if true\n",
    "    a = 2 # same `a` as above\n",
    "end\n",
    "a"
   ]
  },
  {
   "cell_type": "code",
   "execution_count": null,
   "metadata": {
    "colab": {
     "base_uri": "https://localhost:8080/",
     "height": 34
    },
    "colab_type": "code",
    "id": "kO5v8sfCHogx",
    "outputId": "429f8249-d067-4568-f39f-8feb0daaca24"
   },
   "outputs": [],
   "source": [
    "a = 1\n",
    "begin\n",
    "    a = 2  # same `a` as above\n",
    "end\n",
    "a"
   ]
  }
 ],
 "metadata": {
  "kernelspec": {
   "display_name": "Python 3",
   "language": "python",
   "name": "python3"
  },
  "language_info": {
   "codemirror_mode": {
    "name": "ipython",
    "version": 3
   },
   "file_extension": ".py",
   "mimetype": "text/x-python",
   "name": "python",
   "nbconvert_exporter": "python",
   "pygments_lexer": "ipython3",
   "version": "3.8.2"
  }
 },
 "nbformat": 4,
 "nbformat_minor": 4
}
