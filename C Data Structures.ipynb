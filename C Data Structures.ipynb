{
 "cells": [
  {
   "cell_type": "markdown",
   "metadata": {
    "colab_type": "text",
    "id": "ERjZUJYlnMsq"
   },
   "source": [
    "# Tuples"
   ]
  },
  {
   "cell_type": "markdown",
   "metadata": {
    "colab_type": "text",
    "id": "LnIg-YKumD8N"
   },
   "source": [
    " Julia has tuples, very much like Python. They can contain anything:"
   ]
  },
  {
   "cell_type": "code",
   "execution_count": null,
   "metadata": {
    "colab": {
     "base_uri": "https://localhost:8080/",
     "height": 34
    },
    "colab_type": "code",
    "id": "SwtMszm6nFmD",
    "outputId": "fa830c4a-12c1-4c36-b45d-2a72d794982a"
   },
   "outputs": [],
   "source": [
    "t = (1, \"Two\", 3, 4, 5)"
   ]
  },
  {
   "cell_type": "markdown",
   "metadata": {
    "colab_type": "text",
    "id": "YFGgt6ISLBQN"
   },
   "source": [
    "Let's look at one element:"
   ]
  },
  {
   "cell_type": "code",
   "execution_count": null,
   "metadata": {
    "colab": {
     "base_uri": "https://localhost:8080/",
     "height": 34
    },
    "colab_type": "code",
    "id": "muUQX9TUnfhh",
    "outputId": "385aa90f-4110-4679-8637-2a586021eebc"
   },
   "outputs": [],
   "source": [
    "t[1]"
   ]
  },
  {
   "cell_type": "markdown",
   "metadata": {
    "colab_type": "text",
    "id": "kxt7Dyujpcto"
   },
   "source": [
    "Hey! Did you see that? **Julia is 1-indexed**, like Matlab and other math-oriented programming languages, not 0-indexed like Python and most programming languages. I found it easy to get used to, and in fact I quite like it, but your mileage may vary.\n",
    "\n",
    "Moreover, the indexing bounds are inclusive. In Python, to get the 1st and 2nd elements of a list or tuple, you would write `t[0:2]` (or just `t[:2]`), while in Julia you write `t[1:2]`.\n"
   ]
  },
  {
   "cell_type": "code",
   "execution_count": null,
   "metadata": {
    "colab": {
     "base_uri": "https://localhost:8080/",
     "height": 34
    },
    "colab_type": "code",
    "id": "PSSUDRRtp77N",
    "outputId": "75b8924a-031d-4231-92dd-85f94f8d46bd"
   },
   "outputs": [],
   "source": [
    "t[1:2]"
   ]
  },
  {
   "cell_type": "markdown",
   "metadata": {
    "colab_type": "text",
    "id": "gUK1aCRutlul"
   },
   "source": [
    "Note that `end` represents the index of the last element in the tuple. So you must write `t[end]` instead of `t[-1]`. Similarly, you must write `t[end - 1]`, not `t[-2]`, and so on."
   ]
  },
  {
   "cell_type": "code",
   "execution_count": null,
   "metadata": {
    "colab": {
     "base_uri": "https://localhost:8080/",
     "height": 34
    },
    "colab_type": "code",
    "id": "7YpghPgLqZmy",
    "outputId": "7d32501b-6741-4d4b-c874-a4b343bbc35e"
   },
   "outputs": [],
   "source": [
    "t[end]"
   ]
  },
  {
   "cell_type": "code",
   "execution_count": null,
   "metadata": {
    "colab": {
     "base_uri": "https://localhost:8080/",
     "height": 34
    },
    "colab_type": "code",
    "id": "3rzqwS7etsyx",
    "outputId": "8672ce0c-8235-4323-8d5e-96672c2512d8"
   },
   "outputs": [],
   "source": [
    "t[end - 1:end]"
   ]
  },
  {
   "cell_type": "markdown",
   "metadata": {
    "colab_type": "text",
    "id": "d950dLwB3SeA"
   },
   "source": [
    "Like in Python, tuples are immutable:"
   ]
  },
  {
   "cell_type": "code",
   "execution_count": null,
   "metadata": {
    "colab": {
     "base_uri": "https://localhost:8080/",
     "height": 34
    },
    "colab_type": "code",
    "id": "0sLz7J2KmKMi",
    "outputId": "c2b5d196-4599-4606-f651-df3c89f83730"
   },
   "outputs": [],
   "source": [
    "try\n",
    "  t[2] = 2\n",
    "catch ex\n",
    "  ex\n",
    "end"
   ]
  },
  {
   "cell_type": "markdown",
   "metadata": {
    "colab_type": "text",
    "id": "ia-7dPaYN6o3"
   },
   "source": [
    "The syntax for empty and 1-element tuples is the same as in Python:"
   ]
  },
  {
   "cell_type": "code",
   "execution_count": null,
   "metadata": {
    "colab": {
     "base_uri": "https://localhost:8080/",
     "height": 34
    },
    "colab_type": "code",
    "id": "2iz34eBoODk6",
    "outputId": "90cc7840-0f60-435b-c68c-13ea882520f1"
   },
   "outputs": [],
   "source": [
    "empty_tuple = ()\n",
    "one_element_tuple = (42,)"
   ]
  },
  {
   "cell_type": "markdown",
   "metadata": {
    "colab_type": "text",
    "id": "4vgV76ftmMno"
   },
   "source": [
    "You can unpack a tuple, just like in Python (it's called \"destructuring\" in Julia):"
   ]
  },
  {
   "cell_type": "code",
   "execution_count": null,
   "metadata": {
    "colab": {
     "base_uri": "https://localhost:8080/",
     "height": 34
    },
    "colab_type": "code",
    "id": "1-RPxSCfn5Zr",
    "outputId": "393d2214-08e0-4164-bf23-5238a0133c5b"
   },
   "outputs": [],
   "source": [
    "a, b, c, d, e = (1, \"Two\", 3, 4, 5)\n",
    "println(\"a=$a, b=$b, c=$c, d=$d, e=$e\")"
   ]
  },
  {
   "cell_type": "markdown",
   "metadata": {
    "colab_type": "text",
    "id": "I4jsaD4Fq37B"
   },
   "source": [
    "It also works with nested tuples, just like in Python:"
   ]
  },
  {
   "cell_type": "code",
   "execution_count": null,
   "metadata": {
    "colab": {
     "base_uri": "https://localhost:8080/",
     "height": 34
    },
    "colab_type": "code",
    "id": "s3S4SAfNq83S",
    "outputId": "eb6535c8-ac30-4b61-cd30-86e5677258f5"
   },
   "outputs": [],
   "source": [
    "(a, (b, c), (d, e)) = (1, (\"Two\", 3), (4, 5))\n",
    "println(\"a=$a, b=$b, c=$c, d=$d, e=$e\")"
   ]
  },
  {
   "cell_type": "markdown",
   "metadata": {
    "colab_type": "text",
    "id": "1SC6AVpIrUxa"
   },
   "source": [
    "However, consider this example:"
   ]
  },
  {
   "cell_type": "code",
   "execution_count": null,
   "metadata": {
    "colab": {
     "base_uri": "https://localhost:8080/",
     "height": 34
    },
    "colab_type": "code",
    "id": "Wz5cl0_6rj0H",
    "outputId": "df94be65-868a-4db3-a551-1f22c3a0c3fa"
   },
   "outputs": [],
   "source": [
    "a, b, c = (1, \"Two\", 3, 4, 5)\n",
    "println(\"a=$a, b=$b, c=$c\")"
   ]
  },
  {
   "cell_type": "markdown",
   "metadata": {
    "colab_type": "text",
    "id": "ZdZg-xMDrnvK"
   },
   "source": [
    "In Python, this would cause a `ValueError: too many values to unpack`. In Julia, the extra values in the tuple are just ignored.\n",
    "\n",
    "If you want to capture the extra values in the variable `c`, you need to do so explicitly:"
   ]
  },
  {
   "cell_type": "code",
   "execution_count": null,
   "metadata": {
    "colab": {
     "base_uri": "https://localhost:8080/",
     "height": 34
    },
    "colab_type": "code",
    "id": "zC8DWzkSsF1i",
    "outputId": "7f3b9279-fe25-44c7-b55c-788f18ba67da"
   },
   "outputs": [],
   "source": [
    "t = (1, \"Two\", 3, 4, 5)\n",
    "a, b = t[1:2]\n",
    "c = t[3:end]\n",
    "println(\"a=$a, b=$b, c=$c\")"
   ]
  },
  {
   "cell_type": "markdown",
   "metadata": {
    "colab_type": "text",
    "id": "rOKhLbritHAW"
   },
   "source": [
    "Or more concisely:"
   ]
  },
  {
   "cell_type": "code",
   "execution_count": null,
   "metadata": {
    "colab": {
     "base_uri": "https://localhost:8080/",
     "height": 34
    },
    "colab_type": "code",
    "id": "8Pvh4LCytCiq",
    "outputId": "caa95916-dc4c-4cb6-8e0d-fc4e8eaf7384"
   },
   "outputs": [],
   "source": [
    "(a, b), c = t[1:2], t[3:end]\n",
    "println(\"a=$a, b=$b, c=$c\")"
   ]
  },
  {
   "cell_type": "markdown",
   "metadata": {
    "colab_type": "text",
    "id": "FbibRKc9sWI_"
   },
   "source": [
    "The corresponding Python code is:\n",
    "\n",
    "```python\n",
    "# PYTHON\n",
    "t = (1, \"Two\", 3, 4, 5)\n",
    "a, b, *c = t\n",
    "print(f\"a={a}, b={b}, c={c}\")\n",
    "```"
   ]
  },
  {
   "cell_type": "markdown",
   "metadata": {
    "colab_type": "text",
    "id": "niHEbUJk5YFn"
   },
   "source": [
    "## Named Tuples"
   ]
  },
  {
   "cell_type": "markdown",
   "metadata": {
    "colab_type": "text",
    "id": "p3yVvsXA52ct"
   },
   "source": [
    "Julia supports named tuples:"
   ]
  },
  {
   "cell_type": "code",
   "execution_count": null,
   "metadata": {
    "colab": {
     "base_uri": "https://localhost:8080/",
     "height": 34
    },
    "colab_type": "code",
    "id": "2FJnd4K35aOZ",
    "outputId": "1cd684d7-5eb9-4e3d-e6ba-9ab1ff33c60b"
   },
   "outputs": [],
   "source": [
    "nt = (name=\"Julia\", category=\"Language\", stars=5)"
   ]
  },
  {
   "cell_type": "code",
   "execution_count": null,
   "metadata": {
    "colab": {
     "base_uri": "https://localhost:8080/",
     "height": 34
    },
    "colab_type": "code",
    "id": "xydPCMQZ5sPY",
    "outputId": "11d93885-5bd2-487c-d129-7ee2847ffa89"
   },
   "outputs": [],
   "source": [
    "nt.name"
   ]
  },
  {
   "cell_type": "code",
   "execution_count": null,
   "metadata": {
    "colab": {
     "base_uri": "https://localhost:8080/",
     "height": 85
    },
    "colab_type": "code",
    "id": "9MeN88AU5w4t",
    "outputId": "be30c26c-a44d-4476-c19a-98b35876165f"
   },
   "outputs": [],
   "source": [
    "dump(nt)"
   ]
  },
  {
   "cell_type": "markdown",
   "metadata": {
    "colab_type": "text",
    "id": "yXYEkJ0G57f2"
   },
   "source": [
    "The corresponding Python code is:\n",
    "\n",
    "```python\n",
    "# PYTHON\n",
    "from collections import namedtuple\n",
    "\n",
    "Rating = namedtuple(\"Rating\", [\"name\", \"category\", \"stars\"])\n",
    "nt = Rating(name=\"Julia\", category=\"Language\", stars=5)\n",
    "print(nt.name) # prints: Julia\n",
    "print(nt) # prints: Rating(name='Julia', category='Language', stars=5)\n",
    "```"
   ]
  },
  {
   "cell_type": "markdown",
   "metadata": {
    "colab_type": "text",
    "id": "MJFUxd06YdqY"
   },
   "source": [
    "# Structs\n",
    "Julia supports structs, which hold multiple named fields, a bit like named tuples:"
   ]
  },
  {
   "cell_type": "code",
   "execution_count": null,
   "metadata": {
    "colab": {},
    "colab_type": "code",
    "id": "WhCs3HtJZK95"
   },
   "outputs": [],
   "source": [
    "struct Person\n",
    "    name\n",
    "    age\n",
    "end"
   ]
  },
  {
   "cell_type": "markdown",
   "metadata": {
    "colab_type": "text",
    "id": "G5oQzSt9Zx3L"
   },
   "source": [
    "Structs have a default constructor, which expects all the field values, in order:"
   ]
  },
  {
   "cell_type": "code",
   "execution_count": null,
   "metadata": {
    "colab": {
     "base_uri": "https://localhost:8080/",
     "height": 34
    },
    "colab_type": "code",
    "id": "aXISSlv5Z8l6",
    "outputId": "b3e38275-1ecb-4fbb-f4c4-a924cf9f11fc"
   },
   "outputs": [],
   "source": [
    "p = Person(\"Mary\", 30)"
   ]
  },
  {
   "cell_type": "code",
   "execution_count": null,
   "metadata": {
    "colab": {
     "base_uri": "https://localhost:8080/",
     "height": 34
    },
    "colab_type": "code",
    "id": "26v5EQ8YZ-JQ",
    "outputId": "be19536f-0c79-4928-8ad9-391de9ad81b0"
   },
   "outputs": [],
   "source": [
    "p.age"
   ]
  },
  {
   "cell_type": "markdown",
   "metadata": {
    "colab_type": "text",
    "id": "Tq30l3f1dHcn"
   },
   "source": [
    "You can create other constructors by creating functions with the same name as the struct:"
   ]
  },
  {
   "cell_type": "code",
   "execution_count": null,
   "metadata": {
    "colab": {
     "base_uri": "https://localhost:8080/",
     "height": 34
    },
    "colab_type": "code",
    "id": "oS_GHuHpdPQx",
    "outputId": "7a2ef7a0-3693-4c03-e01f-e131e491b4dc"
   },
   "outputs": [],
   "source": [
    "function Person(name)\n",
    "    Person(name, -1)\n",
    "end\n",
    "\n",
    "function Person()\n",
    "    Person(\"no name\")\n",
    "end\n",
    "\n",
    "p = Person()"
   ]
  },
  {
   "cell_type": "markdown",
   "metadata": {
    "colab_type": "text",
    "id": "MhHkPNXzeMwh"
   },
   "source": [
    "This creates two constructors: the second calls the first, which calls the default constructor. Notice that you can create multiple functions with the same name but different arguments. We will discuss this later."
   ]
  },
  {
   "cell_type": "markdown",
   "metadata": {
    "colab_type": "text",
    "id": "C_qV3JIyeial"
   },
   "source": [
    "These two constructors are called \"outer constructors\", since they are defined outside of the definition of the struct. You can also define \"inner constructors\":"
   ]
  },
  {
   "cell_type": "code",
   "execution_count": null,
   "metadata": {
    "colab": {
     "base_uri": "https://localhost:8080/",
     "height": 34
    },
    "colab_type": "code",
    "id": "XuGp8ZJJe13y",
    "outputId": "70265526-007c-4db1-b7aa-708419254966"
   },
   "outputs": [],
   "source": [
    "struct Person2\n",
    "    name\n",
    "    age\n",
    "    function Person2(name)\n",
    "        new(name, -1)\n",
    "    end\n",
    "end\n",
    "\n",
    "function Person2()\n",
    "    Person2(\"no name\")\n",
    "end\n",
    "\n",
    "p = Person2()"
   ]
  },
  {
   "cell_type": "markdown",
   "metadata": {
    "colab_type": "text",
    "id": "m5qB9QHf1MMC"
   },
   "source": [
    "This time, the outer constructor calls the inner constructor, which calls the `new()` function. This `new()` function only works in inner constructors, and of course it creates an instance of the struct.\n",
    "\n",
    "When you define inner constructors, they replace the default constructor: "
   ]
  },
  {
   "cell_type": "code",
   "execution_count": null,
   "metadata": {
    "colab": {
     "base_uri": "https://localhost:8080/",
     "height": 34
    },
    "colab_type": "code",
    "id": "_xLhbC9q2vC3",
    "outputId": "06d3d77b-c98f-41b1-a24d-852b38451c04"
   },
   "outputs": [],
   "source": [
    "try\n",
    "    Person2(\"Bob\", 40)\n",
    "catch ex\n",
    "    ex\n",
    "end"
   ]
  },
  {
   "cell_type": "markdown",
   "metadata": {
    "colab_type": "text",
    "id": "6eSrsaNi_mQ3"
   },
   "source": [
    "Structs usually have very few inner constructors (often just one), which do the heavy duty work, and the checks. Then they may have multiple outer constructors which are mostly there for convenience."
   ]
  },
  {
   "cell_type": "markdown",
   "metadata": {
    "colab_type": "text",
    "id": "HLJWvFSfaAHi"
   },
   "source": [
    "By default, structs are immutable:"
   ]
  },
  {
   "cell_type": "code",
   "execution_count": null,
   "metadata": {
    "colab": {
     "base_uri": "https://localhost:8080/",
     "height": 34
    },
    "colab_type": "code",
    "id": "n9hhxkdvaYOY",
    "outputId": "1a90844a-fcbc-4de3-ac88-8c6a93b28cb2"
   },
   "outputs": [],
   "source": [
    "try\n",
    "    p.name = \"Someone\"\n",
    "catch ex\n",
    "    ex\n",
    "end"
   ]
  },
  {
   "cell_type": "markdown",
   "metadata": {
    "colab_type": "text",
    "id": "oqY3EFMKa1Px"
   },
   "source": [
    "However, it is possible to define a mutable struct:"
   ]
  },
  {
   "cell_type": "code",
   "execution_count": null,
   "metadata": {
    "colab": {
     "base_uri": "https://localhost:8080/",
     "height": 34
    },
    "colab_type": "code",
    "id": "S5cNqzAma5H_",
    "outputId": "39f290b7-cf66-4d64-fdec-068cd1990d36"
   },
   "outputs": [],
   "source": [
    "mutable struct Person3\n",
    "    name\n",
    "    age\n",
    "end\n",
    "\n",
    "p = Person3(\"Lucy\", 79)\n",
    "p.age += 1\n",
    "p"
   ]
  },
  {
   "cell_type": "markdown",
   "metadata": {
    "colab_type": "text",
    "id": "XcMyQq4r7eam"
   },
   "source": [
    "Structs look a lot like Python classes, with instance variables and constructors, but where are the methods? We will discuss this later, in the \"Methods\" section."
   ]
  },
  {
   "cell_type": "markdown",
   "metadata": {
    "colab_type": "text",
    "id": "sXEjDf7jBjJi"
   },
   "source": [
    "# Arrays\n",
    "\n",
    "Let's create a small array:"
   ]
  },
  {
   "cell_type": "code",
   "execution_count": null,
   "metadata": {
    "colab": {
     "base_uri": "https://localhost:8080/",
     "height": 102
    },
    "colab_type": "code",
    "id": "UFhriSyixCMX",
    "outputId": "4b5dfcdb-5849-47b7-b7b8-c534260f45b0"
   },
   "outputs": [],
   "source": [
    "a = [1, 4, 9, 16]"
   ]
  },
  {
   "cell_type": "markdown",
   "metadata": {
    "colab_type": "text",
    "id": "owVeZ9nLR2on"
   },
   "source": [
    "Indexing and assignments work as you would expect:"
   ]
  },
  {
   "cell_type": "code",
   "execution_count": null,
   "metadata": {
    "colab": {
     "base_uri": "https://localhost:8080/",
     "height": 102
    },
    "colab_type": "code",
    "id": "yM4mNBfKR81J",
    "outputId": "86720f3d-a355-4093-a065-540e73b966e4"
   },
   "outputs": [],
   "source": [
    "a[1] = 10\n",
    "a[2:3] = [20, 30]\n",
    "a"
   ]
  },
  {
   "cell_type": "markdown",
   "metadata": {
    "colab_type": "text",
    "id": "bv_tPMOhxHtK"
   },
   "source": [
    "## Element Type\n",
    "Since we used only integers when creating the array, Julia inferred that the array is only meant to hold integers (NumPy arrays behave the same way). Let's try adding a string:"
   ]
  },
  {
   "cell_type": "code",
   "execution_count": null,
   "metadata": {
    "colab": {
     "base_uri": "https://localhost:8080/",
     "height": 34
    },
    "colab_type": "code",
    "id": "XBiagA9b_YPR",
    "outputId": "44e5af4f-9f8c-47b6-db82-7855cfc2d4d0"
   },
   "outputs": [],
   "source": [
    "try\n",
    "  a[3] = \"Three\"\n",
    "catch ex\n",
    "  ex\n",
    "end"
   ]
  },
  {
   "cell_type": "markdown",
   "metadata": {
    "colab_type": "text",
    "id": "T8EJ7y5HAgzz"
   },
   "source": [
    "Nope! We get a `MethodError` exception, telling us that Julia could not convert the string `\"Three\"` to a 64-bit integer (we will discuss exceptions later). If we want an array that can hold any type, like Python's lists can, we must prefix the array with `Any`, which is Julia's root type (like `object` in Python):"
   ]
  },
  {
   "cell_type": "code",
   "execution_count": null,
   "metadata": {
    "colab": {
     "base_uri": "https://localhost:8080/",
     "height": 102
    },
    "colab_type": "code",
    "id": "VcsscYgVBX6Z",
    "outputId": "8a1c13e4-69fa-44d3-d8e4-108ddd7c8546"
   },
   "outputs": [],
   "source": [
    "a = Any[1, 4, 9, 16]\n",
    "a[3] = \"Three\"\n",
    "a"
   ]
  },
  {
   "cell_type": "markdown",
   "metadata": {
    "colab_type": "text",
    "id": "yekHWpLFPWUO"
   },
   "source": [
    "Prefixing with `Float64`, or `String` or any other type works as well:"
   ]
  },
  {
   "cell_type": "code",
   "execution_count": null,
   "metadata": {
    "colab": {
     "base_uri": "https://localhost:8080/",
     "height": 102
    },
    "colab_type": "code",
    "id": "hR9x5VEmPfgO",
    "outputId": "d9077aa2-a385-4b94-f2a2-ec9927f9d748"
   },
   "outputs": [],
   "source": [
    "Float64[1, 4, 9, 16]"
   ]
  },
  {
   "cell_type": "markdown",
   "metadata": {
    "colab_type": "text",
    "id": "8-2ahduHoiRh"
   },
   "source": [
    "An empty array is automatically an `Any` array:"
   ]
  },
  {
   "cell_type": "code",
   "execution_count": null,
   "metadata": {
    "colab": {
     "base_uri": "https://localhost:8080/",
     "height": 34
    },
    "colab_type": "code",
    "id": "eDMPVf5Oolnk",
    "outputId": "bbe3434d-aff1-4f95-fea4-1cb5b0e4d9b1"
   },
   "outputs": [],
   "source": [
    "a = []"
   ]
  },
  {
   "cell_type": "markdown",
   "metadata": {
    "colab_type": "text",
    "id": "zY4m8VX2PmXq"
   },
   "source": [
    "You can use the `eltype()` function to get an array's element type (the equivalent of NumPy arrays' `dtype`):"
   ]
  },
  {
   "cell_type": "code",
   "execution_count": null,
   "metadata": {
    "colab": {
     "base_uri": "https://localhost:8080/",
     "height": 34
    },
    "colab_type": "code",
    "id": "zZN9rtpEPvGV",
    "outputId": "8516b935-4974-4f3b-b5a1-36805cad4c62"
   },
   "outputs": [],
   "source": [
    "eltype([1, 4, 9, 16])"
   ]
  },
  {
   "cell_type": "markdown",
   "metadata": {
    "colab_type": "text",
    "id": "RXavtfEvyx-I"
   },
   "source": [
    "If you create an array containing objects of different types, Julia will do its best to use a type that can hold all the values as precisely as possible. For example, a mix of integers and floats results in a float array:"
   ]
  },
  {
   "cell_type": "code",
   "execution_count": null,
   "metadata": {
    "colab": {
     "base_uri": "https://localhost:8080/",
     "height": 102
    },
    "colab_type": "code",
    "id": "jovRNC9tzaWj",
    "outputId": "01205914-2591-49d9-ed77-fa0f58826cd9"
   },
   "outputs": [],
   "source": [
    "[1, 2, 3.0, 4.0]"
   ]
  },
  {
   "cell_type": "markdown",
   "metadata": {
    "colab_type": "text",
    "id": "Z8vqDB0U0A4p"
   },
   "source": [
    "This is similar to NumPy's behavior:\n",
    "\n",
    "```python\n",
    "# PYTHON\n",
    "np.array([1, 2, 3.0, 4.0]) # => array([1., 2., 3., 4.])\n",
    "```\n",
    "\n",
    "A mix of unrelated types results in an `Any` array:"
   ]
  },
  {
   "cell_type": "code",
   "execution_count": null,
   "metadata": {
    "colab": {
     "base_uri": "https://localhost:8080/",
     "height": 102
    },
    "colab_type": "code",
    "id": "pgT5mGcV0Rrc",
    "outputId": "453bd503-add7-4395-9167-5035741c5044"
   },
   "outputs": [],
   "source": [
    "[1, 2, \"Three\", 4]"
   ]
  },
  {
   "cell_type": "markdown",
   "metadata": {
    "colab_type": "text",
    "id": "qqUknXIGB2r7"
   },
   "source": [
    "If you want to live in a world without type constraints, you can prefix all you arrays with `Any`, and you will feel like you're coding in Python. But I don't recommend it: the compiler can perform a bunch of optimizations when it knows exactly the type and size of the data the program will handle, so it will run much faster. So when you create an empty array but you know the type of the values it will contain, you might as well prefix it with that type (you don't have to, but it will speed up your program)."
   ]
  },
  {
   "cell_type": "markdown",
   "metadata": {
    "colab_type": "text",
    "id": "3oo7WzpiQB_h"
   },
   "source": [
    "## Push and Pop\n",
    "To append elements to an array, use the `push!()` function. By convention, functions whose name ends with a bang `!` may modify their arguments:"
   ]
  },
  {
   "cell_type": "code",
   "execution_count": null,
   "metadata": {
    "colab": {
     "base_uri": "https://localhost:8080/",
     "height": 102
    },
    "colab_type": "code",
    "id": "m2vQfFEVCxII",
    "outputId": "e59e0e3f-62c1-4879-e2de-337dcc437588"
   },
   "outputs": [],
   "source": [
    "a = [1]\n",
    "push!(a, 4)\n",
    "push!(a, 9, 16)"
   ]
  },
  {
   "cell_type": "markdown",
   "metadata": {
    "colab_type": "text",
    "id": "2U8zIXG-cUge"
   },
   "source": [
    "This is similar to the following Python code:\n",
    "\n",
    "```python\n",
    "# PYTHON\n",
    "a = [1]\n",
    "a.append(4)\n",
    "a.extend([9, 16]) # or simply a += [9, 16]\n",
    "```"
   ]
  },
  {
   "cell_type": "markdown",
   "metadata": {
    "colab_type": "text",
    "id": "CCWoFNINU15g"
   },
   "source": [
    "And `pop!()` works like in Python:"
   ]
  },
  {
   "cell_type": "code",
   "execution_count": null,
   "metadata": {
    "colab": {
     "base_uri": "https://localhost:8080/",
     "height": 34
    },
    "colab_type": "code",
    "id": "ie0iAIHtSXIW",
    "outputId": "abc5b804-aab9-4cff-df45-2b26c4abacec"
   },
   "outputs": [],
   "source": [
    "pop!(a)"
   ]
  },
  {
   "cell_type": "markdown",
   "metadata": {
    "colab_type": "text",
    "id": "0W67Y7JhVA3_"
   },
   "source": [
    "Equivalent to:\n",
    "\n",
    "```python\n",
    "# PYTHON\n",
    "a.pop()\n",
    "```"
   ]
  },
  {
   "cell_type": "markdown",
   "metadata": {
    "colab_type": "text",
    "id": "mY0L1GG_Upxz"
   },
   "source": [
    "There are many more functions you can call on an array. We will see later how to find them."
   ]
  },
  {
   "cell_type": "markdown",
   "metadata": {
    "colab_type": "text",
    "id": "4ZScNi5Rv8cM"
   },
   "source": [
    "## Multidimensional Arrays\n",
    "Importantly, Julia arrays can be multidimensional, just like NumPy arrays:"
   ]
  },
  {
   "cell_type": "code",
   "execution_count": null,
   "metadata": {
    "colab": {
     "base_uri": "https://localhost:8080/",
     "height": 85
    },
    "colab_type": "code",
    "id": "hxfUbTc3wBob",
    "outputId": "d65ec123-2564-4a55-c2a2-d4a0214e7f15"
   },
   "outputs": [],
   "source": [
    "M = [1   2   3   4\n",
    "     5   6   7   8\n",
    "     9  10  11  12]"
   ]
  },
  {
   "cell_type": "markdown",
   "metadata": {
    "colab_type": "text",
    "id": "sFlaq_4kwbde"
   },
   "source": [
    "Another syntax for this is:"
   ]
  },
  {
   "cell_type": "code",
   "execution_count": null,
   "metadata": {
    "colab": {
     "base_uri": "https://localhost:8080/",
     "height": 85
    },
    "colab_type": "code",
    "id": "wetBEg8HwhWJ",
    "outputId": "4f3f5327-41b5-469f-f589-de218fba8205"
   },
   "outputs": [],
   "source": [
    "M = [1 2 3 4; 5 6 7 8; 9 10 11 12]"
   ]
  },
  {
   "cell_type": "markdown",
   "metadata": {
    "colab_type": "text",
    "id": "atfjWzUmwIgw"
   },
   "source": [
    "You can index them much like NumPy arrays:"
   ]
  },
  {
   "cell_type": "code",
   "execution_count": null,
   "metadata": {
    "colab": {
     "base_uri": "https://localhost:8080/",
     "height": 68
    },
    "colab_type": "code",
    "id": "GhtdjnYQwLka",
    "outputId": "a7b121bc-9fb0-4f9b-fedb-7b0ff6418dff"
   },
   "outputs": [],
   "source": [
    "M[2:3, 3:4]"
   ]
  },
  {
   "cell_type": "markdown",
   "metadata": {
    "colab_type": "text",
    "id": "4frazS3zXPQT"
   },
   "source": [
    "You can transpose a matrix using the \"adjoint\" operator `'`:"
   ]
  },
  {
   "cell_type": "code",
   "execution_count": null,
   "metadata": {
    "colab": {
     "base_uri": "https://localhost:8080/",
     "height": 102
    },
    "colab_type": "code",
    "id": "ydWdJ1eFXVbJ",
    "outputId": "a4f46f46-4c4f-4d25-a4f9-6feb8cf1ec22"
   },
   "outputs": [],
   "source": [
    "M'"
   ]
  },
  {
   "cell_type": "markdown",
   "metadata": {
    "colab_type": "text",
    "id": "A032EIww_NsU"
   },
   "source": [
    "As you can see, Julia arrays are closer to NumPy arrays than to Python lists.\n"
   ]
  },
  {
   "cell_type": "markdown",
   "metadata": {
    "colab_type": "text",
    "id": "NnY2DL_YCPmZ"
   },
   "source": [
    "Arrays can be concatenated vertically using the `vcat()` function:"
   ]
  },
  {
   "cell_type": "code",
   "execution_count": null,
   "metadata": {
    "colab": {
     "base_uri": "https://localhost:8080/",
     "height": 102
    },
    "colab_type": "code",
    "id": "pTazNcWZ_-8e",
    "outputId": "822f31a1-aa18-42a3-f6bc-51bb0460c898"
   },
   "outputs": [],
   "source": [
    "M1 = [1 2\n",
    "      3 4]\n",
    "M2 = [5 6\n",
    "      7 8]\n",
    "vcat(M1, M2)"
   ]
  },
  {
   "cell_type": "markdown",
   "metadata": {
    "colab_type": "text",
    "id": "GPjPb-cCCZI5"
   },
   "source": [
    "Alternatively, you can use the `[M1; M2]` syntax:"
   ]
  },
  {
   "cell_type": "code",
   "execution_count": null,
   "metadata": {
    "colab": {
     "base_uri": "https://localhost:8080/",
     "height": 102
    },
    "colab_type": "code",
    "id": "DOnN1wVOCp9z",
    "outputId": "95545d2e-fd1f-49b2-e337-629f1d3d1a34"
   },
   "outputs": [],
   "source": [
    "[M1; M2]"
   ]
  },
  {
   "cell_type": "markdown",
   "metadata": {
    "colab_type": "text",
    "id": "wvq9sUdOCtJR"
   },
   "source": [
    "To concatenate arrays horizontally, use `hcat()`:"
   ]
  },
  {
   "cell_type": "code",
   "execution_count": null,
   "metadata": {
    "colab": {
     "base_uri": "https://localhost:8080/",
     "height": 68
    },
    "colab_type": "code",
    "id": "Xj7s5cedCLJy",
    "outputId": "dc7d3824-4871-447f-9472-eb1f20d9481a"
   },
   "outputs": [],
   "source": [
    "hcat(M1, M2)"
   ]
  },
  {
   "cell_type": "markdown",
   "metadata": {
    "colab_type": "text",
    "id": "ciffAqpeC2dX"
   },
   "source": [
    "Or you can use the `[M1 M2]` syntax:"
   ]
  },
  {
   "cell_type": "code",
   "execution_count": null,
   "metadata": {
    "colab": {
     "base_uri": "https://localhost:8080/",
     "height": 68
    },
    "colab_type": "code",
    "id": "XxSWzDXhC08W",
    "outputId": "127d8df3-ac05-49ba-804f-68207b29b9b1"
   },
   "outputs": [],
   "source": [
    "[M1 M2]"
   ]
  },
  {
   "cell_type": "markdown",
   "metadata": {
    "colab_type": "text",
    "id": "OhQoXAiyGge9"
   },
   "source": [
    "You can combine horizontal and vertical concatenation:"
   ]
  },
  {
   "cell_type": "code",
   "execution_count": null,
   "metadata": {
    "colab": {
     "base_uri": "https://localhost:8080/",
     "height": 85
    },
    "colab_type": "code",
    "id": "ra4Xe-Cv_PKl",
    "outputId": "3aa398d9-2a83-47e0-d0bc-72cb18f18b8f"
   },
   "outputs": [],
   "source": [
    "M3 = [9 10 11 12]\n",
    "[M1 M2; M3]"
   ]
  },
  {
   "cell_type": "markdown",
   "metadata": {
    "colab_type": "text",
    "id": "sQllnyjlIBfB"
   },
   "source": [
    "Equivalently, you can call the `hvcat()` function. The first argument specifies the number of arguments to concatenate in each block row:"
   ]
  },
  {
   "cell_type": "code",
   "execution_count": null,
   "metadata": {
    "colab": {
     "base_uri": "https://localhost:8080/",
     "height": 85
    },
    "colab_type": "code",
    "id": "Lv63KdpLEN4N",
    "outputId": "ab2832ac-2f9d-44df-c5e8-3fb3ee7199e0"
   },
   "outputs": [],
   "source": [
    "hvcat((2, 1), M1, M2, M3)"
   ]
  },
  {
   "cell_type": "markdown",
   "metadata": {
    "colab_type": "text",
    "id": "e40Z6cdzWM2K"
   },
   "source": [
    "`hvcat()` is useful to create a single cell matrix:"
   ]
  },
  {
   "cell_type": "code",
   "execution_count": null,
   "metadata": {
    "colab": {
     "base_uri": "https://localhost:8080/",
     "height": 51
    },
    "colab_type": "code",
    "id": "KP-WjRlPzzSR",
    "outputId": "e7513371-3c70-4bae-bd01-0cff2320b63b"
   },
   "outputs": [],
   "source": [
    "hvcat(1, 42)"
   ]
  },
  {
   "cell_type": "markdown",
   "metadata": {
    "colab_type": "text",
    "id": "4xWYHOGgzvOr"
   },
   "source": [
    " Or a column vector (i.e., an _n_×1 matrix = a matrix with a single column):"
   ]
  },
  {
   "cell_type": "code",
   "execution_count": null,
   "metadata": {
    "colab": {
     "base_uri": "https://localhost:8080/",
     "height": 85
    },
    "colab_type": "code",
    "id": "NhVPed-TWW6b",
    "outputId": "f81f5cb6-9de9-403a-ee88-6990d663e3a7"
   },
   "outputs": [],
   "source": [
    "hvcat((1, 1, 1), 10, 11, 12) # a column vector with values 10, 11, 12\n",
    "hvcat(1, 10, 11, 12) # equivalent to the previous line"
   ]
  },
  {
   "cell_type": "markdown",
   "metadata": {
    "colab_type": "text",
    "id": "pVTtq2RyWfSD"
   },
   "source": [
    "Alternatively, you can transpose a row vector (but `hvcat()` is a bit faster):"
   ]
  },
  {
   "cell_type": "code",
   "execution_count": null,
   "metadata": {
    "colab": {
     "base_uri": "https://localhost:8080/",
     "height": 85
    },
    "colab_type": "code",
    "id": "9d8inKAGWjTr",
    "outputId": "e16a1608-988d-441f-e410-7acb7dd6f07f"
   },
   "outputs": [],
   "source": [
    "[10 11 12]'"
   ]
  },
  {
   "cell_type": "markdown",
   "metadata": {
    "colab_type": "text",
    "id": "f75W5yn5OiEC"
   },
   "source": [
    "The REPL and IJulia call `display()` to print the result of the last expression in a cell (except when it is `nothing`). It is fairly verbose:"
   ]
  },
  {
   "cell_type": "code",
   "execution_count": null,
   "metadata": {
    "colab": {
     "base_uri": "https://localhost:8080/",
     "height": 102
    },
    "colab_type": "code",
    "id": "9zTEV0mpOzm9",
    "outputId": "f3664aac-bf26-44ea-fced-66f2b83ef3d3"
   },
   "outputs": [],
   "source": [
    "display([1, 2, 3, 4])"
   ]
  },
  {
   "cell_type": "markdown",
   "metadata": {
    "colab_type": "text",
    "id": "gMWooHYTO7NU"
   },
   "source": [
    "The `println()` function is more concise, but be careful not to confuse vectors, column vectors and row vectors (printed with commas, semi-colons and spaces, respectively):"
   ]
  },
  {
   "cell_type": "code",
   "execution_count": null,
   "metadata": {
    "colab": {
     "base_uri": "https://localhost:8080/",
     "height": 85
    },
    "colab_type": "code",
    "id": "Xw2He_XbPQbz",
    "outputId": "cfa0c28a-1ac9-4f56-d4c0-0288651ffe62"
   },
   "outputs": [],
   "source": [
    "println(\"Vector: \", [1, 2, 3, 4])\n",
    "println(\"Column vector: \", hvcat(1, 1, 2, 3, 4))\n",
    "println(\"Row vector: \", [1 2 3 4])\n",
    "println(\"Matrix: \", [1 2 3; 4 5 6])"
   ]
  },
  {
   "cell_type": "markdown",
   "metadata": {
    "colab_type": "text",
    "id": "8yjMLNP2M3Ip"
   },
   "source": [
    "Although column vectors are printed as `[1; 2; 3; 4]`, evaluating `[1; 2; 3; 4]` will give you a regular vector. That's because `[x;y]` concatenates `x` and `y` vertically, and if `x` and `y` are scalars or vectors, you just get a regular vector."
   ]
  },
  {
   "cell_type": "markdown",
   "metadata": {
    "colab_type": "text",
    "id": "bdnpqswqyrp8"
   },
   "source": [
    "|Julia|Python\n",
    "|-----|------\n",
    "|`a = [1, 2, 3]` | `a = [1, 2, 3]`<br />or<br />`import numpy as np`<br />`np.array([1, 2, 3])`\n",
    "|`a[1]` | `a[0]`\n",
    "|`a[end]` | `a[-1]`\n",
    "|`a[2:end-1]` | `a[1:-1]`\n",
    "|`push!(a, 5)` | `a.append(5)`\n",
    "|`pop!(a)` | `a.pop()`\n",
    "|`M = [1 2 3]` | `np.array([[1, 2, 3]])`\n",
    "|`M = [1 2 3]'` | `np.array([[1, 2, 3]]).T`\n",
    "|`M = hvcat(1,  1, 2, 3)` | `np.array([[1], [2], [3]])`\n",
    "|`M = [1 2 3`<br />&nbsp; &nbsp; &nbsp; &nbsp; &nbsp; &nbsp;`4 5 6]`<br />or<br />`M = [1 2 3; 4 5 6]` | `M = np.array([[1,2,3], [4,5,6]])`\n",
    "|`M[1:2, 2:3]` | `M[0:2, 1:3]`\n",
    "|`[M1; M2]` | `np.r_[M1, M2]`\n",
    "|`[M1  M2]` | `np.c_[M1, M2]`\n",
    "|`[M1 M2; M3]` | `np.r_[np.c_[M1, M2], M3]`\n"
   ]
  },
  {
   "cell_type": "markdown",
   "metadata": {
    "colab_type": "text",
    "id": "raewgAnU9YIv"
   },
   "source": [
    "## Comprehensions\n",
    "List comprehensions are available in Julia, just like in Python (they're usually just called \"comprehensions\" in Julia):"
   ]
  },
  {
   "cell_type": "code",
   "execution_count": null,
   "metadata": {
    "colab": {
     "base_uri": "https://localhost:8080/",
     "height": 102
    },
    "colab_type": "code",
    "id": "H8B6Tk429aTV",
    "outputId": "746a5987-6f1e-4a5e-f94d-d3b0554f57b7"
   },
   "outputs": [],
   "source": [
    "a = [x^2 for x in 1:4]"
   ]
  },
  {
   "cell_type": "markdown",
   "metadata": {
    "colab_type": "text",
    "id": "1W4O8W3bQsIn"
   },
   "source": [
    "You can filter elements using an `if` clause, just like in Python:"
   ]
  },
  {
   "cell_type": "code",
   "execution_count": null,
   "metadata": {
    "colab": {
     "base_uri": "https://localhost:8080/",
     "height": 85
    },
    "colab_type": "code",
    "id": "pK4bZX6LQzNF",
    "outputId": "ceba51ae-1d51-4e2f-a952-4bb4776a70f3"
   },
   "outputs": [],
   "source": [
    "a = [x^2 for x in 1:5 if x ∉ (2, 4)]"
   ]
  },
  {
   "cell_type": "markdown",
   "metadata": {
    "colab_type": "text",
    "id": "E6UjXo-wRpdf"
   },
   "source": [
    "* `a ∉ b` is equivalent to `!(a in b)` (or `a not in b` in Python). You can type `∉` with `\\notin<tab>`\n",
    "* `a ∈ b` is equivalent to `a in b`. You can type it with `\\in<tab>`"
   ]
  },
  {
   "cell_type": "markdown",
   "metadata": {
    "colab_type": "text",
    "id": "6R3umUN4Qq1x"
   },
   "source": [
    "In Julia, comprehensions can contain nested loops, just like in Python:"
   ]
  },
  {
   "cell_type": "code",
   "execution_count": null,
   "metadata": {
    "colab": {
     "base_uri": "https://localhost:8080/",
     "height": 136
    },
    "colab_type": "code",
    "id": "o7-yPeiSlY96",
    "outputId": "dc8d0fe4-12f2-4490-bb40-ca614c83be0e"
   },
   "outputs": [],
   "source": [
    "a = [(i,j) for i in 1:3 for j in 1:i]"
   ]
  },
  {
   "cell_type": "markdown",
   "metadata": {
    "colab_type": "text",
    "id": "tgmDLO9-ljg2"
   },
   "source": [
    "Here's the corresponding Python code:\n",
    "\n",
    "```python\n",
    "# PYTHON\n",
    "a = [(i, j) for i in range(1, 4) for j in range(1, i+1)]\n",
    "```"
   ]
  },
  {
   "cell_type": "markdown",
   "metadata": {
    "colab_type": "text",
    "id": "1d06vVpLi9pS"
   },
   "source": [
    "Julia comprehensions can also create multi-dimensional arrays (note the different syntax: there is only one `for`):"
   ]
  },
  {
   "cell_type": "code",
   "execution_count": null,
   "metadata": {
    "colab": {
     "base_uri": "https://localhost:8080/",
     "height": 85
    },
    "colab_type": "code",
    "id": "gx9M3oLFjHsp",
    "outputId": "e930acc8-fb00-4729-8d49-bb7dabb8e079"
   },
   "outputs": [],
   "source": [
    "a = [row * col for row in 1:3, col in 1:5]"
   ]
  },
  {
   "cell_type": "markdown",
   "metadata": {
    "colab_type": "text",
    "id": "8_MgIEMeg69D"
   },
   "source": [
    "# Dictionaries\n",
    "The syntax for dictionaries is a bit different than Python:"
   ]
  },
  {
   "cell_type": "code",
   "execution_count": null,
   "metadata": {
    "colab": {
     "base_uri": "https://localhost:8080/",
     "height": 34
    },
    "colab_type": "code",
    "id": "IwBc2os7g9Yr",
    "outputId": "5a2c457a-64dc-478d-ddb6-cca8e7e36ffe"
   },
   "outputs": [],
   "source": [
    "d = Dict(\"tree\"=>\"arbre\", \"love\"=>\"amour\", \"coffee\"=>\"café\")\n",
    "println(d[\"tree\"])"
   ]
  },
  {
   "cell_type": "code",
   "execution_count": null,
   "metadata": {
    "colab": {
     "base_uri": "https://localhost:8080/",
     "height": 34
    },
    "colab_type": "code",
    "id": "rZoY383Qhaus",
    "outputId": "076464a0-98d3-461e-ed2f-ca2f43500957"
   },
   "outputs": [],
   "source": [
    "println(get(d, \"unknown\", \"pardon?\"))"
   ]
  },
  {
   "cell_type": "code",
   "execution_count": null,
   "metadata": {
    "colab": {
     "base_uri": "https://localhost:8080/",
     "height": 85
    },
    "colab_type": "code",
    "id": "GOk28cgEjsjG",
    "outputId": "4164e02b-4fdc-4600-823a-4f2fb4d2da75"
   },
   "outputs": [],
   "source": [
    "keys(d)"
   ]
  },
  {
   "cell_type": "code",
   "execution_count": null,
   "metadata": {
    "colab": {
     "base_uri": "https://localhost:8080/",
     "height": 85
    },
    "colab_type": "code",
    "id": "xrt3-wu7j6TI",
    "outputId": "4fc614cf-bbf2-4045-909c-2b53135f8c3c"
   },
   "outputs": [],
   "source": [
    "values(d)"
   ]
  },
  {
   "cell_type": "code",
   "execution_count": null,
   "metadata": {
    "colab": {
     "base_uri": "https://localhost:8080/",
     "height": 34
    },
    "colab_type": "code",
    "id": "J2kRT8MGj8Wo",
    "outputId": "e26ec8bf-7c1e-4c5a-ebe2-a0b523099c7a"
   },
   "outputs": [],
   "source": [
    "haskey(d, \"love\")"
   ]
  },
  {
   "cell_type": "code",
   "execution_count": null,
   "metadata": {
    "colab": {
     "base_uri": "https://localhost:8080/",
     "height": 34
    },
    "colab_type": "code",
    "id": "PABOOmVSkJ6l",
    "outputId": "2611cf3a-0385-4886-9a2c-3db7a60146fe"
   },
   "outputs": [],
   "source": [
    "\"love\" in keys(d) # this is slower than haskey()"
   ]
  },
  {
   "cell_type": "markdown",
   "metadata": {
    "colab_type": "text",
    "id": "xfL2ZXK6hlEt"
   },
   "source": [
    "The equivalent Python code is of course:\n",
    "\n",
    "```python\n",
    "d = {\"tree\": \"arbre\", \"love\": \"amour\", \"coffee\": \"café\"}\n",
    "d[\"tree\"]\n",
    "d.get(\"unknown\", \"pardon?\")\n",
    "d.keys()\n",
    "d.values()\n",
    "\"love\" in d\n",
    "\"love\" in d.keys()\n",
    "```"
   ]
  },
  {
   "cell_type": "markdown",
   "metadata": {
    "colab_type": "text",
    "id": "8MI_Oti4h2sz"
   },
   "source": [
    "Dict comprehensions work as you would expect:"
   ]
  },
  {
   "cell_type": "code",
   "execution_count": null,
   "metadata": {
    "colab": {
     "base_uri": "https://localhost:8080/",
     "height": 119
    },
    "colab_type": "code",
    "id": "ck21M2RIiEWw",
    "outputId": "6905a51b-b6a6-4cff-8af8-6ba80bba6320"
   },
   "outputs": [],
   "source": [
    "d = Dict(i=>i^2 for i in 1:5)"
   ]
  },
  {
   "cell_type": "markdown",
   "metadata": {
    "colab_type": "text",
    "id": "yeyP5pbQiK4-"
   },
   "source": [
    "Note that the items (aka \"pairs\" in Julia) are shuffled, since dictionaries are hash-based, like in Python (although Python sorts them by key for display).\n",
    "\n",
    "You can easily iterate through the dictionary's pairs like this:"
   ]
  },
  {
   "cell_type": "code",
   "execution_count": null,
   "metadata": {
    "colab": {
     "base_uri": "https://localhost:8080/",
     "height": 102
    },
    "colab_type": "code",
    "id": "GJ1PcdDHiouw",
    "outputId": "1bdcb284-e27b-4495-abd1-460d3aba6ba6"
   },
   "outputs": [],
   "source": [
    "for (k, v) in d\n",
    "    println(\"$k maps to $v\")\n",
    "end"
   ]
  },
  {
   "cell_type": "markdown",
   "metadata": {
    "colab_type": "text",
    "id": "oSjOvDGxi-DS"
   },
   "source": [
    "The equivalent code in Python is:\n",
    "\n",
    "```python\n",
    "# PYTHON\n",
    "d = {i: i**2 for i in range(1, 6)}\n",
    "for k, v in d.items():\n",
    "    print(f\"{k} maps to {v}\")\n",
    "```"
   ]
  },
  {
   "cell_type": "markdown",
   "metadata": {
    "colab_type": "text",
    "id": "b5Ea2USET5jD"
   },
   "source": [
    "And you can merge dictionaries like this:"
   ]
  },
  {
   "cell_type": "code",
   "execution_count": null,
   "metadata": {
    "colab": {
     "base_uri": "https://localhost:8080/",
     "height": 102
    },
    "colab_type": "code",
    "id": "dkNkluLJT7zD",
    "outputId": "789b103e-6379-4562-9c4f-4412b454bdda"
   },
   "outputs": [],
   "source": [
    "d1 = Dict(\"tree\"=>\"arbre\", \"love\"=>\"amour\", \"coffee\"=>\"café\")\n",
    "d2 = Dict(\"car\"=>\"voiture\", \"love\"=>\"aimer\")\n",
    "\n",
    "d = merge(d1, d2)"
   ]
  },
  {
   "cell_type": "markdown",
   "metadata": {
    "colab_type": "text",
    "id": "B1WRTtDXUSCt"
   },
   "source": [
    "Notice that the second dictionary has priority in case of conflict (it's `\"love\" => \"aimer\"`, not `\"love\" => \"amour\"`)."
   ]
  },
  {
   "cell_type": "markdown",
   "metadata": {
    "colab_type": "text",
    "id": "vpIXgc-4Umc8"
   },
   "source": [
    "In Python, this would be:\n",
    "\n",
    "```python\n",
    "# PYTHON\n",
    "d1 = {\"tree\": \"arbre\", \"love\": \"amour\", \"coffee\": \"café\"}\n",
    "d2 = {\"car\": \"voiture\", \"love\": \"aimer\"}\n",
    "d = {**d1, **d2}\n",
    "```"
   ]
  },
  {
   "cell_type": "markdown",
   "metadata": {
    "colab_type": "text",
    "id": "zu39af1MVaKB"
   },
   "source": [
    "Or if you want to update the first dictionary instead of creating a new one:"
   ]
  },
  {
   "cell_type": "code",
   "execution_count": null,
   "metadata": {
    "colab": {
     "base_uri": "https://localhost:8080/",
     "height": 102
    },
    "colab_type": "code",
    "id": "5_kcU7WTVhIN",
    "outputId": "11ce572a-387d-4235-ca9f-8aaa2c0e1400"
   },
   "outputs": [],
   "source": [
    "merge!(d1, d2)"
   ]
  },
  {
   "cell_type": "markdown",
   "metadata": {
    "colab_type": "text",
    "id": "9h_NjAmAVmBd"
   },
   "source": [
    "In Python, that's:\n",
    "\n",
    "```python\n",
    "# PYTHON\n",
    "d1.update(d2)\n",
    "```"
   ]
  },
  {
   "cell_type": "markdown",
   "metadata": {
    "colab_type": "text",
    "id": "6_-ibdMnjP8a"
   },
   "source": [
    "In Julia, each pair is an actual `Pair` object:"
   ]
  },
  {
   "cell_type": "code",
   "execution_count": null,
   "metadata": {
    "colab": {
     "base_uri": "https://localhost:8080/",
     "height": 51
    },
    "colab_type": "code",
    "id": "a85m1lmJjVPP",
    "outputId": "4159af58-c7ee-442f-af13-81f3594490a0"
   },
   "outputs": [],
   "source": [
    "p = \"tree\" => \"arbre\"\n",
    "println(typeof(p))\n",
    "k, v = p\n",
    "println(\"$k maps to $v\")"
   ]
  },
  {
   "cell_type": "markdown",
   "metadata": {
    "colab_type": "text",
    "id": "mOCYFiB3N5s8"
   },
   "source": [
    "Note that any object for which a `hash()` method is implemented can be used as a key in a dictionary. This includes all the basic types like integers, floats, as well as string, tuples, etc. But it also includes arrays! In Julia, you have the freedom to use arrays as keys (unlike in Python), but make sure not to mutate these arrays after insertion, or else things will break! Indeed, the pairs will be stored in memory in a location that depends on the hash of the key at insertion time, so if that key changes afterwards, you won't be able to find the pair anymore:"
   ]
  },
  {
   "cell_type": "code",
   "execution_count": null,
   "metadata": {
    "colab": {
     "base_uri": "https://localhost:8080/",
     "height": 85
    },
    "colab_type": "code",
    "id": "0bYNOLHiOgnl",
    "outputId": "af634150-9856-42f7-da19-c3cc304e5df4"
   },
   "outputs": [],
   "source": [
    "a = [1, 2, 3]\n",
    "d = Dict(a => \"My array\")\n",
    "println(\"The dictionary is: $d\")\n",
    "println(\"Indexing works fine as long as the array is unchanged: \", d[a])\n",
    "a[1] = 10\n",
    "println(\"This is the dictionary now: $d\")\n",
    "try\n",
    "    println(\"Key changed, indexing is now broken: \", d[a])\n",
    "catch ex\n",
    "    ex\n",
    "end"
   ]
  },
  {
   "cell_type": "markdown",
   "metadata": {
    "colab_type": "text",
    "id": "zr26SHedQJTE"
   },
   "source": [
    "However, it's still possible to iterate through the keys, the values or the pairs:"
   ]
  },
  {
   "cell_type": "code",
   "execution_count": null,
   "metadata": {
    "colab": {
     "base_uri": "https://localhost:8080/",
     "height": 34
    },
    "colab_type": "code",
    "id": "5e6eZEq9QUt4",
    "outputId": "7c2107c2-f6a6-45d8-a24f-012d7eb7112c"
   },
   "outputs": [],
   "source": [
    "for pair in d\n",
    "    println(pair)\n",
    "end"
   ]
  },
  {
   "cell_type": "markdown",
   "metadata": {
    "colab_type": "text",
    "id": "Ie9QcVsYWDFh"
   },
   "source": [
    "|Julia|Python\n",
    "|-----|------\n",
    "|`Dict(\"tree\"=>\"arbre\", \"love\"=>\"amour\")` | `{\"tree\": \"arbre\", \"love\": \"amour\"}`\n",
    "|`d[\"arbre\"]` | `d[\"arbre\"]`\n",
    "|`get(d, \"unknown\", \"default\")` | `d.get(\"unknown\", \"default\")`\n",
    "|`keys(d)` | `d.keys()`\n",
    "|`values(d)` | `d.values()`\n",
    "|`haskey(d, k)` | `k in d`\n",
    "|`Dict(i=>i^2 for i in 1:4)` | `{i: i**2 for i in 1:4}`\n",
    "|`for (k, v) in d` | `for k, v in d.items():`\n",
    "|`merge(d1, d2)` | `{**d1, **d2}`\n",
    "|`merge!(d1, d2)` | `d1.update(d2)`"
   ]
  },
  {
   "cell_type": "markdown",
   "metadata": {
    "colab_type": "text",
    "id": "rTWmi1P8jlDq"
   },
   "source": [
    "# Sets"
   ]
  },
  {
   "cell_type": "markdown",
   "metadata": {
    "colab_type": "text",
    "id": "WlTKQaxxmLde"
   },
   "source": [
    "Let's create a couple sets:"
   ]
  },
  {
   "cell_type": "code",
   "execution_count": null,
   "metadata": {
    "colab": {
     "base_uri": "https://localhost:8080/",
     "height": 119
    },
    "colab_type": "code",
    "id": "sQ_wNw0Mjmqs",
    "outputId": "aa711bee-67ae-4423-fd54-75a0ad551d56"
   },
   "outputs": [],
   "source": [
    "odd = Set([1, 3, 5, 7, 9, 11])\n",
    "prime = Set([2, 3, 5, 7, 11])"
   ]
  },
  {
   "cell_type": "markdown",
   "metadata": {
    "colab_type": "text",
    "id": "w7JZBRWbsqiL"
   },
   "source": [
    "The order of sets is not guaranteed, just like in Python."
   ]
  },
  {
   "cell_type": "markdown",
   "metadata": {
    "colab_type": "text",
    "id": "JEQ96Ljkm_0R"
   },
   "source": [
    "Use `in` or `∈` (type `\\in<tab>`) to check whether a set contains a given value:"
   ]
  },
  {
   "cell_type": "code",
   "execution_count": null,
   "metadata": {
    "colab": {
     "base_uri": "https://localhost:8080/",
     "height": 34
    },
    "colab_type": "code",
    "id": "oRd2gpWvm9mF",
    "outputId": "30bd4e83-e5bf-405c-d626-af20e348772c"
   },
   "outputs": [],
   "source": [
    "5 ∈ odd"
   ]
  },
  {
   "cell_type": "code",
   "execution_count": null,
   "metadata": {
    "colab": {
     "base_uri": "https://localhost:8080/",
     "height": 34
    },
    "colab_type": "code",
    "id": "pRQN8XNWnQgj",
    "outputId": "b63a37f8-f383-404a-efde-28ec6c4c05eb"
   },
   "outputs": [],
   "source": [
    "5 in odd"
   ]
  },
  {
   "cell_type": "markdown",
   "metadata": {
    "colab_type": "text",
    "id": "WyBv6ethnRw8"
   },
   "source": [
    "Both of these expressions are equivalent to:"
   ]
  },
  {
   "cell_type": "code",
   "execution_count": null,
   "metadata": {
    "colab": {
     "base_uri": "https://localhost:8080/",
     "height": 34
    },
    "colab_type": "code",
    "id": "Twamj50pnXQE",
    "outputId": "f5c46af7-196d-4519-8e9e-f67cc2d3fe87"
   },
   "outputs": [],
   "source": [
    "in(5, odd)"
   ]
  },
  {
   "cell_type": "markdown",
   "metadata": {
    "colab_type": "text",
    "id": "MHQ5qnLZmPhR"
   },
   "source": [
    "Now let's get the union of these two sets:"
   ]
  },
  {
   "cell_type": "code",
   "execution_count": null,
   "metadata": {
    "colab": {
     "base_uri": "https://localhost:8080/",
     "height": 153
    },
    "colab_type": "code",
    "id": "mfuMOXDdmGKA",
    "outputId": "d03512cb-cce4-4975-8ad3-566d0228b6bb"
   },
   "outputs": [],
   "source": [
    "odd ∪ prime"
   ]
  },
  {
   "cell_type": "markdown",
   "metadata": {
    "colab_type": "text",
    "id": "xS6GLhE5mRbD"
   },
   "source": [
    "∪ is the union symbol, not a U. To type this character, type `\\cup<tab>` (it has the shape of a cup). Alternatively, you can just use the `union()` function:"
   ]
  },
  {
   "cell_type": "code",
   "execution_count": null,
   "metadata": {
    "colab": {
     "base_uri": "https://localhost:8080/",
     "height": 153
    },
    "colab_type": "code",
    "id": "G_yju4QvmerU",
    "outputId": "e62c997d-80ef-4c7a-ebdb-86c8c8993b22"
   },
   "outputs": [],
   "source": [
    "union(odd, prime)"
   ]
  },
  {
   "cell_type": "markdown",
   "metadata": {
    "colab_type": "text",
    "id": "Y8l4331img0-"
   },
   "source": [
    "Now let's get the intersection using the ∩ symbol (type `\\cap<tab>`):"
   ]
  },
  {
   "cell_type": "code",
   "execution_count": null,
   "metadata": {
    "colab": {
     "base_uri": "https://localhost:8080/",
     "height": 102
    },
    "colab_type": "code",
    "id": "NazqlxbGmkZM",
    "outputId": "7a466361-b41c-498d-fe1f-b1e45a439eb1"
   },
   "outputs": [],
   "source": [
    "odd ∩ prime"
   ]
  },
  {
   "cell_type": "markdown",
   "metadata": {
    "colab_type": "text",
    "id": "X9-MDgxWmzXl"
   },
   "source": [
    "Or use the `intersect()` function:"
   ]
  },
  {
   "cell_type": "code",
   "execution_count": null,
   "metadata": {
    "colab": {
     "base_uri": "https://localhost:8080/",
     "height": 102
    },
    "colab_type": "code",
    "id": "zcEEMfG4m1l9",
    "outputId": "ad125fef-dd61-4edd-9962-804908593dee"
   },
   "outputs": [],
   "source": [
    "intersect(odd, prime)"
   ]
  },
  {
   "cell_type": "markdown",
   "metadata": {
    "colab_type": "text",
    "id": "QSMs88owpLb2"
   },
   "source": [
    "Next, let's get the [set difference](https://en.wikipedia.org/wiki/Complement_(set_theory)#Relative_complement) and the [symetric difference](https://en.wikipedia.org/wiki/Symmetric_difference) between these two sets:"
   ]
  },
  {
   "cell_type": "code",
   "execution_count": null,
   "metadata": {
    "colab": {
     "base_uri": "https://localhost:8080/",
     "height": 68
    },
    "colab_type": "code",
    "id": "-Tpr5_BBpQH_",
    "outputId": "acb6fdfc-9cb5-42b4-c08f-6096c9e13d52"
   },
   "outputs": [],
   "source": [
    "setdiff(odd, prime) # values in odd but not in prime"
   ]
  },
  {
   "cell_type": "code",
   "execution_count": null,
   "metadata": {
    "colab": {
     "base_uri": "https://localhost:8080/",
     "height": 85
    },
    "colab_type": "code",
    "id": "of_EQE1CpvpO",
    "outputId": "7ee809e3-46d6-4038-8b8c-b51acaddec61"
   },
   "outputs": [],
   "source": [
    "symdiff(odd, prime) # values that are not in the intersection"
   ]
  },
  {
   "cell_type": "markdown",
   "metadata": {
    "colab_type": "text",
    "id": "NH_-NbzPsSQ_"
   },
   "source": [
    "Lastly, set comprehensions work just fine:"
   ]
  },
  {
   "cell_type": "code",
   "execution_count": null,
   "metadata": {
    "colab": {
     "base_uri": "https://localhost:8080/",
     "height": 102
    },
    "colab_type": "code",
    "id": "LMIiE-0psXvs",
    "outputId": "eb8f23be-2593-4824-bca9-2c13211d1ae4"
   },
   "outputs": [],
   "source": [
    "Set([i^2 for i in 1:4])"
   ]
  },
  {
   "cell_type": "markdown",
   "metadata": {
    "colab_type": "text",
    "id": "DBJ4XaVmoeUY"
   },
   "source": [
    "The equivalent Python code is:\n",
    "\n",
    "```python\n",
    "# PYTHON\n",
    "odds = {1, 3, 5, 7, 9, 11}\n",
    "primes = {2, 3, 5, 7, 11}\n",
    "5 in primes\n",
    "odds | primes # union\n",
    "odds.union(primes)\n",
    "odds & primes # intersection\n",
    "odds.intersection(primes)\n",
    "odds - primes # set difference\n",
    "odds.difference(primes)\n",
    "odds ^ primes # symmetric difference\n",
    "odds.symmetric_difference(primes)\n",
    "{i**2 for i in range(1, 5)}\n",
    "```"
   ]
  },
  {
   "cell_type": "markdown",
   "metadata": {
    "colab_type": "text",
    "id": "vm1zWNsJRcFV"
   },
   "source": [
    "Note that you can store any hashable object in a `Set` (i.e., any instance of a type for which the `hash()` method is implemented). This includes arrays, unlike in Python. Just like for dictionary keys, you can add arrays to sets, but make sure not to mutate them after insertion."
   ]
  },
  {
   "cell_type": "markdown",
   "metadata": {
    "colab_type": "text",
    "id": "nPrJ9Ih9X4ak"
   },
   "source": [
    "|Julia|Python\n",
    "|-----|------\n",
    "|`Set([1, 3, 5, 7])` | `{1, 3, 5, 7}`\n",
    "|`5 in odd` | `5 in odd`\n",
    "|`Set([i^2 for i in 1:4])` | `{i**2 for i in range(1, 5)}`\n",
    "|`odd ∪ primes` | `odd | primes`\n",
    "|`union(odd, primes)` | `odd.union(primes)`\n",
    "|`odd ∩ primes` | `odd & primes`\n",
    "|`insersect(odd, primes)` | `odd.intersection(primes)`\n",
    "|`setdiff(odd, primes)` | `odd - primes` or `odd.difference(primes)`\n",
    "|`symdiff(odd, primes)` | `odd ^ primes` or `odd.symmetric_difference(primes)`"
   ]
  },
  {
   "cell_type": "markdown",
   "metadata": {
    "colab_type": "text",
    "id": "AOfz9B7ZF__1"
   },
   "source": [
    "# Enums"
   ]
  },
  {
   "cell_type": "markdown",
   "metadata": {
    "colab_type": "text",
    "id": "RozBUdxsGgKv"
   },
   "source": [
    "To create an enum, use the `@enum` macro:"
   ]
  },
  {
   "cell_type": "code",
   "execution_count": null,
   "metadata": {
    "colab": {},
    "colab_type": "code",
    "id": "R6HMPDyvGB_k"
   },
   "outputs": [],
   "source": [
    "@enum Fruit apple=1 banana=2 orange=3"
   ]
  },
  {
   "cell_type": "markdown",
   "metadata": {
    "colab_type": "text",
    "id": "dxFUJ9boGmkh"
   },
   "source": [
    "This creates the `Fruit` enum, with 3 possible values. It also binds the names to the values:"
   ]
  },
  {
   "cell_type": "code",
   "execution_count": null,
   "metadata": {
    "colab": {
     "base_uri": "https://localhost:8080/",
     "height": 34
    },
    "colab_type": "code",
    "id": "czHDZ6MRGUvL",
    "outputId": "548bcd90-16bb-4588-87f4-64f3cfe7b6be"
   },
   "outputs": [],
   "source": [
    "banana"
   ]
  },
  {
   "cell_type": "markdown",
   "metadata": {
    "colab_type": "text",
    "id": "7ufyorAsGvzv"
   },
   "source": [
    "Or you can get a `Fruit` instance using the value:"
   ]
  },
  {
   "cell_type": "code",
   "execution_count": null,
   "metadata": {
    "colab": {
     "base_uri": "https://localhost:8080/",
     "height": 34
    },
    "colab_type": "code",
    "id": "NVgfYUBWGObS",
    "outputId": "aade685b-b02b-405e-e2b1-a81394d48107"
   },
   "outputs": [],
   "source": [
    "Fruit(2)"
   ]
  },
  {
   "cell_type": "markdown",
   "metadata": {
    "colab_type": "text",
    "id": "ctxEepMNG_-4"
   },
   "source": [
    "And you can get all the instances of the enum easily:"
   ]
  },
  {
   "cell_type": "code",
   "execution_count": null,
   "metadata": {
    "colab": {
     "base_uri": "https://localhost:8080/",
     "height": 34
    },
    "colab_type": "code",
    "id": "yPy9trwtGR1y",
    "outputId": "2064ba5d-2253-4fce-9c5b-208c97333245"
   },
   "outputs": [],
   "source": [
    "instances(Fruit)"
   ]
  },
  {
   "cell_type": "markdown",
   "metadata": {
    "colab_type": "text",
    "id": "bBCsVIXEHD29"
   },
   "source": [
    "|Julia|Python\n",
    "|-----|------\n",
    "|`@enum Fruit apple=1 banana=2 orange=3` | `from enum import Enum`<br />`class Fruit(Enum):`<br />&nbsp;&nbsp;&nbsp;&nbsp;`APPLE = 1`<br />&nbsp;&nbsp;&nbsp;&nbsp;`BANANA = 2`<br />&nbsp;&nbsp;&nbsp;&nbsp;`ORANGE = 3`\n",
    "| `Fruit(2) === banana` | `Fruit(2) is Fruit.BANANA`\n",
    "| `instances(Fruit)` | `dir(Fruit)`\n"
   ]
  },
  {
   "cell_type": "markdown",
   "metadata": {
    "colab_type": "text",
    "id": "7OOe0m7pLj80"
   },
   "source": [
    "# Object Identity\n",
    "In the previous example, `Fruit(2)` and `banana` refer to the same object, not just two objects that happen to be equal. You can verify using the `===` operator, which is the equivalent of Python's `is` operator:"
   ]
  },
  {
   "cell_type": "code",
   "execution_count": null,
   "metadata": {
    "colab": {
     "base_uri": "https://localhost:8080/",
     "height": 34
    },
    "colab_type": "code",
    "id": "G6cpTrQcGUP4",
    "outputId": "5a90dd02-3129-43e8-ce73-406ca4342d95"
   },
   "outputs": [],
   "source": [
    "banana === Fruit(2)"
   ]
  },
  {
   "cell_type": "markdown",
   "metadata": {
    "colab_type": "text",
    "id": "4QPR-8TeL5Wy"
   },
   "source": [
    "You can also check this by looking at their `objectid()`, which is the equivalent of Python's `id()` function:"
   ]
  },
  {
   "cell_type": "code",
   "execution_count": null,
   "metadata": {
    "colab": {
     "base_uri": "https://localhost:8080/",
     "height": 34
    },
    "colab_type": "code",
    "id": "q6qYhWnyMBpf",
    "outputId": "b941b959-ce6e-405b-8fa8-026ed1bf3359"
   },
   "outputs": [],
   "source": [
    "objectid(banana)"
   ]
  },
  {
   "cell_type": "code",
   "execution_count": null,
   "metadata": {
    "colab": {
     "base_uri": "https://localhost:8080/",
     "height": 34
    },
    "colab_type": "code",
    "id": "sT3hq8f_MEZN",
    "outputId": "fd1fc25c-6c2f-4948-9c41-d5eeee33b4a3"
   },
   "outputs": [],
   "source": [
    "objectid(Fruit(2))"
   ]
  },
  {
   "cell_type": "code",
   "execution_count": null,
   "metadata": {
    "colab": {},
    "colab_type": "code",
    "id": "4ZrS4322MKfN"
   },
   "outputs": [],
   "source": [
    "a = [1, 2, 4]\n",
    "b = [1, 2, 4]\n",
    "@assert a == b  # a and b are equal\n",
    "@assert a !== b # but they are not the same object"
   ]
  },
  {
   "cell_type": "markdown",
   "metadata": {
    "colab_type": "text",
    "id": "K3EO6cQmMW0W"
   },
   "source": [
    "|Julia|Python\n",
    "|-----|------\n",
    "|`a === b` | `a is b`\n",
    "|`a !== b` | `a is not b`\n",
    "|`objectid(obj)` | `id(obj)`"
   ]
  },
  {
   "cell_type": "markdown",
   "metadata": {
    "colab_type": "text",
    "id": "d_ATAuXREZx9"
   },
   "source": [
    "# Other Collections\n",
    "\n",
    "For the Julia equivalent of Python's other collections, namely `defaultdict`, `deque`, `OrderedDict`, and `Counter`, check out these libraries:\n",
    "\n",
    "* https://github.com/JuliaCollections/DataStructures.jl\n",
    "* https://github.com/JuliaCollections/OrderedCollections.jl\n",
    "* https://github.com/andyferris/Dictionaries.jl"
   ]
  },
  {
   "cell_type": "markdown",
   "metadata": {
    "colab_type": "text",
    "id": "GBYBDAsF6iDC"
   },
   "source": [
    "Now let's looks at various iteration constructs."
   ]
  },
  {
   "cell_type": "markdown",
   "metadata": {
    "colab_type": "text",
    "id": "jApml2wDacs2"
   },
   "source": [
    "# Iteration Tools"
   ]
  },
  {
   "cell_type": "markdown",
   "metadata": {
    "colab_type": "text",
    "id": "AW2vVurj9E7r"
   },
   "source": [
    "## Generator Expressions\n",
    "\n",
    "Just like in Python, a generator expression resembles a list comprehension, but without the square brackets, and it returns a generator instead of a list. Here's a much shorter implementation of the `estimate_pi()` function using a generator expression:"
   ]
  },
  {
   "cell_type": "code",
   "execution_count": null,
   "metadata": {
    "colab": {},
    "colab_type": "code",
    "id": "7pLMhQjV6z5l"
   },
   "outputs": [],
   "source": [
    "function estimate_pi2(n)\n",
    "    4 * sum((isodd(i) ? -1 : 1)/(2i+1) for i in 0:n)\n",
    "end\n",
    "\n",
    "@assert estimate_pi(100) == estimate_pi2(100)"
   ]
  },
  {
   "cell_type": "markdown",
   "metadata": {
    "colab_type": "text",
    "id": "u-WAtc-eDcp9"
   },
   "source": [
    "That's very similar to the corresponding Python code:\n",
    "\n",
    "```python\n",
    "# PYTHON\n",
    "def estimate_pi2(n):\n",
    "  return 4 * sum((-1 if i%2==1 else 1)/(2*i+1) for i in range(n+1))\n",
    "\n",
    "assert estimate_pi(100) == estimate_pi2(100)\n",
    "```"
   ]
  },
  {
   "cell_type": "markdown",
   "metadata": {
    "colab_type": "text",
    "id": "OHaPPceEKO3r"
   },
   "source": [
    "## `zip`, `enumerate`, `collect`"
   ]
  },
  {
   "cell_type": "markdown",
   "metadata": {
    "colab_type": "text",
    "id": "GBj2mvbiI9cP"
   },
   "source": [
    "The `zip()` function works much like in Python:"
   ]
  },
  {
   "cell_type": "code",
   "execution_count": null,
   "metadata": {
    "colab": {
     "base_uri": "https://localhost:8080/",
     "height": 68
    },
    "colab_type": "code",
    "id": "-UsOasVeJCWe",
    "outputId": "73812428-29f8-4443-bb9f-c0ac43d60bc2"
   },
   "outputs": [],
   "source": [
    "for (i, s) in zip(10:13, [\"Ten\", \"Eleven\", \"Twelve\"])\n",
    "    println(i, \": \", s)\n",
    "end"
   ]
  },
  {
   "cell_type": "markdown",
   "metadata": {
    "colab_type": "text",
    "id": "hu_eJ7okKolh"
   },
   "source": [
    "Notice that the parentheses in `for (i, s)` are required in Julia, as opposed to Python."
   ]
  },
  {
   "cell_type": "markdown",
   "metadata": {
    "colab_type": "text",
    "id": "3y2q4YhNJOQy"
   },
   "source": [
    "The `enumerate()` function also works like in Python, except of course it is 1-indexed:"
   ]
  },
  {
   "cell_type": "code",
   "execution_count": null,
   "metadata": {
    "colab": {
     "base_uri": "https://localhost:8080/",
     "height": 68
    },
    "colab_type": "code",
    "id": "bCTejeu0Ji_8",
    "outputId": "c6c1ebf6-22ff-441b-d9a0-10b60ffe5dc2"
   },
   "outputs": [],
   "source": [
    "for (i, s) in enumerate([\"One\", \"Two\", \"Three\"])\n",
    "    println(i, \": \", s)\n",
    "end"
   ]
  },
  {
   "cell_type": "markdown",
   "metadata": {
    "colab_type": "text",
    "id": "vs4_UjWnJy20"
   },
   "source": [
    "To pull the values of a generator into an array, use `collect()`:"
   ]
  },
  {
   "cell_type": "code",
   "execution_count": null,
   "metadata": {
    "colab": {
     "base_uri": "https://localhost:8080/",
     "height": 119
    },
    "colab_type": "code",
    "id": "42T1NJKhKD1w",
    "outputId": "2d853d90-90f0-4e4a-aaba-9d3f4e2133e8"
   },
   "outputs": [],
   "source": [
    "collect(1:5)"
   ]
  },
  {
   "cell_type": "markdown",
   "metadata": {
    "colab_type": "text",
    "id": "MQMx3bjkKFpk"
   },
   "source": [
    "A shorter syntax for that is:"
   ]
  },
  {
   "cell_type": "code",
   "execution_count": null,
   "metadata": {
    "colab": {
     "base_uri": "https://localhost:8080/",
     "height": 119
    },
    "colab_type": "code",
    "id": "2IEoo_TvKIDm",
    "outputId": "d2703258-5891-40eb-f0dd-9fa685079602"
   },
   "outputs": [],
   "source": [
    "[1:5;]"
   ]
  },
  {
   "cell_type": "markdown",
   "metadata": {
    "colab_type": "text",
    "id": "gbub1jhlKc0V"
   },
   "source": [
    "The equivalent Python code is:\n",
    "\n",
    "```python\n",
    "# PYTHON\n",
    "list(range(1, 6))\n",
    "```"
   ]
  },
  {
   "cell_type": "markdown",
   "metadata": {
    "colab_type": "text",
    "id": "CumclAQ4TTpq"
   },
   "source": [
    "## Generators\n",
    "In Python, you can easily write a generator function to create an object that will behave like an iterator. For example, let's create a generator for the Fibonacci sequence (where each number is the sum of the two previous numbers):\n",
    "\n",
    "```python\n",
    "def fibonacci(n):\n",
    "    a, b = 1, 1\n",
    "    for i in range(n):\n",
    "      yield a\n",
    "      a, b = b, a + b\n",
    "\n",
    "for f in fibonacci(10):\n",
    "    print(f)\n",
    "```\n"
   ]
  },
  {
   "cell_type": "markdown",
   "metadata": {
    "colab_type": "text",
    "id": "bfjsba6gFcMS"
   },
   "source": [
    "This is also quite easy in Julia:"
   ]
  },
  {
   "cell_type": "code",
   "execution_count": null,
   "metadata": {
    "colab": {
     "base_uri": "https://localhost:8080/",
     "height": 187
    },
    "colab_type": "code",
    "id": "cQZ0cowPUC8x",
    "outputId": "9cdb577c-23ce-4c58-894d-642e9ddc5f33"
   },
   "outputs": [],
   "source": [
    "function fibonacci(n)\n",
    "    Channel() do ch\n",
    "        a, b = 1, 1\n",
    "        for i in 1:n\n",
    "            put!(ch, a)\n",
    "            a, b = b, a + b\n",
    "        end\n",
    "    end\n",
    "end\n",
    "\n",
    "for f in fibonacci(10)\n",
    "    println(f)\n",
    "end"
   ]
  },
  {
   "cell_type": "markdown",
   "metadata": {
    "colab_type": "text",
    "id": "VWkUE9FRFfQI"
   },
   "source": [
    "The `Channel` type is part of the API for tasks and coroutines. We'll discuss these later."
   ]
  },
  {
   "cell_type": "markdown",
   "metadata": {
    "colab_type": "text",
    "id": "lisTUktNlbQt"
   },
   "source": [
    "Now let's take a closer look at functions."
   ]
  }
 ],
 "metadata": {
  "kernelspec": {
   "display_name": "Julia 1.4.1",
   "language": "julia",
   "name": "julia-1.4"
  },
  "language_info": {
   "file_extension": ".jl",
   "mimetype": "application/julia",
   "name": "julia",
   "version": "1.4.1"
  }
 },
 "nbformat": 4,
 "nbformat_minor": 4
}
