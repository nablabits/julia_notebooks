{
 "cells": [
  {
   "cell_type": "markdown",
   "metadata": {
    "colab_type": "text",
    "id": "tQ1r1bbb0yBv"
   },
   "source": [
    "<img src=\"https://github.com/JuliaLang/julia-logo-graphics/raw/master/images/julia-logo-color.png\" height=\"100\" /> \n",
    "\n",
    "# _for Pythonistas_\n",
    "\n",
    "> TL;DR: _Julia looks and feels a lot like Python, only much faster. It's dynamic, expressive, extensible, with batteries included, in particular for Data Science_.\n",
    "\n",
    "This notebook is an **introduction to Julia for Python programmers**.\n",
    "\n",
    "It will go through the most important Python features (such as functions, basic types, list comprehensions, exceptions, generators, modules, packages, and so on) and show you how to code them in Julia."
   ]
  },
  {
   "cell_type": "markdown",
   "metadata": {
    "colab_type": "text",
    "id": "2ZvetMlVYKXY"
   },
   "source": [
    "## Running This Notebook Locally\n",
    "If you prefer to run this notebook on your machine instead of Google Colab:\n",
    "\n",
    "* Download this notebook (File > Download .ipynb)\n",
    "* Install [Julia](https://julialang.org/downloads/)\n",
    "* Run the following command in a terminal to install `IJulia` (the Jupyter kernel for Julia), and a few packages we will use:\n",
    "```bash\n",
    "julia -e 'using Pkg\n",
    "            pkg\"add IJulia; precompile;\"\n",
    "            pkg\"add BenchmarkTools; precompile;\"\n",
    "            pkg\"add PyCall; precompile;\"\n",
    "            pkg\"add PyPlot; precompile;\"'\n",
    "```\n",
    "\n",
    "* Next, go to the directory containing this notebook:\n",
    "\n",
    "    ```julia\n",
    "cd /path/to/notebook/directory\n",
    "```\n",
    "\n",
    "* Start Jupyter Notebook:\n",
    "\n",
    "    ```bash\n",
    "julia -e 'using IJulia; IJulia.notebook()'\n",
    "```\n",
    "\n",
    "    Or replace `notebook()` with `jupyterlab()` if you prefer JupyterLab.\n",
    "\n",
    "    If you do not already have [Jupyter](https://jupyter.org/install) installed, IJulia will propose to install it. If you agree, it will automatically install a private Miniconda (just for Julia), and install Jupyter and Python inside it.\n",
    "\n",
    "* Lastly, open this notebook and skip directly to the next section."
   ]
  },
  {
   "cell_type": "markdown",
   "metadata": {
    "colab_type": "text",
    "id": "-OS3Ac017T1i"
   },
   "source": [
    "## Checking the Installation\n",
    "The `versioninfo()` function should print your Julia version and some other info about the system (if you ever ask for help or file an issue about Julia, you should always provide this information)."
   ]
  },
  {
   "cell_type": "code",
   "execution_count": null,
   "metadata": {
    "colab": {
     "base_uri": "https://localhost:8080/",
     "height": 187
    },
    "colab_type": "code",
    "id": "EEzvvzCl1i0F",
    "outputId": "2ee483c8-0392-48c9-fec9-d25fe9ba7e94"
   },
   "outputs": [],
   "source": [
    "versioninfo()"
   ]
  },
  {
   "cell_type": "markdown",
   "metadata": {
    "colab_type": "text",
    "id": "GnSoOX6btmkh"
   },
   "source": [
    "# Getting Help\n",
    "To get help on any module, function, variable, or just about anything else, just type `?` followed by what you're interested in. For example:"
   ]
  },
  {
   "cell_type": "code",
   "execution_count": null,
   "metadata": {
    "colab": {
     "base_uri": "https://localhost:8080/",
     "height": 120
    },
    "colab_type": "code",
    "id": "-4FMkizktjB5",
    "outputId": "f40e8fd9-b3e0-4f85-ce88-ea67cf6ee572"
   },
   "outputs": [],
   "source": [
    "?versioninfo"
   ]
  },
  {
   "cell_type": "markdown",
   "metadata": {
    "colab_type": "text",
    "id": "iAZabyzVEKlX"
   },
   "source": [
    "This works in interactive mode only: in Jupyter, Colab and in the Julia shell (called the REPL)."
   ]
  },
  {
   "cell_type": "markdown",
   "metadata": {
    "colab_type": "text",
    "id": "QvXUXo-XUt3h"
   },
   "source": [
    "Here are a few more ways to get help and inspect objects in interactive mode:\n",
    "\n",
    "|Julia|Python\n",
    "|-----|------\n",
    "|`?obj` | `help(obj)`\n",
    "|`dump(obj)` | `print(repr(obj))`\n",
    "|`names(FooModule)` | `dir(foo_module)`\n",
    "|`methodswith(SomeType)` | `dir(SomeType)`\n",
    "|`@which func` | `func.__module__`\n",
    "|`apropos(\"bar\")` | Search for `\"bar\"` in docstrings of all installed packages\n",
    "|`typeof(obj)` | `type(obj)`\n",
    "|`obj isa SomeType`<br />or<br />`isa(obj, SomeType)` | `isinstance(obj, SomeType)`\n",
    "\n",
    "If you ever ask for help or file an issue about Julia, you should generally provide the output of `versioninfo()`.\n",
    "\n",
    "And of course, you can also learn and get help here:\n",
    "\n",
    "* Learning: https://julialang.org/learning/\n",
    "* Documentation: https://docs.julialang.org/\n",
    "* Questions & Discussions:\n",
    "  * https://discourse.julialang.org/\n",
    "  * http://julialang.slack.com/\n",
    "  * https://stackoverflow.com/questions/tagged/julia"
   ]
  },
  {
   "cell_type": "markdown",
   "metadata": {
    "colab_type": "text",
    "id": "TB3UQ7RQZZtP"
   },
   "source": [
    "# A First Look at Julia\n",
    "This section will give you an idea of what Julia looks like and what some of its major qualities are: it's expressive, dynamic, flexible, and most of all, super fast."
   ]
  },
  {
   "cell_type": "markdown",
   "metadata": {
    "colab_type": "text",
    "id": "tBKp4lciICdi"
   },
   "source": [
    "## Estimating π\n",
    "Let's write our first function. It will estimate π using the equation:\n",
    "$π = 4 \\times \\left(1 - \\dfrac{1}{3} + \\dfrac{1}{5} - \\dfrac{1}{7} + \\dfrac{1}{9}-\\dfrac{1}{11}+\\dots\\right)$\n",
    "\n",
    "There are much better ways to estimate π, but this one is easy to implement."
   ]
  },
  {
   "cell_type": "code",
   "execution_count": null,
   "metadata": {
    "colab": {
     "base_uri": "https://localhost:8080/",
     "height": 51
    },
    "colab_type": "code",
    "id": "EPRfV4_XI2Rk",
    "outputId": "f1a3ceaa-c8f2-4636-d5db-03079bc4d1d9"
   },
   "outputs": [],
   "source": [
    "function estimate_pi(n)\n",
    "    s = 1.0\n",
    "    for i in 1:n\n",
    "        s += (isodd(i) ? -1 : 1) / (2i + 1)\n",
    "    end\n",
    "    4s\n",
    "end\n",
    "\n",
    "p = estimate_pi(100_000_000)\n",
    "println(\"π ≈ $p\")\n",
    "println(\"Error is $(p - π)\")"
   ]
  },
  {
   "cell_type": "markdown",
   "metadata": {
    "colab_type": "text",
    "id": "5SGZnQB3cug3"
   },
   "source": [
    "**Note**: syntax highlighting for Julia does not work (yet?) on Colab, but it does in Jupyter."
   ]
  },
  {
   "cell_type": "markdown",
   "metadata": {
    "colab_type": "text",
    "id": "iYJZNTLCLdU3"
   },
   "source": [
    "Compare this with the equivalent Python 3 code:"
   ]
  },
  {
   "cell_type": "markdown",
   "metadata": {
    "colab_type": "text",
    "id": "F98h-og4KHHn"
   },
   "source": [
    "```python\n",
    "# PYTHON\n",
    "import math\n",
    "\n",
    "def estimate_pi(n):\n",
    "    s = 1.0\n",
    "    for i in range(1, n + 1):\n",
    "        s += (-1 if i % 2 else 1) / (2 * i + 1)\n",
    "    return 4 * s\n",
    "\n",
    "p = estimate_pi(100_000_000)\n",
    "print(f\"π ≈ {p}\") # f-strings are available in Python 3.6+\n",
    "print(f\"Error is {p - math.pi}\")\n",
    "```"
   ]
  },
  {
   "cell_type": "markdown",
   "metadata": {
    "colab_type": "text",
    "id": "zZl4GRE0LuEc"
   },
   "source": [
    "Pretty similar, right? But notice the small differences:\n",
    "\n",
    "|Julia|Python\n",
    "|-----|------\n",
    "|`function` | `def`\n",
    "|`for i in X`<br />&nbsp;&nbsp;&nbsp;&nbsp;`...`<br />`end` | `for i in X:`<br />&nbsp;&nbsp;&nbsp;&nbsp;`...`\n",
    "|`1:n` | `range(1, n+1)`\n",
    "|`cond ? a : b` | `a if cond else b`\n",
    "|`2i + 1` | `2 * i + 1`\n",
    "|`4s` | `return 4 * s`\n",
    "|`println(a, b)` | `print(a, b, sep=\"\")`\n",
    "|`print(a, b)` | `print(a, b, sep=\"\", end=\"\")`\n",
    "|`\"$p\"` | `f\"{p}\"`\n",
    "|`\"$(p - π)\"` | `f\"{p - math.pi}\"`\n",
    "\n",
    "This example shows that:\n",
    "* Julia can be just as concise and readable as Python.\n",
    "* Indentation in Julia is _not_ meaningful like it is in Python. Instead, blocks end with `end`.\n",
    "* Many math features are built in Julia and need no imports.\n",
    "* There's some mathy syntactic sugar, such as `2i` (but you can write `2 * i` if you prefer).\n",
    "* In Julia, the `return` keyword is optional at the end of a function. The result of the last expression is returned (`4s` in this example).\n",
    "* Julia loves Unicode and does not hesitate to use Unicode characters like `π`. However, there are generally plain-ASCII equivalents (e.g., `π == pi`)."
   ]
  },
  {
   "cell_type": "markdown",
   "metadata": {
    "colab_type": "text",
    "id": "C81648ZjKljL"
   },
   "source": [
    "## Typing Unicode Characters"
   ]
  },
  {
   "cell_type": "markdown",
   "metadata": {
    "colab_type": "text",
    "id": "ceBdy_lFKoFz"
   },
   "source": [
    "Typing Unicode characters is easy: for latex symbols like π, just type `\\pi<tab>`. For emojis like 😃, type `\\:smiley:<tab>`.\n",
    "\n",
    "This works in the REPL, in Jupyter, but unfortunately not in Colab (yet?). As a workaround, you can run the following code to print the character you want, then copy/paste it:"
   ]
  },
  {
   "cell_type": "code",
   "execution_count": null,
   "metadata": {
    "colab": {
     "base_uri": "https://localhost:8080/",
     "height": 34
    },
    "colab_type": "code",
    "id": "6nvl3qveKHld",
    "outputId": "93d80d65-b0d2-4191-a06e-a029dc2b8f1f"
   },
   "outputs": [],
   "source": [
    "using REPL.REPLCompletions: latex_symbols, emoji_symbols\n",
    "\n",
    "latex_symbols[\"\\\\pi\"]"
   ]
  },
  {
   "cell_type": "code",
   "execution_count": null,
   "metadata": {
    "colab": {
     "base_uri": "https://localhost:8080/",
     "height": 34
    },
    "colab_type": "code",
    "id": "RUHi_sDKLGL5",
    "outputId": "6232f286-0900-47de-f88b-ecab8600580e"
   },
   "outputs": [],
   "source": [
    "emoji_symbols[\"\\\\:smiley:\"]"
   ]
  },
  {
   "cell_type": "markdown",
   "metadata": {
    "colab_type": "text",
    "id": "9at61Y3LLJWX"
   },
   "source": [
    "In Julia, `using Foo.Bar: a, b` corresponds to running `from foo.bar import a, b` in Python.\n",
    "\n",
    "|Julia|Python\n",
    "|-----|------\n",
    "|`using Foo` | `from foo import *; import foo`\n",
    "|`using Foo.Bar` | `from foo.bar import *; from foo import bar`\n",
    "|`using Foo.Bar: a, b` | `from foo.bar import a, b`\n",
    "|`using Foo: Bar` | `from foo import bar`\n",
    "\n",
    "More on this later."
   ]
  },
  {
   "cell_type": "markdown",
   "metadata": {
    "colab_type": "text",
    "id": "0CnQq32IaDGD"
   },
   "source": [
    "## Running Python code in Julia\n",
    "Julia lets you easily run Python code using the `PyCall` module. We installed it earlier, so we just need to import it:"
   ]
  },
  {
   "cell_type": "code",
   "execution_count": null,
   "metadata": {
    "colab": {},
    "colab_type": "code",
    "id": "SHCsfibyaBRk"
   },
   "outputs": [],
   "source": [
    "using PyCall"
   ]
  },
  {
   "cell_type": "markdown",
   "metadata": {
    "colab_type": "text",
    "id": "x7Qk9ht-d8Vo"
   },
   "source": [
    "Now that we have imported `PyCall`, we can use the `pyimport()` function to import a Python module directly in Julia! For example, let's check which Python version we are using:"
   ]
  },
  {
   "cell_type": "code",
   "execution_count": null,
   "metadata": {
    "colab": {
     "base_uri": "https://localhost:8080/",
     "height": 34
    },
    "colab_type": "code",
    "id": "LlB4nMZVeZmY",
    "outputId": "eb50b3f9-aa5d-445d-a30c-c68939b628b2"
   },
   "outputs": [],
   "source": [
    "sys = pyimport(\"sys\")\n",
    "sys.version"
   ]
  },
  {
   "cell_type": "markdown",
   "metadata": {
    "colab_type": "text",
    "id": "YwM2lGhmjIAA"
   },
   "source": [
    "In fact, let's run the Python code we discussed earlier (this will take about 15 seconds to run, because Python is so slow...):"
   ]
  },
  {
   "cell_type": "code",
   "execution_count": null,
   "metadata": {
    "colab": {},
    "colab_type": "code",
    "id": "MrhaObEaJ_sB"
   },
   "outputs": [],
   "source": [
    "py\"\"\"\n",
    "import math\n",
    " \n",
    "def estimate_pi(n):\n",
    "    s = 1.0\n",
    "    for i in range(1, n + 1):\n",
    "        s += (-1 if i % 2 else 1) / (2 * i + 1)\n",
    "    return 4 * s\n",
    " \n",
    "p = estimate_pi(100_000_000)\n",
    "print(f\"π ≈ {p}\") # f-strings are available in Python 3.6+\n",
    "print(f\"Error is {p - math.pi}\")\n",
    "\"\"\"\n"
   ]
  },
  {
   "cell_type": "markdown",
   "metadata": {
    "colab_type": "text",
    "id": "PHemaGjSja7O"
   },
   "source": [
    "As you can see, running arbitrary Python code is as simple as using py-strings (`py\"...\"`). Note that py-strings are not part of the Julia language itself: they are defined by the `PyCall` module (we will see how this works later).\n",
    "\n",
    "Unfortunately, Python's `print()` function writes to the standard output, which is not captured by Colab, so we can't see the output of this code. That's okay, we can look at the value of `p`:"
   ]
  },
  {
   "cell_type": "code",
   "execution_count": null,
   "metadata": {
    "colab": {
     "base_uri": "https://localhost:8080/",
     "height": 34
    },
    "colab_type": "code",
    "id": "5z_QlxhJLRJ5",
    "outputId": "46618073-986a-4772-d79f-3a1ed0a5ecdd"
   },
   "outputs": [],
   "source": [
    "py\"p\""
   ]
  },
  {
   "cell_type": "markdown",
   "metadata": {
    "colab_type": "text",
    "id": "jBx7UcHtkMa-"
   },
   "source": [
    "Let's compare this to the value we calculated above using Julia:"
   ]
  },
  {
   "cell_type": "code",
   "execution_count": null,
   "metadata": {
    "colab": {
     "base_uri": "https://localhost:8080/",
     "height": 34
    },
    "colab_type": "code",
    "id": "sKNlJjjSkIo0",
    "outputId": "ecefa6dd-d4b7-4c18-c620-03c8330bdee9"
   },
   "outputs": [],
   "source": [
    "py\"p\" - p"
   ]
  },
  {
   "cell_type": "markdown",
   "metadata": {
    "colab_type": "text",
    "id": "AOzbgPMMksUb"
   },
   "source": [
    "Perfect, they are exactly equal!\n",
    "\n",
    "As you can see, it's very easy to mix Julia and Python code. So if there's a module you really love in Python, you can keep using it as long as you want! For example, let's use NumPy:"
   ]
  },
  {
   "cell_type": "code",
   "execution_count": null,
   "metadata": {
    "colab": {
     "base_uri": "https://localhost:8080/",
     "height": 68
    },
    "colab_type": "code",
    "id": "uXSDig4XrKyS",
    "outputId": "89bfeda2-0967-4135-f91f-0f7ffef85185"
   },
   "outputs": [],
   "source": [
    "np = pyimport(\"numpy\")\n",
    "a = np.random.rand(2, 3)"
   ]
  },
  {
   "cell_type": "markdown",
   "metadata": {
    "colab_type": "text",
    "id": "zPMwgIaeyRBh"
   },
   "source": [
    "Notice that `PyCall` automatically converts some Python types to Julia types, including NumPy arrays. That's really quite convenient! Note that Julia supports multi-dimensional arrays (analog to NumPy arrays) out of the box. `Array{Float64, 2}` means that it's a 2-dimensional array of 64-bit floats.\n",
    "\n",
    "`PyCall` also converts Julia arrays to NumPy arrays when needed:"
   ]
  },
  {
   "cell_type": "code",
   "execution_count": null,
   "metadata": {
    "colab": {
     "base_uri": "https://localhost:8080/",
     "height": 68
    },
    "colab_type": "code",
    "id": "aWAC4wxqrxCb",
    "outputId": "0beae75b-5662-46ab-e6bb-536385cf2673"
   },
   "outputs": [],
   "source": [
    "exp_a = np.exp(a)"
   ]
  },
  {
   "cell_type": "markdown",
   "metadata": {
    "colab_type": "text",
    "id": "gy8gZ8pp3Z0n"
   },
   "source": [
    "If you want to use some Julia variable in a py-string, for example `exp_a`, you can do so by writing `$exp_a` like this:"
   ]
  },
  {
   "cell_type": "code",
   "execution_count": null,
   "metadata": {
    "colab": {
     "base_uri": "https://localhost:8080/",
     "height": 68
    },
    "colab_type": "code",
    "id": "dxQ25HpJ3oPA",
    "outputId": "d070c2f6-79e4-4038-d57e-258ae9e4df31"
   },
   "outputs": [],
   "source": [
    "py\"\"\"\n",
    "import numpy as np\n",
    "\n",
    "result = np.log($exp_a)\n",
    "\"\"\"\n",
    "\n",
    "py\"result\""
   ]
  },
  {
   "cell_type": "markdown",
   "metadata": {
    "colab_type": "text",
    "id": "jtxk8kebxFdM"
   },
   "source": [
    "If you want to keep using Matplotlib, it's best to use the `PyPlot` module (which we installed earlier), rather than trying to use `pyimport(\"matplotlib\")`, as `PyPlot` provides a more straightforward interface with Julia, and it plays nicely with Jupyter and Colab:"
   ]
  },
  {
   "cell_type": "code",
   "execution_count": null,
   "metadata": {
    "colab": {
     "base_uri": "https://localhost:8080/",
     "height": 452
    },
    "colab_type": "code",
    "id": "gyHkEL7ExPg2",
    "outputId": "287dd216-9def-4d88-c2e0-51feff07cc8c"
   },
   "outputs": [],
   "source": [
    "using PyPlot\n",
    "\n",
    "x = range(-5π, 5π, length=100)\n",
    "plt.plot(x, sin.(x) ./ x) # we'll discuss this syntax in the next section\n",
    "plt.title(\"sin(x) / x\")\n",
    "plt.grid(\"True\")\n",
    "plt.show()"
   ]
  },
  {
   "cell_type": "markdown",
   "metadata": {
    "colab_type": "text",
    "id": "b42BIiqN6JM_"
   },
   "source": [
    "That said, Julia has its own plotting libraries, such as the `Plots` library, which you may want to check out."
   ]
  },
  {
   "cell_type": "markdown",
   "metadata": {
    "colab_type": "text",
    "id": "FGStdgNK9IG1"
   },
   "source": [
    "As you can see, Julia's `range()` function acts much like NumPy's `linspace()` function, when you use the `length` argument. However, it acts like Python's `range()` function when you use the `step` argument instead (except the upper bound is inclusive). Julia's `range()` function returns an object which behaves just like an array, except it doesn't actually use any RAM for its elements, it just stores the range parameters. If you want to collect all of the elements into an array, use the `collect()` function (similar to Python's `list()` function):"
   ]
  },
  {
   "cell_type": "code",
   "execution_count": null,
   "metadata": {
    "colab": {
     "base_uri": "https://localhost:8080/",
     "height": 85
    },
    "colab_type": "code",
    "id": "h728H-f9-rC_",
    "outputId": "02824cb3-cc75-4e42-ae50-c9743464e336"
   },
   "outputs": [],
   "source": [
    "println(collect(range(10, 80, step=20)))\n",
    "println(collect(10:20:80)) # 10:20:80 is equivalent to the previous range\n",
    "println(collect(range(10, 80, length=5))) # similar to NumPy's linspace()\n",
    "step = (80-10)/(5-1) # 17.5\n",
    "println(collect(10:step:80)) # equivalent to the previous range"
   ]
  },
  {
   "cell_type": "markdown",
   "metadata": {
    "colab_type": "text",
    "id": "gAU4t9zl72PW"
   },
   "source": [
    "The equivalent Python code is:\n",
    "\n",
    "```python\n",
    "# PYTHON\n",
    "print(list(range(10, 80+1, 20)))\n",
    "# there's no short-hand for range() in Python\n",
    "print(np.linspace(10, 80, 5))\n",
    "step = (80-10)/(5-1) # 17.5\n",
    "print([i*step + 10 for i in range(5)])\n",
    "```"
   ]
  },
  {
   "cell_type": "markdown",
   "metadata": {
    "colab_type": "text",
    "id": "ucA1zMkw-n_U"
   },
   "source": [
    "|Julia|Python\n",
    "|-----|------\n",
    "|`np = pyimport(\"numpy\")` | `import numpy as np`\n",
    "|`using PyPlot` | `from pylab import *`\n",
    "|`1:10` | `range(1, 11)`\n",
    "|`1:2:10`<br />or<br />`range(1, 11, 2)` | `range(1, 11, 2)`\n",
    "|`1.2:0.5:10.3`<br />or<br />`range(1.2, 10.3, step=0.5)` | `np.arange(1.2, 10.3, 0.5)`\n",
    "|`range(1, 10, length=3)` | `np.linspace(1, 10, 3)`\n",
    "|`collect(1:5)`<br />or<br />`[i for i in 1:5]` | `list(range(1, 6))`<br />or<br />`[i for i in range(1, 6)]`\n",
    "\n"
   ]
  },
  {
   "cell_type": "markdown",
   "metadata": {
    "colab_type": "text",
    "id": "1iiE76xA8pwr"
   },
   "source": [
    "## Loop Fusion\n",
    "Did you notice that we wrote `sin.(x) ./ x` (not `sin(x) / x`)? This is equivalent to `[sin(i) / i for i in x]`."
   ]
  },
  {
   "cell_type": "code",
   "execution_count": null,
   "metadata": {
    "colab": {},
    "colab_type": "code",
    "id": "kjXg63Hmd2ux"
   },
   "outputs": [],
   "source": [
    "a = sin.(x) ./ x\n",
    "b = [sin(i) / i for i in x]\n",
    "@assert a == b"
   ]
  },
  {
   "cell_type": "markdown",
   "metadata": {
    "colab_type": "text",
    "id": "wX26wG02d1KI"
   },
   "source": [
    " This is not just syntactic sugar: it's actually a very powerful Julia feature. Indeed, notice that the array only gets traversed once. Even if we chained more than two dotted operations, the array would still only get traversed once. This is called _loop fusion_.\n",
    "\n",
    "In contrast, when using NumPy arrays, `sin(x) / x` first computes a temporary array containing `sin(x)` and then it computes the final array. Two loops and two arrays instead of one. NumPy is implemented in C, and has been heavily optimized, but if you chain many operations, it still ends up being slower and using more RAM than Julia.\n",
    "\n",
    "However, all the extra dots can sometimes make the code a bit harder to read. To avoid that, you can write `@.` before an expression: every operation will be \"dotted\" automatically, like this:"
   ]
  },
  {
   "cell_type": "code",
   "execution_count": null,
   "metadata": {
    "colab": {},
    "colab_type": "code",
    "id": "raOw65bd-Qeg"
   },
   "outputs": [],
   "source": [
    "a = @. sin(x) / x\n",
    "b = sin.(x) ./ x\n",
    "@assert a == b"
   ]
  },
  {
   "cell_type": "markdown",
   "metadata": {
    "colab_type": "text",
    "id": "6ys5cFYaogb2"
   },
   "source": [
    "**Note**: Julia's `@assert` statement starts with an `@` sign, just like `@.`, which means that they are macros. In Julia, macros are very powerful metaprogramming tools: a macro is evaluated at parse time, and it can inspect the expression that follows it and then transform it, or even replace it. In practice, you will often _use_ macros, but you will rarely _define_ your own. I'll come back to macros later."
   ]
  },
  {
   "cell_type": "markdown",
   "metadata": {
    "colab_type": "text",
    "id": "MQ1U3aAwk5iD"
   },
   "source": [
    "## Julia is fast!\n",
    "Let's compare the Julia and Python implementations of the `estimate_pi()` function:"
   ]
  },
  {
   "cell_type": "code",
   "execution_count": null,
   "metadata": {
    "colab": {
     "base_uri": "https://localhost:8080/",
     "height": 34
    },
    "colab_type": "code",
    "id": "pXQbFKYgk9gG",
    "outputId": "b521e868-9777-400c-c4cf-38630d39a6f2"
   },
   "outputs": [],
   "source": [
    "@time estimate_pi(100_000_000);"
   ]
  },
  {
   "cell_type": "markdown",
   "metadata": {
    "colab_type": "text",
    "id": "2B7Vu5lepqOW"
   },
   "source": [
    "To get a more precise benchmark, it's preferable to use the `BenchmarkTools` module. Just like Python's `timeit` module, it provides tools to benchmark code by running it multiple times. This provides a better estimate of how long each call takes:"
   ]
  },
  {
   "cell_type": "code",
   "execution_count": null,
   "metadata": {
    "colab": {
     "base_uri": "https://localhost:8080/",
     "height": 204
    },
    "colab_type": "code",
    "id": "xK4b8X_cppNQ",
    "outputId": "4ba10572-5945-4211-b85b-77c28cdc3a09"
   },
   "outputs": [],
   "source": [
    "using BenchmarkTools\n",
    "\n",
    "@benchmark estimate_pi(100_000_000)"
   ]
  },
  {
   "cell_type": "markdown",
   "metadata": {
    "colab_type": "text",
    "id": "xHsab0EkqObG"
   },
   "source": [
    "If this output is too verbose for you, simply use `@btime` instead:"
   ]
  },
  {
   "cell_type": "code",
   "execution_count": null,
   "metadata": {
    "colab": {
     "base_uri": "https://localhost:8080/",
     "height": 51
    },
    "colab_type": "code",
    "id": "FqbViO67qN6E",
    "outputId": "73b472ec-78ce-4b46-87e5-a1f6384e86cf"
   },
   "outputs": [],
   "source": [
    "@btime estimate_pi(100_000_000)"
   ]
  },
  {
   "cell_type": "markdown",
   "metadata": {
    "colab_type": "text",
    "id": "JOEUCAn6qghC"
   },
   "source": [
    "Now let's time the Python version. Since the call is so slow, we just run it once (it will take about 15 seconds):"
   ]
  },
  {
   "cell_type": "code",
   "execution_count": null,
   "metadata": {
    "colab": {
     "base_uri": "https://localhost:8080/",
     "height": 34
    },
    "colab_type": "code",
    "id": "6dk8QgRL0mzd",
    "outputId": "3d064fe9-9fdf-4477-dd1c-e781cb9dfa6d"
   },
   "outputs": [],
   "source": [
    "py\"\"\"\n",
    "from timeit import timeit\n",
    "\n",
    "duration = timeit(\"estimate_pi(100_000_000)\", number=1, globals=globals())\n",
    "\"\"\"\n",
    "\n",
    "py\"duration\""
   ]
  },
  {
   "cell_type": "markdown",
   "metadata": {
    "colab_type": "text",
    "id": "Jqtx4_erlxky"
   },
   "source": [
    "It looks like Julia is close to 100 times faster than Python in this case! To be fair, `PyCall` does add some overhead, but even if you run this code in a separate Python shell, you will see that Julia crushes (pure) Python when it comes to speed."
   ]
  },
  {
   "cell_type": "markdown",
   "metadata": {
    "colab_type": "text",
    "id": "hiVDodlPmzoP"
   },
   "source": [
    "So why is Julia so much faster than Python? Well, **Julia compiles the code on the fly as it runs it**."
   ]
  },
  {
   "cell_type": "markdown",
   "metadata": {
    "colab_type": "text",
    "id": "w-HSoqJ8ts7P"
   },
   "source": [
    "Okay, let's summarize what we learned so far: Julia is a dynamic language that looks and feels a lot like Python, you can even execute Python code super easily, and pure Julia code runs much faster than pure Python code, because it is compiled on the fly. I hope this convinces you to read on!\n",
    "\n",
    "Next, let's continue to see how Python's main constructs can be implemented in Julia."
   ]
  }
 ],
 "metadata": {
  "kernelspec": {
   "display_name": "Julia 1.4.1",
   "language": "julia",
   "name": "julia-1.4"
  },
  "language_info": {
   "file_extension": ".jl",
   "mimetype": "application/julia",
   "name": "julia",
   "version": "1.4.1"
  },
  "toc-showcode": false,
  "toc-showmarkdowntxt": false
 },
 "nbformat": 4,
 "nbformat_minor": 4
}
