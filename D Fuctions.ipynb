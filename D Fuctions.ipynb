{
 "cells": [
  {
   "cell_type": "markdown",
   "metadata": {
    "colab_type": "text",
    "id": "jKpjTHMbao6r"
   },
   "source": [
    "# Functions"
   ]
  },
  {
   "cell_type": "markdown",
   "metadata": {
    "colab_type": "text",
    "id": "k-IIQF4vP7w9"
   },
   "source": [
    "## Arguments\n",
    "Julia functions supports positional arguments and default values:"
   ]
  },
  {
   "cell_type": "code",
   "execution_count": 1,
   "metadata": {
    "colab": {
     "base_uri": "https://localhost:8080/",
     "height": 34
    },
    "colab_type": "code",
    "id": "BnVg7UKNQQ4M",
    "outputId": "d67de002-08f7-494b-d9d3-0673fdda524d"
   },
   "outputs": [
    {
     "name": "stdout",
     "output_type": "stream",
     "text": [
      "x=10, y=20, width=30, height=4\n"
     ]
    }
   ],
   "source": [
    "function draw_face(x, y, width=3, height=4)\n",
    "    println(\"x=$x, y=$y, width=$width, height=$height\")\n",
    "end\n",
    "\n",
    "draw_face(10, 20, 30)"
   ]
  },
  {
   "cell_type": "markdown",
   "metadata": {
    "colab_type": "text",
    "id": "AmKSe9fYRMxb"
   },
   "source": [
    "However, unlike in Python, positional arguments must not be named when the function is called:"
   ]
  },
  {
   "cell_type": "code",
   "execution_count": 2,
   "metadata": {
    "colab": {
     "base_uri": "https://localhost:8080/",
     "height": 34
    },
    "colab_type": "code",
    "id": "fB1flNxMRAo4",
    "outputId": "f21970ce-232b-47ed-cfb5-6528728ca6ef"
   },
   "outputs": [
    {
     "data": {
      "text/plain": [
       "MethodError(var\"#draw_face##kw\"(), ((width = 30,), draw_face, 10, 20), 0x0000000000006a0e)"
      ]
     },
     "execution_count": 2,
     "metadata": {},
     "output_type": "execute_result"
    }
   ],
   "source": [
    "try\n",
    "    draw_face(10, 20, width=30)\n",
    "catch ex\n",
    "    ex\n",
    "end"
   ]
  },
  {
   "cell_type": "markdown",
   "metadata": {
    "colab_type": "text",
    "id": "yBQOd8H6RUJs"
   },
   "source": [
    "Julia also supports a variable number of arguments (called \"varargs\") using the syntax `arg...`, which is the equivalent of Python's `*arg`:"
   ]
  },
  {
   "cell_type": "code",
   "execution_count": 3,
   "metadata": {
    "colab": {
     "base_uri": "https://localhost:8080/",
     "height": 34
    },
    "colab_type": "code",
    "id": "OS1U6AxeRYyb",
    "outputId": "67b7a86f-2498-487e-c204-944a0d7dfab0"
   },
   "outputs": [
    {
     "name": "stdout",
     "output_type": "stream",
     "text": [
      "target_dir=/tmp, paths=(\"a.txt\", \"b.txt\")\n"
     ]
    }
   ],
   "source": [
    "function copy_files(target_dir, paths...)\n",
    "    println(\"target_dir=$target_dir, paths=$paths\")\n",
    "end\n",
    "\n",
    "copy_files(\"/tmp\", \"a.txt\", \"b.txt\")"
   ]
  },
  {
   "cell_type": "markdown",
   "metadata": {
    "colab_type": "text",
    "id": "x8lJsP6wQujj"
   },
   "source": [
    "Keyword arguments are supported, after a semicolon `;`:"
   ]
  },
  {
   "cell_type": "code",
   "execution_count": 4,
   "metadata": {
    "colab": {
     "base_uri": "https://localhost:8080/",
     "height": 34
    },
    "colab_type": "code",
    "id": "R4XDHjftQwel",
    "outputId": "e975114d-f9c5-47d5-945d-5208563209ce"
   },
   "outputs": [
    {
     "name": "stdout",
     "output_type": "stream",
     "text": [
      "paths=(\"a.txt\", \"b.txt\"), confirm=false, /tmp\n"
     ]
    }
   ],
   "source": [
    "function copy_files2(paths...; confirm=false, target_dir)\n",
    "    println(\"paths=$paths, confirm=$confirm, $target_dir\")\n",
    "end\n",
    "\n",
    "copy_files2(\"a.txt\", \"b.txt\"; target_dir=\"/tmp\")"
   ]
  },
  {
   "cell_type": "markdown",
   "metadata": {
    "colab_type": "text",
    "id": "katU7ZypHZdc"
   },
   "source": [
    "Notes:\n",
    "* `target_dir` has no default value, so it is a required argument.\n",
    "* The order of the keyword arguments does not matter."
   ]
  },
  {
   "cell_type": "markdown",
   "metadata": {
    "colab_type": "text",
    "id": "c24CyL7PGE35"
   },
   "source": [
    "You can have another vararg in the keyword section. It corresponds to Python's `**kwargs`:"
   ]
  },
  {
   "cell_type": "code",
   "execution_count": 5,
   "metadata": {
    "colab": {
     "base_uri": "https://localhost:8080/",
     "height": 51
    },
    "colab_type": "code",
    "id": "m-u29GPoGP8l",
    "outputId": "e88ae578-c1bc-44bd-bdb6-6dddae845621"
   },
   "outputs": [
    {
     "name": "stdout",
     "output_type": "stream",
     "text": [
      "paths=(\"a.txt\", \"b.txt\"), confirm=false, /tmp\n",
      "verbose=true\n"
     ]
    }
   ],
   "source": [
    "function copy_files3(paths...; confirm=false, target_dir, options...)\n",
    "    println(\"paths=$paths, confirm=$confirm, $target_dir\")\n",
    "    verbose = options[:verbose]\n",
    "    println(\"verbose=$verbose\")\n",
    "end\n",
    "\n",
    "copy_files3(\"a.txt\", \"b.txt\"; target_dir=\"/tmp\", verbose=true, timeout=60)"
   ]
  },
  {
   "cell_type": "markdown",
   "metadata": {
    "colab_type": "text",
    "id": "UpbuZ0RYGsC2"
   },
   "source": [
    "The `options` vararg acts like a dictionary (we will discuss dictionaries later). The keys are **symbols**, e.g., `:verbose`. Symbols are like strings, less flexible but faster. They are typically used as keys or identifiers.\n",
    "\n",
    "|Julia|Python (3.8+ if `/` is used)\n",
    "|-----|------\n",
    "| `function foo(a, b=2, c=3)`<br />&nbsp;&nbsp;&nbsp;&nbsp;`...`<br />`end`<br /><br />`foo(1, 2) # positional only` | `def foo(a, b=2, c=3, /):`<br />&nbsp;&nbsp;&nbsp;&nbsp;`...`<br /><br />`foo(1, 2) # pos only because of /`\n",
    "| `function foo(;a=1, b, c=3)`<br />&nbsp;&nbsp;&nbsp;&nbsp;`...`<br />`end`<br /><br />`foo(c=30, b=2) # keyword only` | `def foo(*, a=1, b, c=3):`<br />&nbsp;&nbsp;&nbsp;&nbsp;`...`<br /><br />`foo(c=30, b=2) # kw only because of *`\n",
    "| `function foo(a, b=2; c=3, d)`<br />&nbsp;&nbsp;&nbsp;&nbsp;`...`<br />`end`<br /><br />`foo(1; d=4) # pos only; then keyword only` | `def foo(a, b=2, /, *, c=3, d):`<br />&nbsp;&nbsp;&nbsp;&nbsp;`...`<br /><br />`foo(1, d=4) # pos only then kw only`\n",
    "| `function foo(a, b=2, c...)`<br />&nbsp;&nbsp;&nbsp;&nbsp;`...`<br />`end`<br /><br />`foo(1, 2, 3, 4) # positional only` | `def foo(a, b=2, /, *c):`<br />&nbsp;&nbsp;&nbsp;&nbsp;`...`<br /><br />`foo(1, 2, 3, 4) # positional only`\n",
    "| `function foo(a, b=1, c...; d=1, e, f...)`<br />&nbsp;&nbsp;&nbsp;&nbsp;`...`<br />`end`<br /><br />`foo(1, 2, 3, 4, e=5, x=10, y=20)`<br /> | `def foo(a, b=1, /, *c, d=1, e, **f):`<br />&nbsp;&nbsp;&nbsp;&nbsp;`...`<br /><br />`foo(1, 2, 3, 4, e=5, x=10, y=20)`\n"
   ]
  },
  {
   "cell_type": "markdown",
   "metadata": {
    "colab_type": "text",
    "id": "JQsdtaYXDoNm"
   },
   "source": [
    "## Concise Functions\n",
    "\n",
    "In Julia, the following definition:"
   ]
  },
  {
   "cell_type": "code",
   "execution_count": 6,
   "metadata": {
    "colab": {
     "base_uri": "https://localhost:8080/",
     "height": 34
    },
    "colab_type": "code",
    "id": "PnB4hMDIkd_4",
    "outputId": "82921ec2-4bf4-4565-c811-bb6d72f7b02a"
   },
   "outputs": [
    {
     "data": {
      "text/plain": [
       "square (generic function with 1 method)"
      ]
     },
     "execution_count": 6,
     "metadata": {},
     "output_type": "execute_result"
    }
   ],
   "source": [
    "square(x) = x^2"
   ]
  },
  {
   "cell_type": "markdown",
   "metadata": {
    "colab_type": "text",
    "id": "iXKsRqZUkk9O"
   },
   "source": [
    "is equivalent to:"
   ]
  },
  {
   "cell_type": "code",
   "execution_count": 7,
   "metadata": {
    "colab": {
     "base_uri": "https://localhost:8080/",
     "height": 34
    },
    "colab_type": "code",
    "id": "iaDlQ7Mzkong",
    "outputId": "8342d9fe-ad7f-4fae-bf76-f8196e229e79"
   },
   "outputs": [
    {
     "data": {
      "text/plain": [
       "square (generic function with 1 method)"
      ]
     },
     "execution_count": 7,
     "metadata": {},
     "output_type": "execute_result"
    }
   ],
   "source": [
    "function square(x)\n",
    "    x^2\n",
    "end"
   ]
  },
  {
   "cell_type": "markdown",
   "metadata": {
    "colab_type": "text",
    "id": "Fjt5CFRfktfK"
   },
   "source": [
    "For example, here's a shorter way to define the `estimate_pi()` function in Julia:"
   ]
  },
  {
   "cell_type": "code",
   "execution_count": 8,
   "metadata": {
    "colab": {
     "base_uri": "https://localhost:8080/",
     "height": 34
    },
    "colab_type": "code",
    "id": "1_D5M-EFDymm",
    "outputId": "a8ff42f8-8093-4aa9-efd0-6766a3ca1d73"
   },
   "outputs": [
    {
     "data": {
      "text/plain": [
       "estimate_pi3 (generic function with 1 method)"
      ]
     },
     "execution_count": 8,
     "metadata": {},
     "output_type": "execute_result"
    }
   ],
   "source": [
    "estimate_pi3(n) = 4 * sum((isodd(i) ? -1 : 1)/(2i+1) for i in 0:n)"
   ]
  },
  {
   "cell_type": "markdown",
   "metadata": {
    "colab_type": "text",
    "id": "ZGDMqjmBls35"
   },
   "source": [
    "To define a function on one line in Python, you need to use a `lambda` (but this is generally frowned upon, since the resulting function's name is `\"<lambda>\"`):\n",
    "\n",
    "```python\n",
    "# PYTHON\n",
    "square = lambda x: x**2\n",
    "assert square.__name__ == \"<lambda>\"\n",
    "```"
   ]
  },
  {
   "cell_type": "markdown",
   "metadata": {
    "colab_type": "text",
    "id": "pyLBXz8llVhu"
   },
   "source": [
    "This leads us to anonymous functions."
   ]
  },
  {
   "cell_type": "markdown",
   "metadata": {
    "colab_type": "text",
    "id": "UV29B5anEAFF"
   },
   "source": [
    "## Anonymous Functions\n",
    "Just like in Python, you can define anonymous functions:"
   ]
  },
  {
   "cell_type": "code",
   "execution_count": 9,
   "metadata": {
    "colab": {
     "base_uri": "https://localhost:8080/",
     "height": 102
    },
    "colab_type": "code",
    "id": "VAH0e6BjEJB2",
    "outputId": "289caecc-cdf7-4680-d5c4-f409a758b410"
   },
   "outputs": [
    {
     "data": {
      "text/plain": [
       "4-element Array{Int64,1}:\n",
       "  1\n",
       "  4\n",
       "  9\n",
       " 16"
      ]
     },
     "execution_count": 9,
     "metadata": {},
     "output_type": "execute_result"
    }
   ],
   "source": [
    "map(x -> x^2, 1:4)"
   ]
  },
  {
   "cell_type": "markdown",
   "metadata": {
    "colab_type": "text",
    "id": "RLy4-8trawqM"
   },
   "source": [
    "Here is the equivalent Python code:\n",
    "\n",
    "```python\n",
    "list(map(lambda x: x**2, range(1, 5)))\n",
    "```\n",
    "\n",
    "Notes:\n",
    "* `map()` returns an array in Julia, instead of an iterator like in Python.\n",
    "* You could use a comprehension instead: `[x^2 for x in 1:4]`."
   ]
  },
  {
   "cell_type": "markdown",
   "metadata": {
    "colab_type": "text",
    "id": "7RcghJ-EEUjz"
   },
   "source": [
    "\n",
    "|Julia|Python\n",
    "|-----|------\n",
    "|`x -> x^2` | `lambda x: x**2`\n",
    "|`(x,y) -> x + y` | `lambda x,y: x + y `\n",
    "|`() -> println(\"yes\")` | `lambda: print(\"yes\")`\n"
   ]
  },
  {
   "cell_type": "markdown",
   "metadata": {
    "colab_type": "text",
    "id": "jSYEdqYvF6XH"
   },
   "source": [
    "In Python, lambda functions must be simple expressions. They cannot contain multiple statements. In Julia, they can be as long as you want. Indeed, you can create a multi-statement block using the syntax `(stmt_1; stmt_2; ...; stmt_n)`. The return value is the output of the last statement. For example:"
   ]
  },
  {
   "cell_type": "code",
   "execution_count": 10,
   "metadata": {
    "colab": {
     "base_uri": "https://localhost:8080/",
     "height": 170
    },
    "colab_type": "code",
    "id": "SnuJMFymEbPp",
    "outputId": "68dfd87e-df57-487e-d7bd-05c31957261d"
   },
   "outputs": [
    {
     "name": "stdout",
     "output_type": "stream",
     "text": [
      "Number 1\n",
      "Number 2\n",
      "Number 3\n",
      "Number 4\n"
     ]
    },
    {
     "data": {
      "text/plain": [
       "4-element Array{Int64,1}:\n",
       "  1\n",
       "  4\n",
       "  9\n",
       " 16"
      ]
     },
     "execution_count": 10,
     "metadata": {},
     "output_type": "execute_result"
    }
   ],
   "source": [
    "map(x -> (println(\"Number $x\"); x^2), 1:4)"
   ]
  },
  {
   "cell_type": "markdown",
   "metadata": {
    "colab_type": "text",
    "id": "k1ztQt-VGz7p"
   },
   "source": [
    "This syntax can span multiple lines:"
   ]
  },
  {
   "cell_type": "code",
   "execution_count": 11,
   "metadata": {
    "colab": {
     "base_uri": "https://localhost:8080/",
     "height": 170
    },
    "colab_type": "code",
    "id": "H-XL-nysG67t",
    "outputId": "08670eb2-1d50-49c3-ec55-a68e54ca697d"
   },
   "outputs": [
    {
     "name": "stdout",
     "output_type": "stream",
     "text": [
      "Number 1\n",
      "Number 2\n",
      "Number 3\n",
      "Number 4\n"
     ]
    },
    {
     "data": {
      "text/plain": [
       "4-element Array{Int64,1}:\n",
       "  1\n",
       "  4\n",
       "  9\n",
       " 16"
      ]
     },
     "execution_count": 11,
     "metadata": {},
     "output_type": "execute_result"
    }
   ],
   "source": [
    "map(x -> (\n",
    "  println(\"Number $x\");\n",
    "  x^2), 1:4)"
   ]
  },
  {
   "cell_type": "markdown",
   "metadata": {
    "colab_type": "text",
    "id": "YZUU9OLdHEUX"
   },
   "source": [
    "But in this case, it's probably clearer to use the `begin ... end` syntax instead:"
   ]
  },
  {
   "cell_type": "code",
   "execution_count": 12,
   "metadata": {
    "colab": {
     "base_uri": "https://localhost:8080/",
     "height": 170
    },
    "colab_type": "code",
    "id": "t3LUgpigHJ3Z",
    "outputId": "35e01573-bbcb-4ed0-b755-1d026a7a9f7f"
   },
   "outputs": [
    {
     "name": "stdout",
     "output_type": "stream",
     "text": [
      "Number 1\n",
      "Number 2\n",
      "Number 3\n",
      "Number 4\n"
     ]
    },
    {
     "data": {
      "text/plain": [
       "4-element Array{Int64,1}:\n",
       "  1\n",
       "  4\n",
       "  9\n",
       " 16"
      ]
     },
     "execution_count": 12,
     "metadata": {},
     "output_type": "execute_result"
    }
   ],
   "source": [
    "map(x -> begin\n",
    "        println(\"Number $x\")\n",
    "        x^2\n",
    "    end, 1:4)"
   ]
  },
  {
   "cell_type": "markdown",
   "metadata": {
    "colab_type": "text",
    "id": "FQ5nX-AHIYUr"
   },
   "source": [
    "Notice that this syntax allows you to drop the semicolons `;` at the end of each line in the block.\n",
    "\n",
    "Yet another way to define an anonymous function is using the `function (args) ... end` syntax:"
   ]
  },
  {
   "cell_type": "code",
   "execution_count": 13,
   "metadata": {
    "colab": {
     "base_uri": "https://localhost:8080/",
     "height": 170
    },
    "colab_type": "code",
    "id": "vKAR1ucxIQzF",
    "outputId": "c6079a41-efe3-437d-fb99-51f1a605e205"
   },
   "outputs": [
    {
     "name": "stdout",
     "output_type": "stream",
     "text": [
      "Number 1\n",
      "Number 2\n",
      "Number 3\n",
      "Number 4\n"
     ]
    },
    {
     "data": {
      "text/plain": [
       "4-element Array{Int64,1}:\n",
       "  1\n",
       "  4\n",
       "  9\n",
       " 16"
      ]
     },
     "execution_count": 13,
     "metadata": {},
     "output_type": "execute_result"
    }
   ],
   "source": [
    "map(function (x)\n",
    "        println(\"Number $x\")\n",
    "        x^2\n",
    "    end, 1:4)"
   ]
  },
  {
   "cell_type": "markdown",
   "metadata": {
    "colab_type": "text",
    "id": "SGBwAWJ7HQ78"
   },
   "source": [
    "Lastly, if you're passing the anonymous function as the first argument to a function (as is the case in this example), it's usually much preferable to define the anonymous function immediately after the function call, using the `do` syntax, like this:"
   ]
  },
  {
   "cell_type": "code",
   "execution_count": 14,
   "metadata": {
    "colab": {
     "base_uri": "https://localhost:8080/",
     "height": 170
    },
    "colab_type": "code",
    "id": "G60xP30UHW5F",
    "outputId": "2cae809c-a27b-4c6f-a384-b4dc4fea2539"
   },
   "outputs": [
    {
     "name": "stdout",
     "output_type": "stream",
     "text": [
      "Number 1\n",
      "Number 2\n",
      "Number 3\n",
      "Number 4\n"
     ]
    },
    {
     "data": {
      "text/plain": [
       "4-element Array{Int64,1}:\n",
       "  1\n",
       "  4\n",
       "  9\n",
       " 16"
      ]
     },
     "execution_count": 14,
     "metadata": {},
     "output_type": "execute_result"
    }
   ],
   "source": [
    "map(1:4) do x\n",
    "  println(\"Number $x\")\n",
    "  x^2\n",
    "end"
   ]
  },
  {
   "cell_type": "markdown",
   "metadata": {
    "colab_type": "text",
    "id": "vtsXFsLTJTpD"
   },
   "source": [
    "This syntax lets you easily define constructs that feel like language extensions:"
   ]
  },
  {
   "cell_type": "code",
   "execution_count": 15,
   "metadata": {
    "colab": {
     "base_uri": "https://localhost:8080/",
     "height": 85
    },
    "colab_type": "code",
    "id": "03Hru6aqIIgY",
    "outputId": "ef9e2921-bac2-41c3-efa7-a3fda567100f"
   },
   "outputs": [
    {
     "name": "stdout",
     "output_type": "stream",
     "text": [
      "The square of 1 is 1\n",
      "The square of 2 is 4\n",
      "The square of 3 is 9\n",
      "The square of 4 is 16\n"
     ]
    }
   ],
   "source": [
    "function my_for(func, collection)\n",
    "    for i in collection\n",
    "        func(i)\n",
    "    end\n",
    "end\n",
    "\n",
    "my_for(1:4) do i\n",
    "    println(\"The square of $i is $(i^2)\")\n",
    "end"
   ]
  },
  {
   "cell_type": "markdown",
   "metadata": {
    "colab_type": "text",
    "id": "tFWXrW9z9q8f"
   },
   "source": [
    "In fact, Julia has a similar `foreach()` function."
   ]
  },
  {
   "cell_type": "markdown",
   "metadata": {
    "colab_type": "text",
    "id": "XXuNr-9iZJf4"
   },
   "source": [
    "The `do` syntax could be used to write a Domain Specific Language (DSL), for example an infrastructure automation DSL:"
   ]
  },
  {
   "cell_type": "code",
   "execution_count": 16,
   "metadata": {
    "colab": {
     "base_uri": "https://localhost:8080/",
     "height": 68
    },
    "colab_type": "code",
    "id": "sF1f2HsCZKoT",
    "outputId": "5eea1b83-4685-41c1-fd3f-8444ddd5c927"
   },
   "outputs": [
    {
     "name": "stdout",
     "output_type": "stream",
     "text": [
      "Starting web server\n",
      "Configuring server 1234...\n",
      "Creating HTML pages on server 1234...\n"
     ]
    }
   ],
   "source": [
    "function spawn_server(startup_func, server_type)\n",
    "    println(\"Starting $server_type server\")\n",
    "    server_id = 1234\n",
    "    println(\"Configuring server $server_id...\")\n",
    "    startup_func(server_id)\n",
    "end\n",
    "\n",
    "# This is the DSL part\n",
    "spawn_server(\"web\") do server_id\n",
    "    println(\"Creating HTML pages on server $server_id...\")\n",
    "end"
   ]
  },
  {
   "cell_type": "markdown",
   "metadata": {
    "colab_type": "text",
    "id": "9jRtJFU82wEO"
   },
   "source": [
    "It's also quite nice for event-driven code:"
   ]
  },
  {
   "cell_type": "code",
   "execution_count": 17,
   "metadata": {
    "colab": {
     "base_uri": "https://localhost:8080/",
     "height": 85
    },
    "colab_type": "code",
    "id": "lU-neWob2_As",
    "outputId": "fc63bf04-c752-48f0-c836-4bcebc4df21a"
   },
   "outputs": [
    {
     "name": "stdout",
     "output_type": "stream",
     "text": [
      "Mouse clicked at (x = 50, y = 20)\n",
      "Beep.\n"
     ]
    },
    {
     "data": {
      "text/plain": [
       "2-element Array{Any,1}:\n",
       " var\"#25#26\"()\n",
       " var\"#27#28\"()"
      ]
     },
     "execution_count": 17,
     "metadata": {},
     "output_type": "execute_result"
    }
   ],
   "source": [
    "handlers = []\n",
    "\n",
    "on_click(handler) = push!(handlers, handler)\n",
    "\n",
    "click(event) = foreach(handler->handler(event), handlers)\n",
    "\n",
    "on_click() do event\n",
    "    println(\"Mouse clicked at $event\")\n",
    "end\n",
    "\n",
    "on_click() do event\n",
    "    println(\"Beep.\")\n",
    "end\n",
    "\n",
    "click((x=50, y=20))\n",
    "# click((x=120, y=10))\n",
    "handlers\n"
   ]
  },
  {
   "cell_type": "markdown",
   "metadata": {
    "colab_type": "text",
    "id": "VclQwKNzajfP"
   },
   "source": [
    "It can also be used to create context managers, for example to automatically close an object after it has been used, even if an exception is raised:"
   ]
  },
  {
   "cell_type": "code",
   "execution_count": 18,
   "metadata": {
    "colab": {
     "base_uri": "https://localhost:8080/",
     "height": 68
    },
    "colab_type": "code",
    "id": "_fCFbtHJarew",
    "outputId": "a3ac7bc7-d301-474d-dd6f-3b89f9f8e881"
   },
   "outputs": [
    {
     "name": "stdout",
     "output_type": "stream",
     "text": [
      "Opening connection to database jobs\n",
      "I'm working with a db object for database jobs\n",
      "Closing connection to database jobs\n"
     ]
    },
    {
     "ename": "ErrorException",
     "evalue": "Oops",
     "output_type": "error",
     "traceback": [
      "Oops",
      "",
      "Stacktrace:",
      " [1] error(::String) at ./error.jl:33",
      " [2] (::var\"#29#30\")(::String) at ./In[18]:13",
      " [3] with_database(::var\"#29#30\", ::String) at ./In[18]:5",
      " [4] top-level scope at In[18]:10"
     ]
    }
   ],
   "source": [
    "function with_database(func, name)\n",
    "    println(\"Opening connection to database $name\")\n",
    "    db = \"a db object for database $name\"\n",
    "    try\n",
    "        func(db)\n",
    "    finally\n",
    "        println(\"Closing connection to database $name\")\n",
    "    end\n",
    "end\n",
    "\n",
    "with_database(\"jobs\") do db\n",
    "    println(\"I'm working with $db\")\n",
    "    error(\"Oops\") # try uncommenting this line\n",
    "end"
   ]
  },
  {
   "cell_type": "markdown",
   "metadata": {
    "colab_type": "text",
    "id": "D17bqrJwbqS5"
   },
   "source": [
    "The equivalent code in Python would look like this:"
   ]
  },
  {
   "cell_type": "markdown",
   "metadata": {
    "colab_type": "text",
    "id": "YmCiwD0Ubslm"
   },
   "source": [
    "```python\n",
    "# PYTHON\n",
    "class Database:\n",
    "    def __init__(self, name):\n",
    "        self.name = name\n",
    "    def __enter__(self):\n",
    "        print(f\"Opening connection to database {self.name}\")\n",
    "        return f\"a db object for database {self.name}\"\n",
    "    def __exit__(self, type, value, traceback):\n",
    "        print(f\"Closing connection to database {self.name}\")\n",
    "\n",
    "with Database(\"jobs\") as db:\n",
    "    print(f\"I'm working with {db}\")\n",
    "    #raise Exception(\"Oops\") # try uncommenting this line\n",
    "```\n",
    "\n",
    "Or you could use `contextlib`:\n",
    "\n",
    "```python\n",
    "from contextlib import contextmanager\n",
    "\n",
    "@contextmanager\n",
    "def database(name):\n",
    "    print(f\"Opening connection to database {name}\")\n",
    "    db = f\"a db object for database {name}\"\n",
    "    try:\n",
    "        yield db\n",
    "    finally:\n",
    "        print(f\"Closing connection to database {name}\")\n",
    "\n",
    "with database(\"jobs\") as db:\n",
    "    print(f\"I'm working with {db}\")\n",
    "    #raise Exception(\"Oops\") # try uncommenting this line\n",
    "```"
   ]
  },
  {
   "cell_type": "markdown",
   "metadata": {
    "colab_type": "text",
    "id": "scEsYrSt2jpA"
   },
   "source": [
    "## Piping\n",
    "If you are used to the Object Oriented syntax `\"a b c\".upper().split()`, you may feel that writing `split(uppercase(\"a b c\"))` is a bit backwards. If so, the piping operation `|>` is for you:"
   ]
  },
  {
   "cell_type": "code",
   "execution_count": 19,
   "metadata": {
    "colab": {
     "base_uri": "https://localhost:8080/",
     "height": 85
    },
    "colab_type": "code",
    "id": "wRrmVEWG24_f",
    "outputId": "3656d9c2-e432-410d-84b5-a1c7bc05d740"
   },
   "outputs": [
    {
     "data": {
      "text/plain": [
       "3-element Array{SubString{String},1}:\n",
       " \"A\"\n",
       " \"B\"\n",
       " \"C\""
      ]
     },
     "execution_count": 19,
     "metadata": {},
     "output_type": "execute_result"
    }
   ],
   "source": [
    "\"a b c\" |> uppercase |> split"
   ]
  },
  {
   "cell_type": "markdown",
   "metadata": {
    "colab_type": "text",
    "id": "c2Y1HRhG4S47"
   },
   "source": [
    "If you want to pass more than one argument to some of the functions, you can use anonymous functions:"
   ]
  },
  {
   "cell_type": "code",
   "execution_count": 20,
   "metadata": {
    "colab": {
     "base_uri": "https://localhost:8080/",
     "height": 34
    },
    "colab_type": "code",
    "id": "IzIFbaLQ4UCO",
    "outputId": "fef6b6c5-2bac-4de6-ffd3-8c6e7ca99312"
   },
   "outputs": [
    {
     "data": {
      "text/plain": [
       "\"A, B, C\""
      ]
     },
     "execution_count": 20,
     "metadata": {},
     "output_type": "execute_result"
    }
   ],
   "source": [
    "\"a b c\" |> uppercase |> split |> tokens->join(tokens, \", \")"
   ]
  },
  {
   "cell_type": "markdown",
   "metadata": {
    "colab_type": "text",
    "id": "GcnKoRyHcGC6"
   },
   "source": [
    "The dotted version of the pipe operator works as you might expect, applying the _i_<sup>th</sup> function of the right array to the _i_<sup>th</sup> value in the left array:"
   ]
  },
  {
   "cell_type": "code",
   "execution_count": 21,
   "metadata": {
    "colab": {
     "base_uri": "https://localhost:8080/",
     "height": 85
    },
    "colab_type": "code",
    "id": "a7LytVDKbL_e",
    "outputId": "05e50ca3-b5c9-44eb-8d58-7d01c5d5896b"
   },
   "outputs": [
    {
     "data": {
      "text/plain": [
       "3-element Array{Real,1}:\n",
       "  1.0\n",
       "  5\n",
       " 16"
      ]
     },
     "execution_count": 21,
     "metadata": {},
     "output_type": "execute_result"
    }
   ],
   "source": [
    "[π/2, \"hello\", 4] .|> [sin, length, x->x^2]"
   ]
  },
  {
   "cell_type": "markdown",
   "metadata": {
    "colab_type": "text",
    "id": "Czk5ZFOn3LDi"
   },
   "source": [
    "## Composition\n",
    "Julia also lets you compose functions like mathematicians do, using the composition operator ∘ (`\\circ<tab>` in the REPL or Jupyter, but not Colab):"
   ]
  },
  {
   "cell_type": "code",
   "execution_count": 22,
   "metadata": {
    "colab": {
     "base_uri": "https://localhost:8080/",
     "height": 34
    },
    "colab_type": "code",
    "id": "iK9UrlF2aU_y",
    "outputId": "ddc70e6c-2631-40e7-bec6-e77079b4cb04"
   },
   "outputs": [
    {
     "data": {
      "text/plain": [
       "true"
      ]
     },
     "execution_count": 22,
     "metadata": {},
     "output_type": "execute_result"
    }
   ],
   "source": [
    "f = exp ∘ sin ∘ sqrt\n",
    "f(2.0) == exp(sin(sqrt(2.0)))"
   ]
  },
  {
   "cell_type": "markdown",
   "metadata": {
    "colab_type": "text",
    "id": "lQJKl9rD-BWj"
   },
   "source": [
    "# Methods\n",
    "Earlier, we discussed structs, which look a lot like Python classes, with instance variables and constructors, but they did not contain any methods (just the inner constructors). In Julia, methods are defined separately, like regular functions:"
   ]
  },
  {
   "cell_type": "code",
   "execution_count": 23,
   "metadata": {
    "colab": {
     "base_uri": "https://localhost:8080/",
     "height": 34
    },
    "colab_type": "code",
    "id": "axvF_XwJ-DJw",
    "outputId": "f98bf5d7-daf6-4584-fa43-6f8a05f35415"
   },
   "outputs": [
    {
     "name": "stdout",
     "output_type": "stream",
     "text": [
      "Hi, my name is Alice, I am 70 years old.\n"
     ]
    }
   ],
   "source": [
    "struct Person\n",
    "    name\n",
    "    age\n",
    "end\n",
    "\n",
    "function greetings(greeter)\n",
    "    println(\"Hi, my name is $(greeter.name), I am $(greeter.age) years old.\")\n",
    "end\n",
    "\n",
    "p = Person(\"Alice\", 70)\n",
    "greetings(p)"
   ]
  },
  {
   "cell_type": "markdown",
   "metadata": {
    "colab_type": "text",
    "id": "ylOha2mhCRgz"
   },
   "source": [
    "Since the `greetings()` method in Julia is not bound to any particular type, we can use it with any other type we want, as long as that type has a `name` and an `age` (i.e., if it quacks like a duck):"
   ]
  },
  {
   "cell_type": "code",
   "execution_count": 24,
   "metadata": {
    "colab": {
     "base_uri": "https://localhost:8080/",
     "height": 34
    },
    "colab_type": "code",
    "id": "vWkQqaEPCgeY",
    "outputId": "343b646f-c841-4e5c-d9ee-3d3acd46360f"
   },
   "outputs": [
    {
     "name": "stdout",
     "output_type": "stream",
     "text": [
      "Hi, my name is Auckland, I am 180 years old.\n"
     ]
    }
   ],
   "source": [
    "struct City\n",
    "    name\n",
    "    country\n",
    "    age\n",
    "end\n",
    "\n",
    "using Dates\n",
    "c = City(\"Auckland\", \"New Zealand\", year(now()) - 1840)\n",
    "\n",
    "greetings(c)"
   ]
  },
  {
   "cell_type": "markdown",
   "metadata": {
    "colab_type": "text",
    "id": "sRI9XAbrLA0t"
   },
   "source": [
    "You could code this the same way in Python if you wanted to:\n",
    "\n",
    "```python\n",
    "# PYTHON\n",
    "class Person:\n",
    "    def __init__(self, name, age):\n",
    "        self.name = name\n",
    "        self.age = age\n",
    "\n",
    "class City:\n",
    "    def __init__(self, name, country, age):\n",
    "        self.name = name\n",
    "        self.country = country\n",
    "        self.age = age\n",
    "\n",
    "def greetings(greeter):\n",
    "    print(f\"Hi there, my name is {greeter.name}, I am {greeter.age} years old.\")\n",
    "\n",
    "p = Person(\"Lucy\", 70)\n",
    "greetings(p)\n",
    " \n",
    "from datetime import date\n",
    "c = City(\"Auckland\", \"New Zealand\", date.today().year - 1840)\n",
    "greetings(c)\n",
    "```"
   ]
  },
  {
   "cell_type": "markdown",
   "metadata": {
    "colab_type": "text",
    "id": "qIcoroYhG5_Y"
   },
   "source": [
    "However, many Python programmers would use inheritance in this case:\n",
    "\n",
    "```python\n",
    "class Greeter:\n",
    "    def __init__(self, name, age):\n",
    "        self.name = name\n",
    "        self.age = age\n",
    "    def greetings(self):\n",
    "        print(f\"Hi there, my name is {self.name}, I am {self.age} years old.\")\n",
    "\n",
    "class Person(Greeter):\n",
    "    def __init__(self, name, age):\n",
    "        super().__init__(name, age)\n",
    "\n",
    "class City(Greeter):\n",
    "    def __init__(self, name, country, age):\n",
    "        super().__init__(name, age)\n",
    "        self.country = country\n",
    "\n",
    "p = Person(\"Lucy\", 70)\n",
    "p.greetings()\n",
    "\n",
    "from datetime import date\n",
    "c = City(\"Auckland\", \"New Zealand\", date.today().year - 1840)\n",
    "c.greetings()\n",
    "```\n"
   ]
  },
  {
   "cell_type": "markdown",
   "metadata": {
    "colab_type": "text",
    "id": "iRNLWOyURGGp"
   },
   "source": [
    "## Extending a Function\n",
    "One nice thing about having a class hierarchy is that you can override methods in subclasses to get specialized behavior for each class. For example, in Python you could override the `greetings()` method like this:\n",
    "\n",
    "```python\n",
    "# PYTHON\n",
    "class Developer(Person):\n",
    "    def __init__(self, name, age, language):\n",
    "        super().__init__(name, age)\n",
    "        self.language = language\n",
    "    def greetings(self):\n",
    "        print(f\"Hi there, my name is {self.name}, I am {self.age} years old.\")\n",
    "        print(f\"My favorite language is {self.language}.\")\n",
    "\n",
    "d = Developer(\"Amy\", 40, \"Julia\")\n",
    "d.greetings()\n",
    "```\n"
   ]
  },
  {
   "cell_type": "markdown",
   "metadata": {
    "colab_type": "text",
    "id": "srgbdxLxSWGG"
   },
   "source": [
    "Notice that the expression `d.greetings()` will call a different method if `d` is a `Person` or a `Developer`. This is called \"polymorphism\": the same method call behaves differently depending on the type of the object. The language chooses which actual method implementation to call, based on the type of `d`: this is called method \"dispatch\". More specifically, since it only depends on a single variable, it is called \"single dispatch\".\n",
    "\n",
    "The good news is that Julia can do single dispatch as well:"
   ]
  },
  {
   "cell_type": "code",
   "execution_count": 25,
   "metadata": {
    "colab": {
     "base_uri": "https://localhost:8080/",
     "height": 51
    },
    "colab_type": "code",
    "id": "j6fIldepUFA1",
    "outputId": "4efc855a-46e4-4108-bb67-e9f90ae52a70"
   },
   "outputs": [
    {
     "name": "stdout",
     "output_type": "stream",
     "text": [
      "Hi, my name is Amy, I am 40 years old.\n",
      "My favorite language is Julia.\n"
     ]
    }
   ],
   "source": [
    "struct Developer\n",
    "    name\n",
    "    age\n",
    "    language\n",
    "end\n",
    "\n",
    "function greetings(dev::Developer)\n",
    "    println(\"Hi, my name is $(dev.name), I am $(dev.age) years old.\")\n",
    "    println(\"My favorite language is $(dev.language).\")\n",
    "end\n",
    "\n",
    "d = Developer(\"Amy\", 40, \"Julia\")\n",
    "greetings(d)"
   ]
  },
  {
   "cell_type": "markdown",
   "metadata": {
    "colab_type": "text",
    "id": "2ji22KZNVHub"
   },
   "source": [
    "Notice that the `dev` argument is followed by `::Developer`, which means that this method will only be called if the argument has that type.\n",
    "\n",
    "We have **extended** the `greetings` **function**, so that it now has two different implementations, called **methods**, each for different argument types: namely, `greetings(dev::Developer)` for arguments of type `Developer`, and `greetings(greeter)` for values of any other type.\n",
    "\n",
    "You can easily get the list of all the methods of a given function:"
   ]
  },
  {
   "cell_type": "code",
   "execution_count": 26,
   "metadata": {
    "colab": {
     "base_uri": "https://localhost:8080/",
     "height": 80
    },
    "colab_type": "code",
    "id": "6yQgjmjST2xL",
    "outputId": "fa21698d-dc77-4d48-ba02-db355c68167b"
   },
   "outputs": [
    {
     "data": {
      "text/html": [
       "# 2 methods for generic function <b>greetings</b>:<ul><li> greetings(dev::<b>Developer</b>) in Main at In[25]:8</li> <li> greetings(greeter) in Main at In[23]:7</li> </ul>"
      ],
      "text/plain": [
       "# 2 methods for generic function \"greetings\":\n",
       "[1] greetings(dev::Developer) in Main at In[25]:8\n",
       "[2] greetings(greeter) in Main at In[23]:7"
      ]
     },
     "execution_count": 26,
     "metadata": {},
     "output_type": "execute_result"
    }
   ],
   "source": [
    "methods(greetings)"
   ]
  },
  {
   "cell_type": "markdown",
   "metadata": {
    "colab_type": "text",
    "id": "iS7Byq8yd8uE"
   },
   "source": [
    "You can also get the list of all the methods which take a particular type as argument:"
   ]
  },
  {
   "cell_type": "code",
   "execution_count": 27,
   "metadata": {
    "colab": {
     "base_uri": "https://localhost:8080/",
     "height": 63
    },
    "colab_type": "code",
    "id": "ZxFaPzByd0qv",
    "outputId": "c7c6ddf6-8198-464f-e03d-bfaca514c19e"
   },
   "outputs": [
    {
     "data": {
      "text/html": [
       "1-element Array{Method,1}:<ul><li> greetings(dev::<b>Developer</b>) in Main at In[25]:8</ul>"
      ],
      "text/plain": [
       "[1] greetings(dev::Developer) in Main at In[25]:8"
      ]
     },
     "execution_count": 27,
     "metadata": {},
     "output_type": "execute_result"
    }
   ],
   "source": [
    "methodswith(Developer)"
   ]
  },
  {
   "cell_type": "markdown",
   "metadata": {
    "colab_type": "text",
    "id": "ab4DP1-fT7dE"
   },
   "source": [
    "When you call the `greetings()` function, Julia automatically dispatches the call to the appropriate method, depending on the type of the argument. If Julia can determine at compile time what the type of the argument will be, then it optimizes the compiled code so that there's no choice to be made at runtime. This is called **static dispatch**, and it can significantly speed up the program. If the argument's type can't be determined at compile time, then Julia makes the choice at runtime, just like in Python: this is called **dynamic dispatch**."
   ]
  },
  {
   "cell_type": "markdown",
   "metadata": {
    "colab_type": "text",
    "id": "Y7U4rXr2GnFx"
   },
   "source": [
    "## Multiple Dispatch\n",
    "Julia actually looks at the types of _all_ the positional arguments, not just the first one. This is called **multiple dispatch**. For example:"
   ]
  },
  {
   "cell_type": "code",
   "execution_count": 28,
   "metadata": {
    "colab": {
     "base_uri": "https://localhost:8080/",
     "height": 34
    },
    "colab_type": "code",
    "id": "YE7pb7tHHEcb",
    "outputId": "6f9b264b-c471-4588-8c29-7beb45c6cc31"
   },
   "outputs": [
    {
     "data": {
      "text/plain": [
       "1"
      ]
     },
     "execution_count": 28,
     "metadata": {},
     "output_type": "execute_result"
    }
   ],
   "source": [
    "multdisp(a::Int64, b::Int64) = 1\n",
    "multdisp(a::Int64, b::Float64) = 2\n",
    "multdisp(a::Float64, b::Int64) = 3\n",
    "multdisp(a::Float64, b::Float64) = 4\n",
    "\n",
    "multdisp(10, 20) # try changing the arguments to get each possible output"
   ]
  },
  {
   "cell_type": "markdown",
   "metadata": {
    "colab_type": "text",
    "id": "wJtjHEYGJr5B"
   },
   "source": [
    "Julia always chooses the most specific method it can, so the following method will only be called if the first argument is neither an `Int64` nor a `Float64`:"
   ]
  },
  {
   "cell_type": "code",
   "execution_count": 29,
   "metadata": {
    "colab": {
     "base_uri": "https://localhost:8080/",
     "height": 34
    },
    "colab_type": "code",
    "id": "SrZv6JZBKZGF",
    "outputId": "f0a03118-1981-4959-cfc0-b130245bade2"
   },
   "outputs": [
    {
     "data": {
      "text/plain": [
       "1"
      ]
     },
     "execution_count": 29,
     "metadata": {},
     "output_type": "execute_result"
    }
   ],
   "source": [
    "multdisp(a::Any, b::Int64) = 5\n",
    "\n",
    "multdisp(10, 20)"
   ]
  },
  {
   "cell_type": "markdown",
   "metadata": {
    "colab_type": "text",
    "id": "BiwKlUcMKvbr"
   },
   "source": [
    "Julia will raise an exception if there is some ambiguity as to which method is the most specific:"
   ]
  },
  {
   "cell_type": "code",
   "execution_count": 30,
   "metadata": {
    "colab": {
     "base_uri": "https://localhost:8080/",
     "height": 34
    },
    "colab_type": "code",
    "id": "wnvxky-JJQxU",
    "outputId": "3f8cee18-f55b-4331-cd9d-70d35d3b0cf8"
   },
   "outputs": [
    {
     "data": {
      "text/plain": [
       "MethodError(ambig, (10, 20), 0x0000000000006a38)"
      ]
     },
     "execution_count": 30,
     "metadata": {},
     "output_type": "execute_result"
    }
   ],
   "source": [
    "ambig(a::Int64, b) = 1\n",
    "ambig(a, b::Int64) = 2\n",
    "\n",
    "try\n",
    "    ambig(10, 20)\n",
    "catch ex\n",
    "    ex\n",
    "end"
   ]
  },
  {
   "cell_type": "markdown",
   "metadata": {
    "colab_type": "text",
    "id": "5Pb7CA7kK8UT"
   },
   "source": [
    "To solve this problem, you can explicitely define a method for the ambiguous case:"
   ]
  },
  {
   "cell_type": "code",
   "execution_count": 31,
   "metadata": {
    "colab": {
     "base_uri": "https://localhost:8080/",
     "height": 34
    },
    "colab_type": "code",
    "id": "mlr9q0GxLL-q",
    "outputId": "0ee54009-e527-4b6f-8aa7-c6f80f80d9d7"
   },
   "outputs": [
    {
     "data": {
      "text/plain": [
       "3"
      ]
     },
     "execution_count": 31,
     "metadata": {},
     "output_type": "execute_result"
    }
   ],
   "source": [
    "ambig(a::Int64, b::Int64) = 3\n",
    "ambig(10, 20)"
   ]
  },
  {
   "cell_type": "markdown",
   "metadata": {
    "colab_type": "text",
    "id": "W19FsOf2GOcF"
   },
   "source": [
    "So you can have polymorphism in Julia, just like in Python. This means that you can write your algorithms in a generic way, without having to know the exact types of the values you are manipulating, and it will work fine, as long as these types act in the general way you expect (i.e., if they \"quack like ducks\"). For example:"
   ]
  },
  {
   "cell_type": "code",
   "execution_count": 32,
   "metadata": {
    "colab": {
     "base_uri": "https://localhost:8080/",
     "height": 102
    },
    "colab_type": "code",
    "id": "L_i8ksenUoz8",
    "outputId": "f375850f-5c2e-403f-a5a5-c287ea40a4c5"
   },
   "outputs": [
    {
     "name": "stdout",
     "output_type": "stream",
     "text": [
      "Hi, my name is Alice, I am 70 years old.\n",
      "How can I help?\n",
      "Hi, my name is Amy, I am 40 years old.\n",
      "My favorite language is Julia.\n",
      "How can I help?\n"
     ]
    }
   ],
   "source": [
    "function how_can_i_help(greeter)\n",
    "    greetings(greeter)\n",
    "    println(\"How can I help?\")\n",
    "end\n",
    "\n",
    "how_can_i_help(p) # called on a Person\n",
    "how_can_i_help(d) # called on a Developer"
   ]
  },
  {
   "cell_type": "markdown",
   "metadata": {
    "colab_type": "text",
    "id": "jZmax1CvVBKT"
   },
   "source": [
    "## Calling `super()`?\n",
    "You may have noticed that the `greetings(dev::Developer)` method could be improved, since it currently duplicates the implementation of the base method `greetings(greeter)`. In Python, you would get rid of this duplication by calling the base class's `greetings()` method, using `super()`:\n",
    "\n",
    "```python\n",
    "# PYTHON\n",
    "class Developer(Person):\n",
    "    def __init__(self, name, age, language):\n",
    "        super().__init__(name, age)\n",
    "        self.language = language\n",
    "    def greetings(self):\n",
    "        super().greetings() # <== THIS!\n",
    "        print(f\"My favorite language is {self.language}.\")\n",
    "\n",
    "d = Developer(\"Amy\", 40, \"Julia\")\n",
    "d.greetings()\n",
    "```\n",
    "\n",
    "In Julia, you can do something pretty similar, although you have to implement your own `super()` function, as it is not part of the language:"
   ]
  },
  {
   "cell_type": "code",
   "execution_count": 33,
   "metadata": {
    "colab": {
     "base_uri": "https://localhost:8080/",
     "height": 51
    },
    "colab_type": "code",
    "id": "8Oz-Xe4VmMRr",
    "outputId": "009132ab-6c34-4959-d844-437585ae7649"
   },
   "outputs": [
    {
     "name": "stdout",
     "output_type": "stream",
     "text": [
      "Hi, my name is Amy, I am 40 years old.\n",
      "My favorite language is Julia.\n"
     ]
    }
   ],
   "source": [
    "super(dev::Developer) = Person(dev.name, dev.age)\n",
    "\n",
    "function greetings(dev::Developer)\n",
    "    greetings(super(dev))\n",
    "    println(\"My favorite language is $(dev.language).\")\n",
    "end\n",
    "\n",
    "greetings(d)"
   ]
  },
  {
   "cell_type": "markdown",
   "metadata": {
    "colab_type": "text",
    "id": "WqtmgScLr3oz"
   },
   "source": [
    "However, this implementation creates a new `Person` instance when calling `super(dev)`, copying the `name` and `age` fields. That's okay for small objects, but it's not ideal for larger ones. Instead, you can explicitely call the specific method you want by using the `invoke()` function:"
   ]
  },
  {
   "cell_type": "code",
   "execution_count": 34,
   "metadata": {
    "colab": {
     "base_uri": "https://localhost:8080/",
     "height": 51
    },
    "colab_type": "code",
    "id": "XPlSZ5kaqz0l",
    "outputId": "5aa25818-d6b1-424c-d24c-b65234e1bea7"
   },
   "outputs": [
    {
     "name": "stdout",
     "output_type": "stream",
     "text": [
      "Hi, my name is Amy, I am 40 years old.\n",
      "My favorite language is Julia.\n"
     ]
    }
   ],
   "source": [
    "function greetings(dev::Developer)\n",
    "    invoke(greetings, Tuple{Any}, dev)\n",
    "    println(\"My favorite language is $(dev.language).\")\n",
    "end\n",
    "\n",
    "greetings(d)"
   ]
  },
  {
   "cell_type": "markdown",
   "metadata": {
    "colab_type": "text",
    "id": "Vrf7C_Cgsob2"
   },
   "source": [
    "The `invoke()` function expects the following arguments:\n",
    "* The first argument is the function to call.\n",
    "* The second argument is the type of the desired method's arguments tuple: `Tuple{TypeArg1, TypeArg2, etc.}`. In this case we want to call the base function, which takes a single `Any` argument (the `Any` type is implicit when no type is specified).\n",
    "* Lastly, it takes all the arguments to be passed to the method. In this case, there's just one: `dev`."
   ]
  },
  {
   "cell_type": "markdown",
   "metadata": {
    "colab_type": "text",
    "id": "emqToYz-ypOS"
   },
   "source": [
    "As you can see, we managed to get the same advantages Object-Oriented programming offers, without defining classes or using inheritance. This takes a bit of getting used to, but you might come to prefer this style of generic programming. Indeed, OO programming encourage you to bundle data and behavior together, but this is not always a good idea. Let's look at one example:\n",
    "\n",
    "```python\n",
    "# PYTHON\n",
    "class Rectangle:\n",
    "    def __init__(self, height, width):\n",
    "        self.height = height\n",
    "        self.width = width\n",
    "    def area(self):\n",
    "        return self.height * self.width\n",
    "\n",
    "class Square(Rectangle):\n",
    "    def __init__(self, length):\n",
    "        super().__init__(length, length)\n",
    "```\n",
    "\n",
    "It makes sense for the `Square` class to be a subclass of the `Rectangle` class, since a square **is a** special type of rectangle. It also makes sense for the `Square` class to inherit from all of the `Rectangle` class's behavior, such as the `area()` method. However, it does not really make sense for rectangles and squares to have the same memory representation: a `Rectangle` needs two numbers (`height` and `width`), while a `Square` only needs one (`length`).\n",
    "\n",
    "It's possible to work around this issue like this:\n",
    "\n",
    "```python\n",
    "# PYTHON\n",
    "class Rectangle:\n",
    "    def __init__(self, height, width):\n",
    "        self.height = height\n",
    "        self.width = width\n",
    "    def area(self):\n",
    "        return self.height * self.width\n",
    "\n",
    "class Square(Rectangle):\n",
    "    def __init__(self, length):\n",
    "        self.length = length\n",
    "    @property\n",
    "    def width(self):\n",
    "        return self.length\n",
    "    @property\n",
    "    def height(self):\n",
    "        return self.length\n",
    "```\n",
    "\n",
    "That's better: now, each square is only represented using a single number. We've inherited the behavior, but not the data.\n",
    "\n",
    "In Julia, you could code this like so:"
   ]
  },
  {
   "cell_type": "code",
   "execution_count": 35,
   "metadata": {
    "colab": {
     "base_uri": "https://localhost:8080/",
     "height": 34
    },
    "colab_type": "code",
    "id": "G7aHm-s_y92c",
    "outputId": "4479922f-ed16-4356-807b-26ba1bfe5640"
   },
   "outputs": [
    {
     "data": {
      "text/plain": [
       "height (generic function with 2 methods)"
      ]
     },
     "execution_count": 35,
     "metadata": {},
     "output_type": "execute_result"
    }
   ],
   "source": [
    "struct Rectangle\n",
    "    width\n",
    "    height\n",
    "end\n",
    "\n",
    "width(rect::Rectangle) = rect.width\n",
    "height(rect::Rectangle) = rect.height\n",
    "\n",
    "area(rect) = width(rect) * height(rect)\n",
    "\n",
    "struct Square\n",
    "    length\n",
    "end\n",
    "\n",
    "width(sq::Square) = sq.length\n",
    "height(sq::Square) = sq.length"
   ]
  },
  {
   "cell_type": "code",
   "execution_count": 36,
   "metadata": {
    "colab": {
     "base_uri": "https://localhost:8080/",
     "height": 34
    },
    "colab_type": "code",
    "id": "1Ck-ML8CuOMm",
    "outputId": "8fee00cd-662a-4619-f5ff-e67a94defd07"
   },
   "outputs": [
    {
     "data": {
      "text/plain": [
       "25"
      ]
     },
     "execution_count": 36,
     "metadata": {},
     "output_type": "execute_result"
    }
   ],
   "source": [
    "area(Square(5))"
   ]
  },
  {
   "cell_type": "markdown",
   "metadata": {
    "colab_type": "text",
    "id": "qUy8eU__-swA"
   },
   "source": [
    "Notice that the `area()` function relies on the getters `width()` and `height()`, rather than directly on the fields `width` and `height`. This way, the argument can be of any type at all, as long as it has these getters."
   ]
  },
  {
   "cell_type": "markdown",
   "metadata": {
    "colab_type": "text",
    "id": "iPtX04AJkXnI"
   },
   "source": [
    "## Abstract Types\n",
    "One nice thing about the class hierarchy we defined in Python is that it makes it clear that a square **is a** kind of rectangle. Any new function you define that takes a `Rectangle` as an argument will automatically accept a `Square` as well, but no other non-rectangle type. In contrast, our `area()` function currently accepts anything at all.\n",
    "\n",
    "In Julia, a concrete type like `Square` cannot extend another concrete type like `Rectangle`. However, any type can extend from an abstract type. Let's define some abstract types to create a type hierarchy for our `Square` and `Rectangle` types."
   ]
  },
  {
   "cell_type": "code",
   "execution_count": 37,
   "metadata": {
    "colab": {},
    "colab_type": "code",
    "id": "HgXYu8Y7kFf7"
   },
   "outputs": [],
   "source": [
    "abstract type AbstractShape end\n",
    "abstract type AbstractRectangle <: AbstractShape end  # <: means \"subtype of\"\n",
    "abstract type AbstractSquare <: AbstractRectangle end"
   ]
  },
  {
   "cell_type": "markdown",
   "metadata": {
    "colab_type": "text",
    "id": "s9jYhVkntUXo"
   },
   "source": [
    "The `<:` operator means \"subtype of\"."
   ]
  },
  {
   "cell_type": "markdown",
   "metadata": {
    "colab_type": "text",
    "id": "SFoq_2FUtjix"
   },
   "source": [
    "Now we can attach the `area()` function to the `AbstractRectangle` type, instead of any type at all:"
   ]
  },
  {
   "cell_type": "code",
   "execution_count": 38,
   "metadata": {
    "colab": {
     "base_uri": "https://localhost:8080/",
     "height": 34
    },
    "colab_type": "code",
    "id": "DpCEaRNytYNQ",
    "outputId": "6c788432-1cc2-439d-85a3-1c80c74eabef"
   },
   "outputs": [
    {
     "data": {
      "text/plain": [
       "area (generic function with 2 methods)"
      ]
     },
     "execution_count": 38,
     "metadata": {},
     "output_type": "execute_result"
    }
   ],
   "source": [
    "area(rect::AbstractRectangle) = width(rect) * height(rect)"
   ]
  },
  {
   "cell_type": "markdown",
   "metadata": {
    "colab_type": "text",
    "id": "utwPa8jLt7bF"
   },
   "source": [
    "Now we can define the concrete types, as subtypes of `AbstractRectangle` and `AbstractSquare`:"
   ]
  },
  {
   "cell_type": "code",
   "execution_count": 39,
   "metadata": {
    "colab": {
     "base_uri": "https://localhost:8080/",
     "height": 34
    },
    "colab_type": "code",
    "id": "cHChkf1Mt0GN",
    "outputId": "c063caff-c730-4478-fdf5-a8c49498c3b1"
   },
   "outputs": [
    {
     "data": {
      "text/plain": [
       "height (generic function with 4 methods)"
      ]
     },
     "execution_count": 39,
     "metadata": {},
     "output_type": "execute_result"
    }
   ],
   "source": [
    "struct Rectangle_v2 <: AbstractRectangle\n",
    "  width\n",
    "  height\n",
    "end\n",
    "\n",
    "width(rect::Rectangle_v2) = rect.width\n",
    "height(rect::Rectangle_v2) = rect.height\n",
    "\n",
    "struct Square_v2 <: AbstractSquare\n",
    "  length\n",
    "end\n",
    "\n",
    "width(sq::Square_v2) = sq.length\n",
    "height(sq::Square_v2) = sq.length"
   ]
  },
  {
   "cell_type": "markdown",
   "metadata": {
    "colab_type": "text",
    "id": "N6JklHCruNkP"
   },
   "source": [
    "In short, the Julian approach to type hierarchies looks like this:\n",
    "\n",
    "* Create a hierarchy of abstract types to represent the concepts you want to implement.\n",
    "* Write functions for these abstract types. Much of your implementation can be coded at that level, manipulating abstract concepts.\n",
    "* Lastly, create concrete types, and write the methods needed to give them the behavior that is expected by the generic algorithms you wrote."
   ]
  },
  {
   "cell_type": "markdown",
   "metadata": {
    "colab_type": "text",
    "id": "GZA6mB9hu3pg"
   },
   "source": [
    "This pattern is used everywhere in Julia's standard libraries. For example, here are the supertypes of `Float64` and `Int64`:"
   ]
  },
  {
   "cell_type": "code",
   "execution_count": 40,
   "metadata": {
    "colab": {
     "base_uri": "https://localhost:8080/",
     "height": 34
    },
    "colab_type": "code",
    "id": "No9X1dLtu-nj",
    "outputId": "07a0969d-e3f7-4890-ecfe-bfa0de14b298"
   },
   "outputs": [
    {
     "name": "stdout",
     "output_type": "stream",
     "text": [
      "Float64 <: AbstractFloat <: Real <: Number <: Any"
     ]
    }
   ],
   "source": [
    "Base.show_supertypes(Float64)"
   ]
  },
  {
   "cell_type": "code",
   "execution_count": 41,
   "metadata": {
    "colab": {
     "base_uri": "https://localhost:8080/",
     "height": 34
    },
    "colab_type": "code",
    "id": "RowhPCR_R-QG",
    "outputId": "7f898ce1-94e2-46e7-e18c-b7af2264ecf6"
   },
   "outputs": [
    {
     "name": "stdout",
     "output_type": "stream",
     "text": [
      "Int64 <: Signed <: Integer <: Real <: Number <: Any"
     ]
    }
   ],
   "source": [
    "Base.show_supertypes(Int64)"
   ]
  },
  {
   "cell_type": "markdown",
   "metadata": {
    "colab_type": "text",
    "id": "fTFddfq0CEyy"
   },
   "source": [
    "Note: Julia implicitly runs `using Core` and `using Base` when starting the REPL. However, the `show_supertypes()` function is not exported by the `Base` module, thus you cannot access it by just typing `show_supertypes(Float64)`. Instead, you have to specify the module name: `Base.show_supertypes(Float64)`."
   ]
  },
  {
   "cell_type": "markdown",
   "metadata": {
    "colab_type": "text",
    "id": "K-q4QCgI-rWI"
   },
   "source": [
    "And here is the whole hierarchy of `Number` types:"
   ]
  },
  {
   "cell_type": "code",
   "execution_count": 42,
   "metadata": {
    "colab": {
     "base_uri": "https://localhost:8080/",
     "height": 510
    },
    "colab_type": "code",
    "id": "6Gtn6IB0vQZv",
    "outputId": "45a8d743-ad97-48b7-d61f-0663aa10b75a"
   },
   "outputs": [
    {
     "name": "stdout",
     "output_type": "stream",
     "text": [
      "Number\n",
      "    Complex\n",
      "    Real\n",
      "        AbstractFloat\n",
      "            BigFloat\n",
      "            Float16\n",
      "            Float32\n",
      "            Float64\n",
      "        AbstractIrrational\n",
      "            Irrational\n",
      "        Integer\n",
      "            Bool\n",
      "            Signed\n",
      "                BigInt\n",
      "                Int128\n",
      "                Int16\n",
      "                Int32\n",
      "                Int64\n",
      "                Int8\n",
      "            Unsigned\n",
      "                UInt128\n",
      "                UInt16\n",
      "                UInt32\n",
      "                UInt64\n",
      "                UInt8\n",
      "        Rational\n"
     ]
    }
   ],
   "source": [
    "function show_hierarchy(root, indent=0)\n",
    "    println(repeat(\" \", indent * 4), root)\n",
    "    for subtype in subtypes(root)\n",
    "        show_hierarchy(subtype, indent + 1)\n",
    "    end\n",
    "end\n",
    "\n",
    "show_hierarchy(Number)"
   ]
  },
  {
   "cell_type": "markdown",
   "metadata": {
    "colab_type": "text",
    "id": "NdE0eLaKf_tM"
   },
   "source": [
    "## Iterator Interface\n",
    "You will sometimes want to provide a way to iterate over your custom types. In Python, this requires defining the `__iter__()` method which should return an object which implements the `__next__()` method. In Julia, you must define at least two functions:\n",
    "* `iterate(::YourIteratorType)`, which must return either `nothing` if there are no values in the sequence, or `(first_value, iterator_state)`.\n",
    "* `iterate(::YourIteratorType, state)`, which must return either `nothing` if there are no more values, or `(next_value, new_iterator_state)`.\n",
    "\n",
    "For example, let's create a simple iterator for the Fibonacci sequence:"
   ]
  },
  {
   "cell_type": "code",
   "execution_count": 43,
   "metadata": {
    "colab": {},
    "colab_type": "code",
    "id": "baemCHqZde4Y"
   },
   "outputs": [],
   "source": [
    "struct FibonacciIterator end"
   ]
  },
  {
   "cell_type": "code",
   "execution_count": 44,
   "metadata": {
    "colab": {
     "base_uri": "https://localhost:8080/",
     "height": 34
    },
    "colab_type": "code",
    "id": "yidgsJt9eBSk",
    "outputId": "70a596d3-cef3-4b07-da41-d68dce807284"
   },
   "outputs": [
    {
     "data": {
      "text/plain": [
       "iterate (generic function with 212 methods)"
      ]
     },
     "execution_count": 44,
     "metadata": {},
     "output_type": "execute_result"
    }
   ],
   "source": [
    "import Base.iterate\n",
    "\n",
    "iterate(f::FibonacciIterator) = (1, (1, 1))\n",
    "\n",
    "function iterate(f::FibonacciIterator, state)\n",
    "    new_state = (state[2], state[1] + state[2])\n",
    "    (new_state[1], new_state)\n",
    "end"
   ]
  },
  {
   "cell_type": "markdown",
   "metadata": {
    "colab_type": "text",
    "id": "9CORRxR8hYrl"
   },
   "source": [
    "Now we can iterate over a `FibonacciIterator` instance:"
   ]
  },
  {
   "cell_type": "code",
   "execution_count": 45,
   "metadata": {
    "colab": {
     "base_uri": "https://localhost:8080/",
     "height": 136
    },
    "colab_type": "code",
    "id": "5W0QbY41fJGE",
    "outputId": "7cdc05b9-93e8-4308-99b6-116ea727c563"
   },
   "outputs": [
    {
     "name": "stdout",
     "output_type": "stream",
     "text": [
      "1\n",
      "1\n",
      "2\n",
      "3\n",
      "5\n",
      "8\n",
      "13\n"
     ]
    }
   ],
   "source": [
    "for f in FibonacciIterator()\n",
    "    println(f)\n",
    "    f > 10 && break\n",
    "end"
   ]
  },
  {
   "cell_type": "markdown",
   "metadata": {
    "colab_type": "text",
    "id": "RjEk9nRIhmwV"
   },
   "source": [
    "## Indexing Interface\n",
    "You can also create a type that will be indexable like an array (allowing syntax like `a[5] = 3`). In Python, this requires implementing the `__getitem__()` and `__setitem__()` methods. In Julia, you must implement the `getindex(A::YourType, i)`, `setindex!(A::YourType, v, i)`, `firstindex(A::YourType)` and `lastindex(A::YourType)` methods."
   ]
  },
  {
   "cell_type": "code",
   "execution_count": 46,
   "metadata": {
    "colab": {
     "base_uri": "https://localhost:8080/",
     "height": 34
    },
    "colab_type": "code",
    "id": "i-r1StLujBEL",
    "outputId": "0f1b3edb-f180-4802-a7cc-308201d319e3"
   },
   "outputs": [
    {
     "data": {
      "text/plain": [
       "100"
      ]
     },
     "execution_count": 46,
     "metadata": {},
     "output_type": "execute_result"
    }
   ],
   "source": [
    "struct MySquares end\n",
    "\n",
    "import Base.getindex, Base.firstindex\n",
    "\n",
    "getindex(::MySquares, i) = i^2\n",
    "firstindex(::MySquares) = 0\n",
    "\n",
    "S = MySquares()\n",
    "S[10]"
   ]
  },
  {
   "cell_type": "code",
   "execution_count": 47,
   "metadata": {
    "colab": {
     "base_uri": "https://localhost:8080/",
     "height": 34
    },
    "colab_type": "code",
    "id": "p8zfJLvDjpSP",
    "outputId": "4220e2e1-8c2e-44e7-a9c2-6e7eb8889bce"
   },
   "outputs": [
    {
     "data": {
      "text/plain": [
       "0"
      ]
     },
     "execution_count": 47,
     "metadata": {},
     "output_type": "execute_result"
    }
   ],
   "source": [
    "S[begin]"
   ]
  },
  {
   "cell_type": "code",
   "execution_count": 48,
   "metadata": {
    "colab": {
     "base_uri": "https://localhost:8080/",
     "height": 34
    },
    "colab_type": "code",
    "id": "n9y4Y2r2jzTG",
    "outputId": "b150c36d-1425-4c4c-8afe-e06b67cd2594"
   },
   "outputs": [
    {
     "data": {
      "text/plain": [
       "getindex (generic function with 204 methods)"
      ]
     },
     "execution_count": 48,
     "metadata": {},
     "output_type": "execute_result"
    }
   ],
   "source": [
    "getindex(S::MySquares, r::UnitRange) = [S[i] for i in r]"
   ]
  },
  {
   "cell_type": "code",
   "execution_count": 49,
   "metadata": {
    "colab": {
     "base_uri": "https://localhost:8080/",
     "height": 102
    },
    "colab_type": "code",
    "id": "vk-gqI08jrQo",
    "outputId": "f1bec7fe-7114-41da-8b2b-8bcc517e4d47"
   },
   "outputs": [
    {
     "data": {
      "text/plain": [
       "4-element Array{Int64,1}:\n",
       "  1\n",
       "  4\n",
       "  9\n",
       " 16"
      ]
     },
     "execution_count": 49,
     "metadata": {},
     "output_type": "execute_result"
    }
   ],
   "source": [
    "S[1:4]"
   ]
  },
  {
   "cell_type": "markdown",
   "metadata": {
    "colab_type": "text",
    "id": "1j3qxO4TkoVm"
   },
   "source": [
    "For more details on these interfaces, and to learn how to build full-blown array types with broadcasting and more, check out [this page](https://docs.julialang.org/en/v1/manual/interfaces/)."
   ]
  },
  {
   "cell_type": "markdown",
   "metadata": {
    "colab_type": "text",
    "id": "bD9gzH2XDlGL"
   },
   "source": [
    "## Creating a Number Type\n",
    "Let's create a `MyRational` struct and try to make it mimic the built-in `Rational` type:"
   ]
  },
  {
   "cell_type": "code",
   "execution_count": 50,
   "metadata": {
    "colab": {},
    "colab_type": "code",
    "id": "nwEtMyR1PB3C"
   },
   "outputs": [],
   "source": [
    "struct MyRational <: Real\n",
    "    num # numerator\n",
    "    den # denominator\n",
    "end"
   ]
  },
  {
   "cell_type": "code",
   "execution_count": 51,
   "metadata": {
    "colab": {
     "base_uri": "https://localhost:8080/",
     "height": 34
    },
    "colab_type": "code",
    "id": "cwCpLCW6PePs",
    "outputId": "b2d9f8da-f892-4407-fa5e-1b24a15197d4"
   },
   "outputs": [
    {
     "data": {
      "text/plain": [
       "MyRational(2, 3)"
      ]
     },
     "execution_count": 51,
     "metadata": {},
     "output_type": "execute_result"
    }
   ],
   "source": [
    "MyRational(2, 3)"
   ]
  },
  {
   "cell_type": "markdown",
   "metadata": {
    "colab_type": "text",
    "id": "vbIz77VzST24"
   },
   "source": [
    "It would be more convenient and readable if we could type `2 ⨸ 3` to create a `MyRational`:"
   ]
  },
  {
   "cell_type": "code",
   "execution_count": 52,
   "metadata": {
    "colab": {
     "base_uri": "https://localhost:8080/",
     "height": 34
    },
    "colab_type": "code",
    "id": "VuitXq8eTL4G",
    "outputId": "7e812671-4ed8-4672-cb27-2f0ecd9594a9"
   },
   "outputs": [
    {
     "data": {
      "text/plain": [
       "⨸ (generic function with 1 method)"
      ]
     },
     "execution_count": 52,
     "metadata": {},
     "output_type": "execute_result"
    }
   ],
   "source": [
    "function ⨸(num, den)\n",
    "    MyRational(num, den)\n",
    "end"
   ]
  },
  {
   "cell_type": "code",
   "execution_count": 53,
   "metadata": {
    "colab": {
     "base_uri": "https://localhost:8080/",
     "height": 34
    },
    "colab_type": "code",
    "id": "isQcJMAeTRi-",
    "outputId": "8ac2049a-7c6c-41cd-f9a2-610a86eb93aa"
   },
   "outputs": [
    {
     "data": {
      "text/plain": [
       "MyRational(2, 3)"
      ]
     },
     "execution_count": 53,
     "metadata": {},
     "output_type": "execute_result"
    }
   ],
   "source": [
    "2 ⨸ 3"
   ]
  },
  {
   "cell_type": "markdown",
   "metadata": {
    "colab_type": "text",
    "id": "g594gvCpTTYB"
   },
   "source": [
    "I chose `⨸` because it's a symbol that Julia's parser treats as a binary operator, but which is otherwise not used by Julia (see the full [list of parsed symbols](https://github.com/JuliaLang/julia/blob/master/src/julia-parser.scm) and their priorities). This particular symbol will have the same priority as multiplication and division."
   ]
  },
  {
   "cell_type": "markdown",
   "metadata": {
    "colab_type": "text",
    "id": "3DKaUnqsUG0L"
   },
   "source": [
    "If you want to know how to type it and check that it is unused, type `?⨸` (copy/paste the symbol):"
   ]
  },
  {
   "cell_type": "code",
   "execution_count": 54,
   "metadata": {
    "colab": {
     "base_uri": "https://localhost:8080/",
     "height": 171
    },
    "colab_type": "code",
    "id": "km3KccbsUTnQ",
    "outputId": "17bc9bee-cd0e-4750-f084-87c3eca82cf6"
   },
   "outputs": [
    {
     "name": "stdout",
     "output_type": "stream",
     "text": [
      "\"\u001b[36m⨸\u001b[39m\" can be typed by \u001b[36m\\odiv<tab>\u001b[39m\n",
      "\n",
      "search: \u001b[0m\u001b[1m⨸\u001b[22m\n",
      "\n"
     ]
    },
    {
     "data": {
      "text/latex": [
       "No documentation found.\n",
       "\n",
       "\\texttt{⨸} is a \\texttt{Function}.\n",
       "\n",
       "\\begin{verbatim}\n",
       "# 1 method for generic function \"⨸\":\n",
       "[1] ⨸(num, den) in Main at In[52]:2\n",
       "\\end{verbatim}\n"
      ],
      "text/markdown": [
       "No documentation found.\n",
       "\n",
       "`⨸` is a `Function`.\n",
       "\n",
       "```\n",
       "# 1 method for generic function \"⨸\":\n",
       "[1] ⨸(num, den) in Main at In[52]:2\n",
       "```\n"
      ],
      "text/plain": [
       "  No documentation found.\n",
       "\n",
       "  \u001b[36m⨸\u001b[39m is a \u001b[36mFunction\u001b[39m.\n",
       "\n",
       "\u001b[36m  # 1 method for generic function \"⨸\":\u001b[39m\n",
       "\u001b[36m  [1] ⨸(num, den) in Main at In[52]:2\u001b[39m"
      ]
     },
     "execution_count": 54,
     "metadata": {},
     "output_type": "execute_result"
    }
   ],
   "source": [
    "?⨸"
   ]
  },
  {
   "cell_type": "markdown",
   "metadata": {
    "colab_type": "text",
    "id": "eWzNstBqQckD"
   },
   "source": [
    "Now let's make it possible to add two `MyRational` values. We want it to be possible for our `MyRational` type to be used in existing algorithms which rely on `+`, so we must create a new method for the `Base.+` function:"
   ]
  },
  {
   "cell_type": "code",
   "execution_count": 55,
   "metadata": {
    "colab": {
     "base_uri": "https://localhost:8080/",
     "height": 34
    },
    "colab_type": "code",
    "id": "2T7MyjE2RhUW",
    "outputId": "39821e83-66d4-4d26-e02b-9bca538967b9"
   },
   "outputs": [
    {
     "data": {
      "text/plain": [
       "+ (generic function with 167 methods)"
      ]
     },
     "execution_count": 55,
     "metadata": {},
     "output_type": "execute_result"
    }
   ],
   "source": [
    "import Base.+\n",
    "\n",
    "function +(r1::MyRational, r2::MyRational)\n",
    "    (r1.num * r2.den + r1.den * r2.num) ⨸ (r1.den * r2.den)\n",
    "end"
   ]
  },
  {
   "cell_type": "code",
   "execution_count": 56,
   "metadata": {
    "colab": {
     "base_uri": "https://localhost:8080/",
     "height": 34
    },
    "colab_type": "code",
    "id": "aFtoPHZRSNoU",
    "outputId": "3347bd2c-c3bb-42c8-bd83-88f1048fdafc"
   },
   "outputs": [
    {
     "data": {
      "text/plain": [
       "MyRational(19, 15)"
      ]
     },
     "execution_count": 56,
     "metadata": {},
     "output_type": "execute_result"
    }
   ],
   "source": [
    "2 ⨸ 3 + 3 ⨸ 5"
   ]
  },
  {
   "cell_type": "markdown",
   "metadata": {
    "colab_type": "text",
    "id": "8--bQ8izR7_I"
   },
   "source": [
    "It's important to import `Base.+` first, or else you would just be defining a new `+` function in the current module (`Main`), which would not be called by existing algorithms."
   ]
  },
  {
   "cell_type": "markdown",
   "metadata": {
    "colab_type": "text",
    "id": "x79nFEHQYFfU"
   },
   "source": [
    "You can easily implement `*`, `^` and so on, in much the same way."
   ]
  },
  {
   "cell_type": "markdown",
   "metadata": {
    "colab_type": "text",
    "id": "GGTgc07sSR4w"
   },
   "source": [
    "Let's change the way `MyRational` values are printed, to make them look a bit nicer. For this, we must create a new method for the `Base.show(io::IO, x)` function:"
   ]
  },
  {
   "cell_type": "code",
   "execution_count": 57,
   "metadata": {
    "colab": {
     "base_uri": "https://localhost:8080/",
     "height": 34
    },
    "colab_type": "code",
    "id": "KQN5IqLxVzLF",
    "outputId": "09297302-3b04-4154-f239-331d47b55c9e"
   },
   "outputs": [
    {
     "data": {
      "text/plain": [
       "19 ⨸ 15"
      ]
     },
     "execution_count": 57,
     "metadata": {},
     "output_type": "execute_result"
    }
   ],
   "source": [
    "import Base.show\n",
    "\n",
    "function show(io::IO, r::MyRational)\n",
    "    print(io, \"$(r.num) ⨸ $(r.den)\")\n",
    "end\n",
    "\n",
    "2 ⨸ 3 + 3 ⨸ 5"
   ]
  },
  {
   "cell_type": "markdown",
   "metadata": {
    "colab_type": "text",
    "id": "rJg_-ZYOXS4m"
   },
   "source": [
    "We can expand the `show()` function so it can provide an HTML representation for `MyRational` values. This will be called by the `display()` function in Jupyter or Colab:"
   ]
  },
  {
   "cell_type": "code",
   "execution_count": 58,
   "metadata": {
    "colab": {
     "base_uri": "https://localhost:8080/",
     "height": 40
    },
    "colab_type": "code",
    "id": "h6smoUzBWkNB",
    "outputId": "68d5cc1a-96fa-4c67-8cc8-102c91eefb1f"
   },
   "outputs": [
    {
     "data": {
      "text/html": [
       "<sup><b>19</b></sup>&frasl;<sub><b>15</b></sub>"
      ],
      "text/plain": [
       "19 ⨸ 15"
      ]
     },
     "execution_count": 58,
     "metadata": {},
     "output_type": "execute_result"
    }
   ],
   "source": [
    "function show(io::IO, ::MIME\"text/html\", r::MyRational)\n",
    "    print(io, \"<sup><b>$(r.num)</b></sup>&frasl;<sub><b>$(r.den)</b></sub>\")\n",
    "end\n",
    "\n",
    "2 ⨸ 3 + 3 ⨸ 5"
   ]
  },
  {
   "cell_type": "markdown",
   "metadata": {
    "colab_type": "text",
    "id": "5bOKggSjX7hM"
   },
   "source": [
    "Next, we want to be able to perform any operation involving `MyRational` values and values of other `Number` types. For example, we may want to multiply integers and `MyRational` values. One option is to define a new method like this:"
   ]
  },
  {
   "cell_type": "code",
   "execution_count": 59,
   "metadata": {
    "colab": {
     "base_uri": "https://localhost:8080/",
     "height": 40
    },
    "colab_type": "code",
    "id": "dlW_pbUPZL_0",
    "outputId": "17cd6462-b547-4d0d-afe4-c759ad576d73"
   },
   "outputs": [
    {
     "data": {
      "text/html": [
       "<sup><b>10</b></sup>&frasl;<sub><b>3</b></sub>"
      ],
      "text/plain": [
       "10 ⨸ 3"
      ]
     },
     "execution_count": 59,
     "metadata": {},
     "output_type": "execute_result"
    }
   ],
   "source": [
    "import Base.*\n",
    "\n",
    "function *(r::MyRational, i::Integer)\n",
    "    (r.num * i) ⨸ r.den\n",
    "end\n",
    "\n",
    "2 ⨸ 3 * 5"
   ]
  },
  {
   "cell_type": "markdown",
   "metadata": {
    "colab_type": "text",
    "id": "3Xr--hB-ZlDm"
   },
   "source": [
    "Since multiplication is commutative, we need the reverse method as well:"
   ]
  },
  {
   "cell_type": "code",
   "execution_count": 60,
   "metadata": {
    "colab": {
     "base_uri": "https://localhost:8080/",
     "height": 40
    },
    "colab_type": "code",
    "id": "3DkeVGqaZtNv",
    "outputId": "ba58fec5-be9e-4512-d256-c38a4bf3007a"
   },
   "outputs": [
    {
     "data": {
      "text/html": [
       "<sup><b>10</b></sup>&frasl;<sub><b>3</b></sub>"
      ],
      "text/plain": [
       "10 ⨸ 3"
      ]
     },
     "execution_count": 60,
     "metadata": {},
     "output_type": "execute_result"
    }
   ],
   "source": [
    "function *(i::Integer, r::MyRational)\n",
    "    r * i # this will call the previous method\n",
    "end\n",
    "\n",
    "5 * (2 ⨸ 3) # we need the parentheses since * and ⨸ have the same priority"
   ]
  },
  {
   "cell_type": "markdown",
   "metadata": {
    "colab_type": "text",
    "id": "hzW07JkXggLo"
   },
   "source": [
    "It's cumbersome to have to define these methods for every operation. There's a better way, which we will explore in the next two sections."
   ]
  },
  {
   "cell_type": "markdown",
   "metadata": {
    "colab_type": "text",
    "id": "TWXZrND8N-nR"
   },
   "source": [
    "## Conversion\n",
    "It is possible to provide a way for integers to be automatically converted to `MyRational` values:"
   ]
  },
  {
   "cell_type": "code",
   "execution_count": 61,
   "metadata": {
    "colab": {
     "base_uri": "https://localhost:8080/",
     "height": 40
    },
    "colab_type": "code",
    "id": "SFIenX2Og0qY",
    "outputId": "8b8004d8-df1b-4526-ee73-801a2c2ce312"
   },
   "outputs": [
    {
     "data": {
      "text/html": [
       "<sup><b>42</b></sup>&frasl;<sub><b>1</b></sub>"
      ],
      "text/plain": [
       "42 ⨸ 1"
      ]
     },
     "execution_count": 61,
     "metadata": {},
     "output_type": "execute_result"
    }
   ],
   "source": [
    "import Base.convert\n",
    "\n",
    "MyRational(x::Integer) = MyRational(x, 1)\n",
    "\n",
    "convert(::Type{MyRational}, x::Integer) = MyRational(x)\n",
    "\n",
    "convert(MyRational, 42)"
   ]
  },
  {
   "cell_type": "markdown",
   "metadata": {
    "colab_type": "text",
    "id": "n_gGRgRSwrkS"
   },
   "source": [
    "The `Type{MyRational}` type is a special type which has a single instance: the `MyRational` type itself. So this `convert()` method only accepts `MyRational` itself as its first argument (and we don't actually use the first argument, so we don't even need to give it a name in the function declaration)."
   ]
  },
  {
   "cell_type": "markdown",
   "metadata": {
    "colab_type": "text",
    "id": "5B9cNbV5lbHm"
   },
   "source": [
    "Now integers will be automatically converted to `MyRational` values when you assign them to an array whose element type if `MyRational`:"
   ]
  },
  {
   "cell_type": "code",
   "execution_count": 62,
   "metadata": {
    "colab": {
     "base_uri": "https://localhost:8080/",
     "height": 34
    },
    "colab_type": "code",
    "id": "YWdijh_2k7LU",
    "outputId": "f2c2ac2b-b966-4dca-8c2d-09fa4ece0ae8"
   },
   "outputs": [
    {
     "name": "stdout",
     "output_type": "stream",
     "text": [
      "MyRational[5 ⨸ 1, 6 ⨸ 1]\n"
     ]
    }
   ],
   "source": [
    "a = [2 ⨸ 3] # the element type is MyRational\n",
    "a[1] = 5    # convert(MyRational, 5) is called automatically\n",
    "push!(a, 6) # convert(MyRational, 6) is called automatically\n",
    "println(a)"
   ]
  },
  {
   "cell_type": "markdown",
   "metadata": {
    "colab_type": "text",
    "id": "ESWblH5olvOY"
   },
   "source": [
    "Conversion will also occur automatically in these cases:\n",
    "* `r::MyRational = 42`: assigning an integer to `r` where `r` is a local variable with a declared type of `MyRational`.\n",
    "* `s.b = 42` if `s` is a struct and `b` is a field of type `MyRational` (also when calling `new(42)` on that struct, assuming `b` is the first field).\n",
    "* `return 42` if the return type is declared as `MyRational` (e.g., `function f(x)::MyRational ... end`)."
   ]
  },
  {
   "cell_type": "markdown",
   "metadata": {
    "colab_type": "text",
    "id": "kIulkBomd5hy"
   },
   "source": [
    "However, there is no automatic conversion when calling functions:"
   ]
  },
  {
   "cell_type": "code",
   "execution_count": 63,
   "metadata": {
    "colab": {
     "base_uri": "https://localhost:8080/",
     "height": 34
    },
    "colab_type": "code",
    "id": "7Jf6rT8uhAtU",
    "outputId": "1ef6c1c2-b189-412e-b201-f0076d037c9d"
   },
   "outputs": [
    {
     "data": {
      "text/plain": [
       "MethodError(for_my_rationals_only, (42,), 0x0000000000006a5f)"
      ]
     },
     "execution_count": 63,
     "metadata": {},
     "output_type": "execute_result"
    }
   ],
   "source": [
    "function for_my_rationals_only(x::MyRational)\n",
    "    println(\"It works:\", x)\n",
    "end\n",
    "\n",
    "try\n",
    "    for_my_rationals_only(42)\n",
    "catch ex\n",
    "    ex\n",
    "end"
   ]
  },
  {
   "cell_type": "markdown",
   "metadata": {
    "colab_type": "text",
    "id": "KhtxelSROzU_"
   },
   "source": [
    "## Promotion\n",
    "The `Base` functions `+`, `-`, `*`, `/`, `^`, etc. all use a \"promotion\" algorithm to convert the arguments to the appropriate type. For example, adding an integer and a float promotes the integer to a float before the addition takes place. These functions use the `promote()` function for this. For example, given several integers and a float, all integers get promoted to floats:"
   ]
  },
  {
   "cell_type": "code",
   "execution_count": 64,
   "metadata": {
    "colab": {
     "base_uri": "https://localhost:8080/",
     "height": 34
    },
    "colab_type": "code",
    "id": "BEa8TRPuokYN",
    "outputId": "757ea23a-2ff3-47ac-f078-e3dc19444b4c"
   },
   "outputs": [
    {
     "data": {
      "text/plain": [
       "(1.0, 2.0, 3.0, 4.0)"
      ]
     },
     "execution_count": 64,
     "metadata": {},
     "output_type": "execute_result"
    }
   ],
   "source": [
    "promote(1, 2, 3, 4.0)"
   ]
  },
  {
   "cell_type": "markdown",
   "metadata": {
    "colab_type": "text",
    "id": "wDpLvwpMPP59"
   },
   "source": [
    "This is why a sum of integers and floats results in a float:"
   ]
  },
  {
   "cell_type": "code",
   "execution_count": 65,
   "metadata": {
    "colab": {
     "base_uri": "https://localhost:8080/",
     "height": 34
    },
    "colab_type": "code",
    "id": "grWU-hHHPI7v",
    "outputId": "f599c588-1656-4e92-cba5-2c121ad5d583"
   },
   "outputs": [
    {
     "data": {
      "text/plain": [
       "10.0"
      ]
     },
     "execution_count": 65,
     "metadata": {},
     "output_type": "execute_result"
    }
   ],
   "source": [
    "1 + 2 + 3 + 4.0"
   ]
  },
  {
   "cell_type": "markdown",
   "metadata": {
    "colab_type": "text",
    "id": "pkrDanbRO7b2"
   },
   "source": [
    "The `promote()` function is also called when creating an array. For example, the following array is a `Float64` array:"
   ]
  },
  {
   "cell_type": "code",
   "execution_count": 66,
   "metadata": {
    "colab": {
     "base_uri": "https://localhost:8080/",
     "height": 102
    },
    "colab_type": "code",
    "id": "AeDsWTZjO-4d",
    "outputId": "17b3a01e-f162-48f6-dc22-791ac103b61b"
   },
   "outputs": [
    {
     "data": {
      "text/plain": [
       "4-element Array{Float64,1}:\n",
       " 1.0\n",
       " 2.0\n",
       " 3.0\n",
       " 4.0"
      ]
     },
     "execution_count": 66,
     "metadata": {},
     "output_type": "execute_result"
    }
   ],
   "source": [
    "a = [1, 2, 3, 4.0]"
   ]
  },
  {
   "cell_type": "markdown",
   "metadata": {
    "colab_type": "text",
    "id": "JCdZ4NhMo505"
   },
   "source": [
    "What about the `MyRational` type? Rather than create new methods for the `promote()` function, the recommended approach is to create a new method for the `promote_rule()` function. It takes two types and returns the type to convert to:"
   ]
  },
  {
   "cell_type": "code",
   "execution_count": 67,
   "metadata": {
    "colab": {
     "base_uri": "https://localhost:8080/",
     "height": 34
    },
    "colab_type": "code",
    "id": "3xJTjr7XPgtx",
    "outputId": "102a8ee1-b785-44c8-be2e-f68ab1545e78"
   },
   "outputs": [
    {
     "data": {
      "text/plain": [
       "Float64"
      ]
     },
     "execution_count": 67,
     "metadata": {},
     "output_type": "execute_result"
    }
   ],
   "source": [
    "promote_rule(Float64, Int64)"
   ]
  },
  {
   "cell_type": "markdown",
   "metadata": {
    "colab_type": "text",
    "id": "W68U2_SjPt_T"
   },
   "source": [
    "Let's implement a new method for this function, to make sure that any subtype of the `Integer` type will be promoted to `MyRational`:"
   ]
  },
  {
   "cell_type": "code",
   "execution_count": 68,
   "metadata": {
    "colab": {
     "base_uri": "https://localhost:8080/",
     "height": 34
    },
    "colab_type": "code",
    "id": "wjK9_3Bierna",
    "outputId": "02215c5f-c146-409e-884b-6183e7729752"
   },
   "outputs": [
    {
     "data": {
      "text/plain": [
       "promote_rule (generic function with 123 methods)"
      ]
     },
     "execution_count": 68,
     "metadata": {},
     "output_type": "execute_result"
    }
   ],
   "source": [
    "import Base.promote_rule\n",
    "\n",
    "promote_rule(::Type{MyRational}, ::Type{T}) where {T <: Integer} = MyRational"
   ]
  },
  {
   "cell_type": "markdown",
   "metadata": {
    "colab_type": "text",
    "id": "OSXo1GaxwU9F"
   },
   "source": [
    "This method definition uses **parametric types**: the type `T` can be any type at all, as long as it is a subtype of the `Integer` abstract type. If you tried to define the method `promote_rule(::Type{MyRational}, ::Type{Integer})`, it would expect the type `Integer` itself as the second argument, which would not work, since the `promote_rule()` function will usually be called with concrete types like `Int64` as its arguments."
   ]
  },
  {
   "cell_type": "markdown",
   "metadata": {
    "colab_type": "text",
    "id": "Cn7m2aTTrC6X"
   },
   "source": [
    "Let's check that it works:"
   ]
  },
  {
   "cell_type": "code",
   "execution_count": 69,
   "metadata": {
    "colab": {
     "base_uri": "https://localhost:8080/",
     "height": 34
    },
    "colab_type": "code",
    "id": "bD7p0DHFfaCg",
    "outputId": "e5daf044-1e81-4e73-ad2d-315d4e08bed9"
   },
   "outputs": [
    {
     "data": {
      "text/plain": [
       "(5 ⨸ 1, 2 ⨸ 3)"
      ]
     },
     "execution_count": 69,
     "metadata": {},
     "output_type": "execute_result"
    }
   ],
   "source": [
    "promote(5, 2 ⨸ 3)"
   ]
  },
  {
   "cell_type": "markdown",
   "metadata": {
    "colab_type": "text",
    "id": "WVRYV79ErH81"
   },
   "source": [
    "Yep! Now whenever we call `+`, `-`, etc., with an integer and a `MyRational` value, the integer will get automatically promoted to a `MyRational` value:"
   ]
  },
  {
   "cell_type": "code",
   "execution_count": 70,
   "metadata": {
    "colab": {
     "base_uri": "https://localhost:8080/",
     "height": 40
    },
    "colab_type": "code",
    "id": "lmjjo9lSegy9",
    "outputId": "425fb533-9bea-49da-c1b2-730a5df47d06"
   },
   "outputs": [
    {
     "data": {
      "text/html": [
       "<sup><b>17</b></sup>&frasl;<sub><b>3</b></sub>"
      ],
      "text/plain": [
       "17 ⨸ 3"
      ]
     },
     "execution_count": 70,
     "metadata": {},
     "output_type": "execute_result"
    }
   ],
   "source": [
    "5 + 2 ⨸ 3"
   ]
  },
  {
   "cell_type": "markdown",
   "metadata": {
    "colab_type": "text",
    "id": "B6jVZiYXxuPJ"
   },
   "source": [
    "Under the hood:\n",
    "* this called `+(5, 2 ⨸ 3)`,\n",
    "  * which called the `+(::Number, ::Number)` method (thanks to multiple dispatch),\n",
    "    * which called `promote(5, 2 ⨸ 3)`,\n",
    "      * which called `promote_rule(Int64, MyRational)`,\n",
    "        * which called `promote_rule(::MyRational, ::T) where {T <: Integer}`,\n",
    "          * which returned `MyRational`,\n",
    "    * then the `+(::Number, ::Number)` method called `convert(MyRational, 5)`,\n",
    "      * which called `MyRational(5)`,\n",
    "        * which returned `MyRational(5, 1)`,\n",
    "    * and finally `+(::Number, ::Number)` called `+(MyRational(5, 1), MyRational(2, 3))`,\n",
    "      * which returned `MyRational(17, 3)`."
   ]
  },
  {
   "cell_type": "markdown",
   "metadata": {
    "colab_type": "text",
    "id": "d30Q7aANrik5"
   },
   "source": [
    "The benefit of this approach is that we only need to implement the `+`, `-`, etc. functions for pairs of `MyRational` values, not with all combinations of `MyRational` values and integers."
   ]
  },
  {
   "cell_type": "markdown",
   "metadata": {
    "colab_type": "text",
    "id": "GftnTFTyLchM"
   },
   "source": [
    "If your head hurts, it's perfectly normal. ;-) Writing a new type that is easy to use, flexible and plays nicely with existing types takes a bit of planning and work, but the point is that you will not write these every day, and once you have, they will make your life much easier."
   ]
  },
  {
   "cell_type": "markdown",
   "metadata": {
    "colab_type": "text",
    "id": "GSVv5YNisaxJ"
   },
   "source": [
    "Now let's handle the case where we want to execute operations with `MyRational` values and floats. In this case, we naturally want to promote the `MyRational` value to a float. We first need to define how to convert a `MyRational` value to any subtype of `AbstractFloat`:"
   ]
  },
  {
   "cell_type": "code",
   "execution_count": 71,
   "metadata": {
    "colab": {
     "base_uri": "https://localhost:8080/",
     "height": 34
    },
    "colab_type": "code",
    "id": "DZSFfORzrx4I",
    "outputId": "e58ea0ce-fc6a-4814-e460-bcea748e9f27"
   },
   "outputs": [
    {
     "data": {
      "text/plain": [
       "convert (generic function with 185 methods)"
      ]
     },
     "execution_count": 71,
     "metadata": {},
     "output_type": "execute_result"
    }
   ],
   "source": [
    "convert(::Type{T}, x::MyRational) where {T <: AbstractFloat} = T(x.num / x.den)"
   ]
  },
  {
   "cell_type": "markdown",
   "metadata": {
    "colab_type": "text",
    "id": "XC5z7YxcMjJN"
   },
   "source": [
    "This `convert()` works with any type `T` which is a subtype of `AbstractFloat`. It just computes `x.num / x.den` and converts the result to type `T`. Let's try it:"
   ]
  },
  {
   "cell_type": "code",
   "execution_count": 72,
   "metadata": {
    "colab": {
     "base_uri": "https://localhost:8080/",
     "height": 34
    },
    "colab_type": "code",
    "id": "LxPjD04VMBXg",
    "outputId": "6d97bd75-63c7-4bac-bedf-587c47df1889"
   },
   "outputs": [
    {
     "data": {
      "text/plain": [
       "1.5"
      ]
     },
     "execution_count": 72,
     "metadata": {},
     "output_type": "execute_result"
    }
   ],
   "source": [
    "convert(Float64, 3 ⨸ 2)"
   ]
  },
  {
   "cell_type": "markdown",
   "metadata": {
    "colab_type": "text",
    "id": "Iity08_TMyLa"
   },
   "source": [
    "Now let's define a `promote_rule()` method which will work for any type `T` which is a subtype of `AbstractFloat`, and which will give priority to `T` over `MyRational`:"
   ]
  },
  {
   "cell_type": "code",
   "execution_count": 73,
   "metadata": {
    "colab": {
     "base_uri": "https://localhost:8080/",
     "height": 34
    },
    "colab_type": "code",
    "id": "S2xlgBf8MGa8",
    "outputId": "56e8593d-a8f8-4e12-e499-41732b88f627"
   },
   "outputs": [
    {
     "data": {
      "text/plain": [
       "promote_rule (generic function with 124 methods)"
      ]
     },
     "execution_count": 73,
     "metadata": {},
     "output_type": "execute_result"
    }
   ],
   "source": [
    "promote_rule(::Type{MyRational}, ::Type{T}) where {T <: AbstractFloat} = T"
   ]
  },
  {
   "cell_type": "code",
   "execution_count": 74,
   "metadata": {
    "colab": {
     "base_uri": "https://localhost:8080/",
     "height": 34
    },
    "colab_type": "code",
    "id": "5Xe9_k_GQZw0",
    "outputId": "d639f96e-ef73-4849-d040-39b05ed08118"
   },
   "outputs": [
    {
     "data": {
      "text/plain": [
       "(0.5, 4.0)"
      ]
     },
     "execution_count": 74,
     "metadata": {},
     "output_type": "execute_result"
    }
   ],
   "source": [
    "promote(1 ⨸ 2, 4.0)"
   ]
  },
  {
   "cell_type": "markdown",
   "metadata": {
    "colab_type": "text",
    "id": "ZRQrziIuNONH"
   },
   "source": [
    "Now we can combine floats and `MyRational` values easily:"
   ]
  },
  {
   "cell_type": "code",
   "execution_count": 75,
   "metadata": {
    "colab": {
     "base_uri": "https://localhost:8080/",
     "height": 34
    },
    "colab_type": "code",
    "id": "ncZJSLjTsMsG",
    "outputId": "be4f7891-c455-440a-dfaa-46dd7f757222"
   },
   "outputs": [
    {
     "data": {
      "text/plain": [
       "1.5"
      ]
     },
     "execution_count": 75,
     "metadata": {},
     "output_type": "execute_result"
    }
   ],
   "source": [
    "2.25 ^ (1 ⨸ 2)"
   ]
  },
  {
   "cell_type": "markdown",
   "metadata": {
    "colab_type": "text",
    "id": "p6msWOnrRwTO"
   },
   "source": [
    "## Parametric Types and Functions"
   ]
  },
  {
   "cell_type": "markdown",
   "metadata": {
    "colab_type": "text",
    "id": "6aNBefNARChe"
   },
   "source": [
    "Julia's `Rational` type is actually a **parametric type** which ensures that the numerator and denominator have the same type `T`, subtype of `Integer`. Here's a new version of our rational struct which enforces the same constraint:"
   ]
  },
  {
   "cell_type": "code",
   "execution_count": 76,
   "metadata": {
    "colab": {},
    "colab_type": "code",
    "id": "I0Vyf_ogRdy0"
   },
   "outputs": [],
   "source": [
    "struct MyRational2{T <: Integer}\n",
    "    num::T\n",
    "    den::T\n",
    "end"
   ]
  },
  {
   "cell_type": "markdown",
   "metadata": {
    "colab_type": "text",
    "id": "SHdhiFdlSwOd"
   },
   "source": [
    "To instantiate this type, we can specify the type `T`:"
   ]
  },
  {
   "cell_type": "code",
   "execution_count": 77,
   "metadata": {
    "colab": {
     "base_uri": "https://localhost:8080/",
     "height": 34
    },
    "colab_type": "code",
    "id": "FTfSXjQ4RseZ",
    "outputId": "5a8ceea0-2973-4926-c972-8c550e650883"
   },
   "outputs": [
    {
     "data": {
      "text/plain": [
       "MyRational2{BigInt}(2, 3)"
      ]
     },
     "execution_count": 77,
     "metadata": {},
     "output_type": "execute_result"
    }
   ],
   "source": [
    "MyRational2{BigInt}(2, 3)"
   ]
  },
  {
   "cell_type": "markdown",
   "metadata": {
    "colab_type": "text",
    "id": "_dFuAINiTboo"
   },
   "source": [
    "Alternatively, we can use the `MyRational2` type's default constructor, with two integers of the same type:"
   ]
  },
  {
   "cell_type": "code",
   "execution_count": 78,
   "metadata": {
    "colab": {
     "base_uri": "https://localhost:8080/",
     "height": 34
    },
    "colab_type": "code",
    "id": "8Q8RWIB8Toq7",
    "outputId": "a57d9d62-5d86-485e-83f3-543de35aa568"
   },
   "outputs": [
    {
     "data": {
      "text/plain": [
       "MyRational2{Int64}(2, 3)"
      ]
     },
     "execution_count": 78,
     "metadata": {},
     "output_type": "execute_result"
    }
   ],
   "source": [
    "MyRational2(2, 3)"
   ]
  },
  {
   "cell_type": "markdown",
   "metadata": {
    "colab_type": "text",
    "id": "8hhYRFcWXKkG"
   },
   "source": [
    "If we want to be able to construct a `MyRational2` with integers of different types, we must write an appropriate constructor which handles the promotion rule:"
   ]
  },
  {
   "cell_type": "code",
   "execution_count": 79,
   "metadata": {
    "colab": {
     "base_uri": "https://localhost:8080/",
     "height": 34
    },
    "colab_type": "code",
    "id": "BdRaOp44XS-I",
    "outputId": "f154cd7d-1cb0-41fc-8df8-cde2ffeff0e2"
   },
   "outputs": [
    {
     "data": {
      "text/plain": [
       "MyRational2"
      ]
     },
     "execution_count": 79,
     "metadata": {},
     "output_type": "execute_result"
    }
   ],
   "source": [
    "function MyRational2(num::Integer, den::Integer)\n",
    "    MyRational2(promote(num, den)...)\n",
    "end"
   ]
  },
  {
   "cell_type": "markdown",
   "metadata": {
    "colab_type": "text",
    "id": "F1-HWooSXwRj"
   },
   "source": [
    "This constructor accepts two integers of potentially different types, and promotes them to the same type. Then it calls the default `MyRational2` constructor which expects two arguments of the same type. The syntax `f(args...)` is analog to Python's `f(*args)`."
   ]
  },
  {
   "cell_type": "markdown",
   "metadata": {
    "colab_type": "text",
    "id": "ui3Oe7CHYhKs"
   },
   "source": [
    "Let's see if this works:"
   ]
  },
  {
   "cell_type": "code",
   "execution_count": 80,
   "metadata": {
    "colab": {
     "base_uri": "https://localhost:8080/",
     "height": 34
    },
    "colab_type": "code",
    "id": "55PS-B4kXsMv",
    "outputId": "14e129bc-73a1-4170-e06c-c12b7428f546"
   },
   "outputs": [
    {
     "data": {
      "text/plain": [
       "MyRational2{BigInt}(2, 3)"
      ]
     },
     "execution_count": 80,
     "metadata": {},
     "output_type": "execute_result"
    }
   ],
   "source": [
    "MyRational2(2, BigInt(3))"
   ]
  },
  {
   "cell_type": "markdown",
   "metadata": {
    "colab_type": "text",
    "id": "FYBh3sMgXvIy"
   },
   "source": [
    "Great!"
   ]
  },
  {
   "cell_type": "markdown",
   "metadata": {
    "colab_type": "text",
    "id": "TFB6iS8cYuwk"
   },
   "source": [
    "Note that all parametrized types such as `MyRational2{Int64}` or `MyRational2{BigInt}` are subtypes of `MyRational2`. So if a function accepts a `MyRational2` argument, you can pass it an instance of any specific, parametrized type:"
   ]
  },
  {
   "cell_type": "code",
   "execution_count": 81,
   "metadata": {
    "colab": {
     "base_uri": "https://localhost:8080/",
     "height": 51
    },
    "colab_type": "code",
    "id": "Xoe56vbfZXr8",
    "outputId": "b29faf99-5326-480f-c0b2-21f5bd933efb"
   },
   "outputs": [
    {
     "name": "stdout",
     "output_type": "stream",
     "text": [
      "MyRational2{BigInt}(1, 2)\n",
      "MyRational2{Int64}(1, 2)\n"
     ]
    }
   ],
   "source": [
    "function for_any_my_rational2(x::MyRational2)\n",
    "    println(x)\n",
    "end\n",
    "\n",
    "for_any_my_rational2(MyRational2{BigInt}(1, 2))\n",
    "for_any_my_rational2(MyRational2{Int64}(1, 2))"
   ]
  },
  {
   "cell_type": "markdown",
   "metadata": {
    "colab_type": "text",
    "id": "KK02R7mAazjo"
   },
   "source": [
    "A more explicit (but verbose) syntax for this function is:"
   ]
  },
  {
   "cell_type": "code",
   "execution_count": 82,
   "metadata": {
    "colab": {
     "base_uri": "https://localhost:8080/",
     "height": 34
    },
    "colab_type": "code",
    "id": "w9wLF0uYa377",
    "outputId": "4a3efe97-616d-40b2-a0d7-7278301933a8"
   },
   "outputs": [
    {
     "data": {
      "text/plain": [
       "for_any_my_rational2 (generic function with 1 method)"
      ]
     },
     "execution_count": 82,
     "metadata": {},
     "output_type": "execute_result"
    }
   ],
   "source": [
    "function for_any_my_rational2(x::MyRational2{T}) where {T <: Integer}\n",
    "    println(x)\n",
    "end"
   ]
  },
  {
   "cell_type": "markdown",
   "metadata": {
    "colab_type": "text",
    "id": "HzrkuhIMT3rq"
   },
   "source": [
    "It's useful to think of types as sets. For example, the `Int64` type represents the set of all 64-bit integer values, so `42 isa Int64`:\n",
    "* When `x` is an instance of some type `T`, it is an element of the set `T` represents, and `x isa T`.\n",
    "* When `U` is a subtype of `V`, `U` is a subset of `V`, and `U <: V`.\n",
    "\n",
    "The `MyRational2` type itself (without any parameter) represents the set of all values of `MyRational2{T}` for all subtypes `T` of `Integer`. In other words, it is the union of all the `MyRational2{T}` types. This is called a `UnionAll` type, and indeed the type `MyRational2` itself is an instance of the `UnionAll` type:"
   ]
  },
  {
   "cell_type": "code",
   "execution_count": 83,
   "metadata": {
    "colab": {},
    "colab_type": "code",
    "id": "hGKucwR4Z78q"
   },
   "outputs": [],
   "source": [
    "@assert MyRational2{BigInt}(2, 3) isa MyRational2{BigInt}\n",
    "@assert MyRational2{BigInt}(2, 3) isa MyRational2\n",
    "@assert MyRational2 === (MyRational2{T} where {T <: Integer})\n",
    "@assert MyRational2{BigInt} <: MyRational2\n",
    "@assert MyRational2 isa UnionAll"
   ]
  },
  {
   "cell_type": "markdown",
   "metadata": {
    "colab_type": "text",
    "id": "Tv483WelU4It"
   },
   "source": [
    "If we dump the `MyRational2` type, we can see that it is a `UnionAll` instance, with a parameter type `T`, constrained to a subtype of the `Integer` type (since the upper bound `ub` is `Integer`):"
   ]
  },
  {
   "cell_type": "code",
   "execution_count": 84,
   "metadata": {
    "colab": {
     "base_uri": "https://localhost:8080/",
     "height": 153
    },
    "colab_type": "code",
    "id": "6Xzox_pwU1AA",
    "outputId": "d50d8b07-bf3f-4c11-f565-d69ea7197103"
   },
   "outputs": [
    {
     "name": "stdout",
     "output_type": "stream",
     "text": [
      "UnionAll\n",
      "  var: TypeVar\n",
      "    name: Symbol T\n",
      "    lb: Union{}\n",
      "    ub: Integer <: Real\n",
      "  body: MyRational2{T<:Integer} <: Any\n",
      "    num::T\n",
      "    den::T\n"
     ]
    }
   ],
   "source": [
    "dump(MyRational2)"
   ]
  },
  {
   "cell_type": "markdown",
   "metadata": {
    "colab_type": "text",
    "id": "eEpPNFJBcoag"
   },
   "source": [
    "There's a lot more to learn about Julia types. When you feel ready to explore this in more depth, check out [this page](https://docs.julialang.org/en/v1.4/manual/types/). You can also take a look at the [source code of Julia's rationals](https://github.com/JuliaLang/julia/blob/master/base/rational.jl)."
   ]
  }
 ],
 "metadata": {
  "kernelspec": {
   "display_name": "Julia 1.4.1",
   "language": "julia",
   "name": "julia-1.4"
  },
  "language_info": {
   "file_extension": ".jl",
   "mimetype": "application/julia",
   "name": "julia",
   "version": "1.4.1"
  }
 },
 "nbformat": 4,
 "nbformat_minor": 4
}
